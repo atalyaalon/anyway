{
 "cells": [
  {
   "cell_type": "markdown",
   "metadata": {
    "toc": true
   },
   "source": [
    "<h1>Table of Contents<span class=\"tocSkip\"></span></h1>\n",
    "<div class=\"toc\"><ul class=\"toc-item\"><li><span><a href=\"#constants---weights\" data-toc-modified-id=\"constants---weights-1\"><span class=\"toc-item-num\">1&nbsp;&nbsp;</span>constants - weights</a></span></li><li><span><a href=\"#filter-only-injured-(injury_severity-!=-0)\" data-toc-modified-id=\"filter-only-injured-(injury_severity-!=-0)-2\"><span class=\"toc-item-num\">2&nbsp;&nbsp;</span>filter only injured (injury_severity != 0)</a></span><ul class=\"toc-item\"><li><span><a href=\"#validate-severities\" data-toc-modified-id=\"validate-severities-2.1\"><span class=\"toc-item-num\">2.1&nbsp;&nbsp;</span>validate severities</a></span></li></ul></li><li><span><a href=\"#filter-ages-5-19-only\" data-toc-modified-id=\"filter-ages-5-19-only-3\"><span class=\"toc-item-num\">3&nbsp;&nbsp;</span>filter ages 5-19 only</a></span><ul class=\"toc-item\"><li><span><a href=\"#validate-ages\" data-toc-modified-id=\"validate-ages-3.1\"><span class=\"toc-item-num\">3.1&nbsp;&nbsp;</span>validate ages</a></span></li></ul></li><li><span><a href=\"#unique-id-per-involved\" data-toc-modified-id=\"unique-id-per-involved-4\"><span class=\"toc-item-num\">4&nbsp;&nbsp;</span>unique id per involved</a></span></li><li><span><a href=\"#filter-pedastrians,-cyclists-or-electrical-vehicles\" data-toc-modified-id=\"filter-pedastrians,-cyclists-or-electrical-vehicles-5\"><span class=\"toc-item-num\">5&nbsp;&nbsp;</span>filter pedastrians, cyclists or electrical vehicles</a></span></li><li><span><a href=\"#check-vehicle_or_pedastrian\" data-toc-modified-id=\"check-vehicle_or_pedastrian-6\"><span class=\"toc-item-num\">6&nbsp;&nbsp;</span>check vehicle_or_pedastrian</a></span></li><li><span><a href=\"#see-schools-types-(no-kindergardens)\" data-toc-modified-id=\"see-schools-types-(no-kindergardens)-7\"><span class=\"toc-item-num\">7&nbsp;&nbsp;</span>see schools types (no kindergardens)</a></span></li><li><span><a href=\"#count-schools\" data-toc-modified-id=\"count-schools-8\"><span class=\"toc-item-num\">8&nbsp;&nbsp;</span>count schools</a></span><ul class=\"toc-item\"><li><span><a href=\"#Create-squares\" data-toc-modified-id=\"Create-squares-8.1\"><span class=\"toc-item-num\">8.1&nbsp;&nbsp;</span>Create squares</a></span></li></ul></li><li><span><a href=\"#Get-values-of-past-5-years-WITH-MIKBATZ---June-2015---May-2020-and-calculate-formula-using--נוהל-פר״ת\" data-toc-modified-id=\"Get-values-of-past-5-years-WITH-MIKBATZ---June-2015---May-2020-and-calculate-formula-using--נוהל-פר״ת-9\"><span class=\"toc-item-num\">9&nbsp;&nbsp;</span>Get values of past 5 years WITH MIKBATZ - June 2015 - May 2020 and calculate formula using  נוהל פר״ת</a></span></li><li><span><a href=\"#Get-values-of-past-5-years-WITHOUT-MIKBATZ---June-2015---May-2020-and-calculate-formula-using--נוהל-פר״ת\" data-toc-modified-id=\"Get-values-of-past-5-years-WITHOUT-MIKBATZ---June-2015---May-2020-and-calculate-formula-using--נוהל-פר״ת-10\"><span class=\"toc-item-num\">10&nbsp;&nbsp;</span>Get values of past 5 years WITHOUT MIKBATZ - June 2015 - May 2020 and calculate formula using  נוהל פר״ת</a></span></li><li><span><a href=\"#Compare-cities\" data-toc-modified-id=\"Compare-cities-11\"><span class=\"toc-item-num\">11&nbsp;&nbsp;</span>Compare cities</a></span></li></ul></div>"
   ]
  },
  {
   "cell_type": "code",
   "execution_count": 1,
   "metadata": {
    "ExecuteTime": {
     "end_time": "2020-08-18T23:03:00.267038Z",
     "start_time": "2020-08-18T23:02:57.499621Z"
    }
   },
   "outputs": [],
   "source": [
    "import pandas as pd\n",
    "from collections import defaultdict\n",
    "from sklearn.cluster import KMeans\n",
    "import matplotlib.pyplot as plt\n",
    "from shapely.geometry import Point, Polygon\n",
    "import os\n",
    "import math"
   ]
  },
  {
   "cell_type": "markdown",
   "metadata": {},
   "source": [
    "### constants - weights"
   ]
  },
  {
   "cell_type": "code",
   "execution_count": 2,
   "metadata": {
    "ExecuteTime": {
     "end_time": "2020-08-18T23:03:00.276104Z",
     "start_time": "2020-08-18T23:03:00.270519Z"
    }
   },
   "outputs": [],
   "source": [
    "killed_weight = 6600/7581\n",
    "severe_weight = 956/7581\n",
    "light_weight = 25/7581"
   ]
  },
  {
   "cell_type": "code",
   "execution_count": 3,
   "metadata": {
    "ExecuteTime": {
     "end_time": "2020-08-18T23:03:00.350415Z",
     "start_time": "2020-08-18T23:03:00.280965Z"
    }
   },
   "outputs": [],
   "source": [
    "schools = defaultdict(int)\n",
    "for i, filename in enumerate(os.listdir('schools_data')):\n",
    "    schools[i] += 1"
   ]
  },
  {
   "cell_type": "code",
   "execution_count": 4,
   "metadata": {
    "ExecuteTime": {
     "end_time": "2020-08-18T23:05:58.061617Z",
     "start_time": "2020-08-18T23:03:00.353042Z"
    }
   },
   "outputs": [
    {
     "name": "stdout",
     "output_type": "stream",
     "text": [
      "0\n",
      "100\n",
      "200\n",
      "300\n",
      "400\n",
      "500\n",
      "600\n",
      "700\n",
      "800\n",
      "900\n",
      "1000\n",
      "1100\n",
      "1200\n",
      "1300\n",
      "1400\n",
      "1500\n",
      "1600\n",
      "1700\n",
      "1800\n",
      "1900\n",
      "2000\n",
      "2100\n",
      "2200\n",
      "2300\n",
      "2400\n",
      "2500\n",
      "2600\n",
      "2700\n",
      "2800\n",
      "2900\n",
      "3000\n",
      "3100\n",
      "3200\n",
      "3300\n",
      "3400\n",
      "3500\n",
      "3600\n",
      "3700\n",
      "3800\n",
      "3900\n",
      "4000\n",
      "4100\n",
      "4200\n",
      "4300\n",
      "4400\n",
      "4500\n",
      "4600\n",
      "4700\n",
      "4800\n"
     ]
    }
   ],
   "source": [
    "li = []\n",
    "\n",
    "for i, filename in enumerate(os.listdir('schools_data')):\n",
    "    if i % 100 == 0:\n",
    "        print(i)\n",
    "    df = pd.read_csv(os.path.join('schools_data', filename), index_col=None, header=0)\n",
    "    li.append(df)\n",
    "\n",
    "total_df = pd.concat(li, axis=0, ignore_index=True)\n",
    "total_df['accident_timestamp'] = pd.to_datetime(total_df.accident_timestamp.values)"
   ]
  },
  {
   "cell_type": "markdown",
   "metadata": {},
   "source": [
    "### filter only injured (injury_severity != 0)"
   ]
  },
  {
   "cell_type": "code",
   "execution_count": 5,
   "metadata": {
    "ExecuteTime": {
     "end_time": "2020-08-18T23:05:58.720361Z",
     "start_time": "2020-08-18T23:05:58.063699Z"
    }
   },
   "outputs": [],
   "source": [
    "total_df = total_df.loc[total_df.injury_severity != 0]"
   ]
  },
  {
   "cell_type": "markdown",
   "metadata": {},
   "source": [
    "#### validate severities"
   ]
  },
  {
   "cell_type": "code",
   "execution_count": 6,
   "metadata": {
    "ExecuteTime": {
     "end_time": "2020-08-18T23:05:58.738557Z",
     "start_time": "2020-08-18T23:05:58.722518Z"
    }
   },
   "outputs": [
    {
     "name": "stdout",
     "output_type": "stream",
     "text": [
      "['פצוע קל' 'פצוע קשה' 'הרוג']\n"
     ]
    }
   ],
   "source": [
    "print(total_df.injury_severity_hebrew.unique())"
   ]
  },
  {
   "cell_type": "code",
   "execution_count": 7,
   "metadata": {
    "ExecuteTime": {
     "end_time": "2020-08-18T23:05:58.760338Z",
     "start_time": "2020-08-18T23:05:58.746590Z"
    }
   },
   "outputs": [
    {
     "name": "stdout",
     "output_type": "stream",
     "text": [
      "[3 2 1]\n"
     ]
    }
   ],
   "source": [
    "print(total_df.injury_severity.unique())"
   ]
  },
  {
   "cell_type": "markdown",
   "metadata": {},
   "source": [
    "### filter ages 5-19 only"
   ]
  },
  {
   "cell_type": "code",
   "execution_count": 8,
   "metadata": {
    "ExecuteTime": {
     "end_time": "2020-08-18T23:05:59.007104Z",
     "start_time": "2020-08-18T23:05:58.764105Z"
    }
   },
   "outputs": [],
   "source": [
    "total_df = total_df.loc[total_df.age_group >= 2]"
   ]
  },
  {
   "cell_type": "markdown",
   "metadata": {},
   "source": [
    "#### validate ages"
   ]
  },
  {
   "cell_type": "code",
   "execution_count": 9,
   "metadata": {
    "ExecuteTime": {
     "end_time": "2020-08-18T23:05:59.017793Z",
     "start_time": "2020-08-18T23:05:59.009107Z"
    }
   },
   "outputs": [
    {
     "name": "stdout",
     "output_type": "stream",
     "text": [
      "['15-19' '05-09' '10-14']\n"
     ]
    }
   ],
   "source": [
    "print(total_df.age_group_hebrew.unique())"
   ]
  },
  {
   "cell_type": "code",
   "execution_count": 10,
   "metadata": {
    "ExecuteTime": {
     "end_time": "2020-08-18T23:05:59.032371Z",
     "start_time": "2020-08-18T23:05:59.020920Z"
    }
   },
   "outputs": [
    {
     "name": "stdout",
     "output_type": "stream",
     "text": [
      "[4 2 3]\n"
     ]
    }
   ],
   "source": [
    "print(total_df.age_group.unique())"
   ]
  },
  {
   "cell_type": "markdown",
   "metadata": {},
   "source": [
    "### unique id per involved"
   ]
  },
  {
   "cell_type": "code",
   "execution_count": 11,
   "metadata": {
    "ExecuteTime": {
     "end_time": "2020-08-18T23:05:59.043513Z",
     "start_time": "2020-08-18T23:05:59.035056Z"
    }
   },
   "outputs": [
    {
     "data": {
      "text/plain": [
       "int"
      ]
     },
     "execution_count": 11,
     "metadata": {},
     "output_type": "execute_result"
    }
   ],
   "source": [
    "type(total_df['provider_and_id'].iloc[0])"
   ]
  },
  {
   "cell_type": "code",
   "execution_count": 12,
   "metadata": {
    "ExecuteTime": {
     "end_time": "2020-08-18T23:05:59.128957Z",
     "start_time": "2020-08-18T23:05:59.045773Z"
    }
   },
   "outputs": [],
   "source": [
    "total_df['inv_unique_id'] = total_df['provider_and_id'].astype(str) + '_' +  total_df['involve_id'].astype(str)\n"
   ]
  },
  {
   "cell_type": "markdown",
   "metadata": {},
   "source": [
    "### filter pedastrians, cyclists or electrical vehicles"
   ]
  },
  {
   "cell_type": "code",
   "execution_count": 13,
   "metadata": {
    "ExecuteTime": {
     "end_time": "2020-08-18T23:05:59.587411Z",
     "start_time": "2020-08-18T23:05:59.132648Z"
    }
   },
   "outputs": [],
   "source": [
    "total_df = total_df.loc[(total_df.injured_type == 1) | (total_df.involve_vehicle_type == 21) | (total_df.involve_vehicle_type == 23) | (total_df.involve_vehicle_type == 15)]\n",
    "                                                                                                 "
   ]
  },
  {
   "cell_type": "code",
   "execution_count": 14,
   "metadata": {
    "ExecuteTime": {
     "end_time": "2020-08-18T23:06:01.558391Z",
     "start_time": "2020-08-18T23:05:59.589732Z"
    }
   },
   "outputs": [],
   "source": [
    "total_df['vehicle_or_pedastrian'] = total_df.apply(lambda x: x['involve_vehicle_type_hebrew'] if x['injured_type_hebrew'] != 'הולך רגל' else  x['injured_type_hebrew'],\n",
    "                                                  axis=1)\n"
   ]
  },
  {
   "cell_type": "markdown",
   "metadata": {},
   "source": [
    "### check vehicle_or_pedastrian"
   ]
  },
  {
   "cell_type": "code",
   "execution_count": 15,
   "metadata": {
    "ExecuteTime": {
     "end_time": "2020-08-18T23:06:01.575258Z",
     "start_time": "2020-08-18T23:06:01.560690Z"
    }
   },
   "outputs": [
    {
     "data": {
      "text/plain": [
       "array(['אופניים', 'הולך רגל', 'אופניים חשמליים', 'קורקינט חשמלי'],\n",
       "      dtype=object)"
      ]
     },
     "execution_count": 15,
     "metadata": {},
     "output_type": "execute_result"
    }
   ],
   "source": [
    "total_df['vehicle_or_pedastrian'].unique()"
   ]
  },
  {
   "cell_type": "code",
   "execution_count": 16,
   "metadata": {
    "ExecuteTime": {
     "end_time": "2020-08-18T23:06:01.583634Z",
     "start_time": "2020-08-18T23:06:01.577617Z"
    }
   },
   "outputs": [
    {
     "data": {
      "text/plain": [
       "(58133, 168)"
      ]
     },
     "execution_count": 16,
     "metadata": {},
     "output_type": "execute_result"
    }
   ],
   "source": [
    "total_df.shape"
   ]
  },
  {
   "cell_type": "markdown",
   "metadata": {},
   "source": [
    "### see schools types (no kindergardens)"
   ]
  },
  {
   "cell_type": "code",
   "execution_count": 17,
   "metadata": {
    "ExecuteTime": {
     "end_time": "2020-08-18T23:06:01.597380Z",
     "start_time": "2020-08-18T23:06:01.586437Z"
    }
   },
   "outputs": [
    {
     "data": {
      "text/plain": [
       "array(['בית ספר', 'תלמוד תורה', 'ישיבה קטנה', 'בי\"ס תורני',\n",
       "       'ישיבה תיכונית', 'בי\"ס חקלאי', 'בי\"ס רפואי', 'בי\"ס כנסייתי',\n",
       "       'אולפנה', 'בי\"ס אקסטרני', 'בי\"ס קיבוצי',\n",
       "       'תלמוד תורה ליד מעיין חינוך התורני', 'בי\"ס מושבי'], dtype=object)"
      ]
     },
     "execution_count": 17,
     "metadata": {},
     "output_type": "execute_result"
    }
   ],
   "source": [
    "total_df.institution_type.unique()"
   ]
  },
  {
   "cell_type": "markdown",
   "metadata": {},
   "source": [
    "### count schools"
   ]
  },
  {
   "cell_type": "code",
   "execution_count": 18,
   "metadata": {
    "ExecuteTime": {
     "end_time": "2020-08-18T23:06:01.609099Z",
     "start_time": "2020-08-18T23:06:01.599660Z"
    }
   },
   "outputs": [
    {
     "data": {
      "text/plain": [
       "3409"
      ]
     },
     "execution_count": 18,
     "metadata": {},
     "output_type": "execute_result"
    }
   ],
   "source": [
    "total_df.school_id.nunique()"
   ]
  },
  {
   "cell_type": "markdown",
   "metadata": {},
   "source": [
    "#### Create squares"
   ]
  },
  {
   "cell_type": "code",
   "execution_count": 19,
   "metadata": {
    "ExecuteTime": {
     "end_time": "2020-08-18T23:06:01.626415Z",
     "start_time": "2020-08-18T23:06:01.613021Z"
    }
   },
   "outputs": [],
   "source": [
    "def get_bounding_box(latitude, longitude, distance_in_km):\n",
    "    latitude = math.radians(latitude)\n",
    "    longitude = math.radians(longitude)\n",
    "\n",
    "    radius = 6371\n",
    "    # Radius of the parallel at given latitude\n",
    "    parallel_radius = radius * math.cos(latitude)\n",
    "\n",
    "    lat_min = latitude - distance_in_km / radius\n",
    "    lat_max = latitude + distance_in_km / radius\n",
    "    lon_min = longitude - distance_in_km / parallel_radius\n",
    "    lon_max = longitude + distance_in_km / parallel_radius\n",
    "    rad2deg = math.degrees\n",
    "\n",
    "    return rad2deg(lat_min), rad2deg(lon_min), rad2deg(lat_max), rad2deg(lon_max)"
   ]
  },
  {
   "cell_type": "code",
   "execution_count": 20,
   "metadata": {
    "ExecuteTime": {
     "end_time": "2020-08-18T23:06:01.635353Z",
     "start_time": "2020-08-18T23:06:01.629704Z"
    }
   },
   "outputs": [],
   "source": [
    "all_centers = [(32.0419758, 34.7551301), (31.7933933, 35.2206836)]\n",
    "# yaffa, jerusalem"
   ]
  },
  {
   "cell_type": "code",
   "execution_count": 21,
   "metadata": {
    "ExecuteTime": {
     "end_time": "2020-08-18T23:06:03.972891Z",
     "start_time": "2020-08-18T23:06:01.641770Z"
    }
   },
   "outputs": [
    {
     "name": "stdout",
     "output_type": "stream",
     "text": [
      "[(34.749825367050114, 32.03747919197041), (34.749825367050114, 32.0464724080296), (34.76043483294989, 32.0464724080296), (34.76043483294989, 32.03747919197041)]\n",
      "[(35.21539318317766, 31.788896691970407), (35.21539318317766, 31.797889908029596), (35.22597401682234, 31.797889908029596), (35.22597401682234, 31.788896691970407)]\n"
     ]
    }
   ],
   "source": [
    "fake_id = -1\n",
    "analysis = defaultdict(dict)\n",
    "all_schools_to_exclude = []\n",
    "schools_to_exclude_lists = []\n",
    "for center_lat, center_lon in all_centers:\n",
    "    lat_min, lon_min, lat_max, lon_max = get_bounding_box(center_lat, center_lon, 0.5)\n",
    "    baseX = lon_min\n",
    "    baseY = lat_min\n",
    "    distanceX = lon_max\n",
    "    distanceY = lat_max\n",
    "\n",
    "    poly = Polygon([(baseX, baseY), \n",
    "                    (baseX, distanceY),\n",
    "                    (distanceX, distanceY),\n",
    "                    (distanceX, baseY)])\n",
    "    print([(baseX, baseY), \n",
    "                    (baseX, distanceY),\n",
    "                    (distanceX, distanceY),\n",
    "                    (distanceX, baseY)])\n",
    "    bnbr_schools = total_df.drop_duplicates(['school_id','school_longitude', 'school_latitude']).loc[:,['school_id','school_longitude', 'school_latitude']].to_dict(orient='records')\n",
    "    schools_in_1km_box = [r['school_id'] for r in bnbr_schools if poly.contains(Point(r['school_longitude'], r['school_latitude']))]\n",
    "    all_schools_to_exclude += schools_in_1km_box\n",
    "    schools_to_exclude_lists.append(schools_in_1km_box)\n",
    "    \n",
    "    \n",
    "    injured_coor = total_df.loc[((total_df.accident_timestamp >= pd.Timestamp('2015-06-01')) & (total_df.accident_timestamp <= pd.Timestamp('2020-05-31')))]\n",
    "    injured_coor = injured_coor.loc[:,['inv_unique_id', 'longitude', 'latitude', 'injury_severity', 'provider_and_id', 'school_yishuv_name']].to_dict(orient='records')\n",
    "\n",
    "    injured_in_1km_box = [(r['inv_unique_id'], r['injury_severity'], r['provider_and_id'], r['school_yishuv_name']) for r in injured_coor if poly.contains(Point(r['longitude'], r['latitude']))]\n",
    "    tmp_df = pd.DataFrame(injured_in_1km_box)\n",
    "    tmp_df.columns = ['inv_unique_id', 'injury_severity', 'provider_and_id', 'school_yishuv_name']\n",
    "    \n",
    "    killed = tmp_df.loc[tmp_df.loc[:,'injury_severity'] == 1].inv_unique_id.nunique()\n",
    "    severe_injured = tmp_df.loc[tmp_df.loc[:,'injury_severity'] == 2].inv_unique_id.nunique()\n",
    "    light_injured = tmp_df.loc[tmp_df.loc[:,'injury_severity'] == 3].inv_unique_id.nunique()\n",
    "    total_accidents = tmp_df.provider_and_id.nunique()\n",
    "    score = (killed * killed_weight + severe_injured * severe_weight  + light_injured * light_weight) * (total_accidents)\n",
    "    \n",
    "    \n",
    "    school_yishuv_name = tmp_df.school_yishuv_name.iloc[0] \n",
    "    analysis[fake_id]['score'] = score\n",
    "    analysis[fake_id]['school_name'] = school_yishuv_name + 'מקבץ בתי״ס ' + str(-fake_id)\n",
    "    analysis[fake_id]['school_yishuv_name'] = tmp_df.school_yishuv_name.iloc[0]\n",
    "    analysis[fake_id]['killed'] = killed\n",
    "    analysis[fake_id]['severe_injured'] = severe_injured\n",
    "    analysis[fake_id]['light_injured'] = light_injured\n",
    "    analysis[fake_id]['total_accidents'] = total_accidents\n",
    "    analysis[fake_id]['school_longitude'] = center_lon\n",
    "    analysis[fake_id]['school_latitude'] = center_lat\n",
    "    fake_id -= 1"
   ]
  },
  {
   "cell_type": "markdown",
   "metadata": {},
   "source": [
    "### Get values of past 5 years WITH MIKBATZ - June 2015 - May 2020 and calculate formula using  נוהל פר״ת"
   ]
  },
  {
   "cell_type": "code",
   "execution_count": 22,
   "metadata": {
    "ExecuteTime": {
     "end_time": "2020-08-18T23:06:03.987588Z",
     "start_time": "2020-08-18T23:06:03.984649Z"
    }
   },
   "outputs": [],
   "source": [
    "killed_weight = 6600/7581\n",
    "severe_weight = 956/7581\n",
    "light_weight = 25/7581"
   ]
  },
  {
   "cell_type": "code",
   "execution_count": 23,
   "metadata": {
    "ExecuteTime": {
     "end_time": "2020-08-18T23:06:27.625145Z",
     "start_time": "2020-08-18T23:06:03.993832Z"
    }
   },
   "outputs": [],
   "source": [
    "schools_df = total_df.copy()\n",
    "for school_id in schools_df.school_id.unique():\n",
    "    if school_id in all_schools_to_exclude:\n",
    "        continue\n",
    "    school_df = schools_df.loc[schools_df.school_id == school_id]\n",
    "    df = school_df.loc[(school_df.accident_timestamp >= pd.Timestamp('2015-06-01')) & (school_df.accident_timestamp <= pd.Timestamp('2020-05-31'))]\n",
    "    killed = df.loc[df.injury_severity_hebrew == 'הרוג'].inv_unique_id.nunique()\n",
    "    severe_injured = df.loc[df.injury_severity_hebrew == 'פצוע קשה'].inv_unique_id.nunique()\n",
    "    light_injured = df.loc[df.injury_severity_hebrew == 'פצוע קל'].inv_unique_id.nunique()\n",
    "    total_accidents = df.provider_and_id.nunique()\n",
    "    score = (killed * killed_weight + severe_injured * severe_weight  + light_injured * light_weight) * (total_accidents)\n",
    "    analysis[school_id]['score'] = score\n",
    "    analysis[school_id]['school_name'] = school_df.school_name.iloc[0]\n",
    "    analysis[school_id]['school_yishuv_name'] = school_df.school_yishuv_name.iloc[0]\n",
    "    analysis[school_id]['killed'] = killed\n",
    "    analysis[school_id]['severe_injured'] = severe_injured\n",
    "    analysis[school_id]['light_injured'] = light_injured\n",
    "    analysis[school_id]['school_longitude'] = school_df.school_longitude.iloc[0]\n",
    "    analysis[school_id]['school_latitude'] = school_df.school_latitude.iloc[0]\n",
    "analysis = pd.DataFrame(analysis).T"
   ]
  },
  {
   "cell_type": "code",
   "execution_count": 24,
   "metadata": {
    "ExecuteTime": {
     "end_time": "2020-08-18T23:06:27.639708Z",
     "start_time": "2020-08-18T23:06:27.627216Z"
    }
   },
   "outputs": [],
   "source": [
    "analysis.sort_values('score', inplace=True, ascending=False)"
   ]
  },
  {
   "cell_type": "code",
   "execution_count": 25,
   "metadata": {
    "ExecuteTime": {
     "end_time": "2020-08-18T23:06:27.687024Z",
     "start_time": "2020-08-18T23:06:27.644068Z"
    }
   },
   "outputs": [],
   "source": [
    "analysis.to_csv('schools_01_06_15__31_05_20_mikbatz.csv')"
   ]
  },
  {
   "cell_type": "code",
   "execution_count": 26,
   "metadata": {
    "ExecuteTime": {
     "end_time": "2020-08-18T23:06:27.695495Z",
     "start_time": "2020-08-18T23:06:27.689151Z"
    }
   },
   "outputs": [
    {
     "data": {
      "text/plain": [
       "[5, 56]"
      ]
     },
     "execution_count": 26,
     "metadata": {},
     "output_type": "execute_result"
    }
   ],
   "source": [
    "[len(ls) for ls in schools_to_exclude_lists]"
   ]
  },
  {
   "cell_type": "code",
   "execution_count": 27,
   "metadata": {
    "ExecuteTime": {
     "end_time": "2020-08-18T23:06:27.705815Z",
     "start_time": "2020-08-18T23:06:27.697736Z"
    }
   },
   "outputs": [
    {
     "data": {
      "text/plain": [
       "61"
      ]
     },
     "execution_count": 27,
     "metadata": {},
     "output_type": "execute_result"
    }
   ],
   "source": [
    "len(set(all_schools_to_exclude))"
   ]
  },
  {
   "cell_type": "markdown",
   "metadata": {},
   "source": [
    "### Get values of past 5 years WITHOUT MIKBATZ - June 2015 - May 2020 and calculate formula using  נוהל פר״ת"
   ]
  },
  {
   "cell_type": "code",
   "execution_count": 35,
   "metadata": {
    "ExecuteTime": {
     "end_time": "2020-08-18T23:12:22.559237Z",
     "start_time": "2020-08-18T23:12:22.553378Z"
    }
   },
   "outputs": [],
   "source": [
    "analysis = defaultdict(dict)"
   ]
  },
  {
   "cell_type": "code",
   "execution_count": 36,
   "metadata": {
    "ExecuteTime": {
     "end_time": "2020-08-18T23:12:48.542877Z",
     "start_time": "2020-08-18T23:12:22.839415Z"
    }
   },
   "outputs": [],
   "source": [
    "schools_df = total_df.copy()\n",
    "for school_id in schools_df.school_id.unique():\n",
    "    school_df = schools_df.loc[schools_df.school_id == school_id]\n",
    "    df = school_df.loc[(school_df.accident_timestamp >= pd.Timestamp('2015-06-01')) & (school_df.accident_timestamp <= pd.Timestamp('2020-05-31'))]\n",
    "    killed = df.loc[df.injury_severity_hebrew == 'הרוג'].inv_unique_id.nunique()\n",
    "    severe_injured = df.loc[df.injury_severity_hebrew == 'פצוע קשה'].inv_unique_id.nunique()\n",
    "    light_injured = df.loc[df.injury_severity_hebrew == 'פצוע קל'].inv_unique_id.nunique()\n",
    "    total_accidents = df.provider_and_id.nunique()\n",
    "    score = (killed * killed_weight + severe_injured * severe_weight  + light_injured * light_weight) * (total_accidents)\n",
    "    analysis[school_id]['score'] = score\n",
    "    analysis[school_id]['school_name'] = school_df.school_name.iloc[0]\n",
    "    analysis[school_id]['school_yishuv_name'] = school_df.school_yishuv_name.iloc[0]\n",
    "    analysis[school_id]['killed'] = killed\n",
    "    analysis[school_id]['severe_injured'] = severe_injured\n",
    "    analysis[school_id]['light_injured'] = light_injured\n",
    "    analysis[school_id]['school_longitude'] = school_df.school_longitude.iloc[0]\n",
    "    analysis[school_id]['school_latitude'] = school_df.school_latitude.iloc[0]\n",
    "analysis = pd.DataFrame(analysis).T"
   ]
  },
  {
   "cell_type": "code",
   "execution_count": 37,
   "metadata": {
    "ExecuteTime": {
     "end_time": "2020-08-18T23:12:48.561599Z",
     "start_time": "2020-08-18T23:12:48.545681Z"
    }
   },
   "outputs": [],
   "source": [
    "analysis.sort_values('score', inplace=True, ascending=False)"
   ]
  },
  {
   "cell_type": "code",
   "execution_count": 38,
   "metadata": {
    "ExecuteTime": {
     "end_time": "2020-08-18T23:12:48.634528Z",
     "start_time": "2020-08-18T23:12:48.565100Z"
    }
   },
   "outputs": [],
   "source": [
    "analysis.to_csv('schools_01_06_15__31_05_20_no_mikbatz.csv')"
   ]
  },
  {
   "cell_type": "markdown",
   "metadata": {},
   "source": [
    "### Compare cities"
   ]
  },
  {
   "cell_type": "code",
   "execution_count": 32,
   "metadata": {
    "ExecuteTime": {
     "end_time": "2020-08-18T23:06:53.832455Z",
     "start_time": "2020-08-18T23:06:52.187761Z"
    }
   },
   "outputs": [],
   "source": [
    "yishuv_analysis = defaultdict(dict)\n",
    "schools_df = total_df.copy()\n",
    "for school_yishuv_name in schools_df.school_yishuv_name.unique():\n",
    "    yishuv_df = schools_df.loc[schools_df.school_yishuv_name == school_yishuv_name]\n",
    "    df = yishuv_df.loc[(yishuv_df.accident_timestamp >= pd.Timestamp('2015-06-01')) & (yishuv_df.accident_timestamp <= pd.Timestamp('2020-05-31'))]\n",
    "    killed = df.loc[df.injury_severity_hebrew == 'הרוג'].inv_unique_id.nunique()\n",
    "    severe_injured = df.loc[df.injury_severity_hebrew == 'פצוע קשה'].inv_unique_id.nunique()\n",
    "    light_injured = df.loc[df.injury_severity_hebrew == 'פצוע קל'].inv_unique_id.nunique()\n",
    "    score = (killed * killed_weight + severe_injured * severe_weight  + light_injured * light_weight) * (killed + severe_injured + light_injured)\n",
    "    yishuv_analysis[school_yishuv_name]['score'] = score\n",
    "    yishuv_analysis[school_yishuv_name]['school_yishuv_name'] = school_yishuv_name\n",
    "    yishuv_analysis[school_yishuv_name]['killed'] = killed\n",
    "    yishuv_analysis[school_yishuv_name]['severe_injured'] = severe_injured\n",
    "    yishuv_analysis[school_yishuv_name]['light_injured'] = light_injured\n",
    "yishuv_analysis = pd.DataFrame(yishuv_analysis).T\n"
   ]
  },
  {
   "cell_type": "code",
   "execution_count": 34,
   "metadata": {
    "ExecuteTime": {
     "end_time": "2020-08-18T23:08:42.010869Z",
     "start_time": "2020-08-18T23:08:41.999736Z"
    }
   },
   "outputs": [
    {
     "data": {
      "text/html": [
       "<div>\n",
       "<style scoped>\n",
       "    .dataframe tbody tr th:only-of-type {\n",
       "        vertical-align: middle;\n",
       "    }\n",
       "\n",
       "    .dataframe tbody tr th {\n",
       "        vertical-align: top;\n",
       "    }\n",
       "\n",
       "    .dataframe thead th {\n",
       "        text-align: right;\n",
       "    }\n",
       "</style>\n",
       "<table border=\"1\" class=\"dataframe\">\n",
       "  <thead>\n",
       "    <tr style=\"text-align: right;\">\n",
       "      <th></th>\n",
       "      <th>score</th>\n",
       "      <th>school_yishuv_name</th>\n",
       "      <th>killed</th>\n",
       "      <th>severe_injured</th>\n",
       "      <th>light_injured</th>\n",
       "    </tr>\n",
       "  </thead>\n",
       "  <tbody>\n",
       "    <tr>\n",
       "      <th>בני ברק</th>\n",
       "      <td>2460.92</td>\n",
       "      <td>בני ברק</td>\n",
       "      <td>2</td>\n",
       "      <td>26</td>\n",
       "      <td>367</td>\n",
       "    </tr>\n",
       "  </tbody>\n",
       "</table>\n",
       "</div>"
      ],
      "text/plain": [
       "           score school_yishuv_name killed severe_injured light_injured\n",
       "בני ברק  2460.92            בני ברק      2             26           367"
      ]
     },
     "execution_count": 34,
     "metadata": {},
     "output_type": "execute_result"
    }
   ],
   "source": [
    "yishuv_analysis[yishuv_analysis.school_yishuv_name == 'בני ברק']"
   ]
  },
  {
   "cell_type": "code",
   "execution_count": null,
   "metadata": {},
   "outputs": [],
   "source": []
  }
 ],
 "metadata": {
  "hide_input": false,
  "kernelspec": {
   "display_name": "Python 3",
   "language": "python",
   "name": "python3"
  },
  "language_info": {
   "codemirror_mode": {
    "name": "ipython",
    "version": 3
   },
   "file_extension": ".py",
   "mimetype": "text/x-python",
   "name": "python",
   "nbconvert_exporter": "python",
   "pygments_lexer": "ipython3",
   "version": "3.7.6"
  },
  "toc": {
   "base_numbering": 1,
   "nav_menu": {},
   "number_sections": true,
   "sideBar": true,
   "skip_h1_title": false,
   "title_cell": "Table of Contents",
   "title_sidebar": "Contents",
   "toc_cell": true,
   "toc_position": {
    "height": "calc(100% - 180px)",
    "left": "10px",
    "top": "150px",
    "width": "194px"
   },
   "toc_section_display": true,
   "toc_window_display": true
  }
 },
 "nbformat": 4,
 "nbformat_minor": 4
}
