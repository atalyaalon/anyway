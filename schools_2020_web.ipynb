{
 "cells": [
  {
   "cell_type": "markdown",
   "metadata": {
    "toc": true
   },
   "source": [
    "<h1>Table of Contents<span class=\"tocSkip\"></span></h1>\n",
    "<div class=\"toc\"><ul class=\"toc-item\"><li><ul class=\"toc-item\"><li><span><a href=\"#Get-all-schools-data\" data-toc-modified-id=\"Get-all-schools-data-0.1\"><span class=\"toc-item-num\">0.1&nbsp;&nbsp;</span>Get all schools data</a></span></li><li><span><a href=\"#filter-only-injured-(injury_severity-!=-0)\" data-toc-modified-id=\"filter-only-injured-(injury_severity-!=-0)-0.2\"><span class=\"toc-item-num\">0.2&nbsp;&nbsp;</span>filter only injured (injury_severity != 0)</a></span></li><li><span><a href=\"#filter-until-31-05-2020\" data-toc-modified-id=\"filter-until-31-05-2020-0.3\"><span class=\"toc-item-num\">0.3&nbsp;&nbsp;</span>filter until 31-05-2020</a></span></li><li><span><a href=\"#Filter-only-school_id-=-541896--ישיבת-פוניבז'\" data-toc-modified-id=\"Filter-only-school_id-=-541896--ישיבת-פוניבז'-0.4\"><span class=\"toc-item-num\">0.4&nbsp;&nbsp;</span>Filter only school_id = 541896  ישיבת פוניבז'</a></span></li><li><span><a href=\"#count-total\" data-toc-modified-id=\"count-total-0.5\"><span class=\"toc-item-num\">0.5&nbsp;&nbsp;</span>count total</a></span></li><li><span><a href=\"#plot-over-years\" data-toc-modified-id=\"plot-over-years-0.6\"><span class=\"toc-item-num\">0.6&nbsp;&nbsp;</span>plot over years</a></span></li><li><span><a href=\"#split-per-injured-type\" data-toc-modified-id=\"split-per-injured-type-0.7\"><span class=\"toc-item-num\">0.7&nbsp;&nbsp;</span>split per injured type</a></span></li><li><span><a href=\"#split-per-vehicle-type\" data-toc-modified-id=\"split-per-vehicle-type-0.8\"><span class=\"toc-item-num\">0.8&nbsp;&nbsp;</span>split per vehicle type</a></span></li><li><span><a href=\"#count-per-injury-severity\" data-toc-modified-id=\"count-per-injury-severity-0.9\"><span class=\"toc-item-num\">0.9&nbsp;&nbsp;</span>count per injury severity</a></span></li><li><span><a href=\"#compare-to-yishuv\" data-toc-modified-id=\"compare-to-yishuv-0.10\"><span class=\"toc-item-num\">0.10&nbsp;&nbsp;</span>compare to yishuv</a></span></li><li><span><a href=\"#speed-around-school\" data-toc-modified-id=\"speed-around-school-0.11\"><span class=\"toc-item-num\">0.11&nbsp;&nbsp;</span>speed around school</a></span></li><li><span><a href=\"#cross?\" data-toc-modified-id=\"cross?-0.12\"><span class=\"toc-item-num\">0.12&nbsp;&nbsp;</span>cross?</a></span></li></ul></li><li><span><a href=\"#Draft\" data-toc-modified-id=\"Draft-1\"><span class=\"toc-item-num\">1&nbsp;&nbsp;</span>Draft</a></span><ul class=\"toc-item\"><li><span><a href=\"#filter-only-pedastrians\" data-toc-modified-id=\"filter-only-pedastrians-1.1\"><span class=\"toc-item-num\">1.1&nbsp;&nbsp;</span>filter only pedastrians</a></span></li></ul></li></ul></div>"
   ]
  },
  {
   "cell_type": "markdown",
   "metadata": {},
   "source": [
    "### Get all schools data"
   ]
  },
  {
   "cell_type": "code",
   "execution_count": 79,
   "metadata": {
    "ExecuteTime": {
     "end_time": "2020-08-13T21:48:12.609214Z",
     "start_time": "2020-08-13T21:48:12.603294Z"
    }
   },
   "outputs": [],
   "source": [
    "import pandas as pd\n",
    "from collections import defaultdict\n",
    "import seaborn as sns ; sns.set()"
   ]
  },
  {
   "cell_type": "code",
   "execution_count": 3,
   "metadata": {
    "ExecuteTime": {
     "end_time": "2020-08-13T20:41:24.277885Z",
     "start_time": "2020-08-13T20:41:24.274472Z"
    }
   },
   "outputs": [],
   "source": [
    "import os"
   ]
  },
  {
   "cell_type": "code",
   "execution_count": 4,
   "metadata": {
    "ExecuteTime": {
     "end_time": "2020-08-13T20:41:24.555395Z",
     "start_time": "2020-08-13T20:41:24.551218Z"
    }
   },
   "outputs": [],
   "source": [
    "df = pd.DataFrame()"
   ]
  },
  {
   "cell_type": "code",
   "execution_count": 5,
   "metadata": {
    "ExecuteTime": {
     "end_time": "2020-08-13T20:44:03.414369Z",
     "start_time": "2020-08-13T20:41:25.982942Z"
    }
   },
   "outputs": [
    {
     "name": "stdout",
     "output_type": "stream",
     "text": [
      "0\n",
      "100\n",
      "200\n",
      "300\n",
      "400\n",
      "500\n",
      "600\n",
      "700\n",
      "800\n",
      "900\n",
      "1000\n",
      "1100\n",
      "1200\n",
      "1300\n",
      "1400\n",
      "1500\n",
      "1600\n",
      "1700\n",
      "1800\n",
      "1900\n",
      "2000\n",
      "2100\n",
      "2200\n",
      "2300\n",
      "2400\n",
      "2500\n",
      "2600\n",
      "2700\n",
      "2800\n",
      "2900\n",
      "3000\n",
      "3100\n",
      "3200\n",
      "3300\n",
      "3400\n",
      "3500\n",
      "3600\n",
      "3700\n",
      "3800\n",
      "3900\n",
      "4000\n",
      "4100\n",
      "4200\n",
      "4300\n",
      "4400\n",
      "4500\n"
     ]
    }
   ],
   "source": [
    "li = []\n",
    "\n",
    "for i, filename in enumerate(os.listdir('schools_data')):\n",
    "    if i % 100 == 0:\n",
    "        print(i)\n",
    "    df = pd.read_csv(os.path.join('schools_data', filename), index_col=None, header=0)\n",
    "    li.append(df)\n",
    "\n",
    "total_df = pd.concat(li, axis=0, ignore_index=True)\n",
    "total_df['accident_timestamp'] = pd.to_datetime(total_df.accident_timestamp.values)"
   ]
  },
  {
   "cell_type": "code",
   "execution_count": 6,
   "metadata": {
    "ExecuteTime": {
     "end_time": "2020-08-13T20:53:58.599986Z",
     "start_time": "2020-08-13T20:53:58.594498Z"
    }
   },
   "outputs": [],
   "source": [
    "#total_df_orig = total_df.copy()"
   ]
  },
  {
   "cell_type": "code",
   "execution_count": 151,
   "metadata": {
    "ExecuteTime": {
     "end_time": "2020-08-13T22:40:15.388085Z",
     "start_time": "2020-08-13T22:40:15.383624Z"
    }
   },
   "outputs": [],
   "source": [
    "school_id = 541896"
   ]
  },
  {
   "cell_type": "markdown",
   "metadata": {},
   "source": [
    "### filter only injured (injury_severity != 0)"
   ]
  },
  {
   "cell_type": "code",
   "execution_count": 152,
   "metadata": {
    "ExecuteTime": {
     "end_time": "2020-08-13T22:40:15.945719Z",
     "start_time": "2020-08-13T22:40:15.774845Z"
    }
   },
   "outputs": [],
   "source": [
    "total_df = total_df.loc[total_df.injury_severity != 0]"
   ]
  },
  {
   "cell_type": "markdown",
   "metadata": {},
   "source": [
    "### filter until 31-05-2020"
   ]
  },
  {
   "cell_type": "code",
   "execution_count": 153,
   "metadata": {
    "ExecuteTime": {
     "end_time": "2020-08-13T22:40:16.411154Z",
     "start_time": "2020-08-13T22:40:16.231106Z"
    }
   },
   "outputs": [],
   "source": [
    "total_df = total_df.loc[(total_df.accident_timestamp <= pd.Timestamp('2020-05-31'))&(total_df.accident_timestamp >= pd.Timestamp('2015-01-01'))]"
   ]
  },
  {
   "cell_type": "markdown",
   "metadata": {},
   "source": [
    "### Filter only school_id = 541896  ישיבת פוניבז'"
   ]
  },
  {
   "cell_type": "code",
   "execution_count": 154,
   "metadata": {
    "ExecuteTime": {
     "end_time": "2020-08-13T22:40:16.625760Z",
     "start_time": "2020-08-13T22:40:16.613064Z"
    }
   },
   "outputs": [],
   "source": [
    "school_df = total_df.loc[total_df.school_id == school_id]"
   ]
  },
  {
   "cell_type": "markdown",
   "metadata": {},
   "source": [
    "### count total"
   ]
  },
  {
   "cell_type": "code",
   "execution_count": 155,
   "metadata": {
    "ExecuteTime": {
     "end_time": "2020-08-13T22:40:17.135616Z",
     "start_time": "2020-08-13T22:40:17.127196Z"
    }
   },
   "outputs": [
    {
     "data": {
      "text/plain": [
       "accident_year\n",
       "2015    45\n",
       "2016    25\n",
       "2017    39\n",
       "2018    39\n",
       "2019    30\n",
       "2020    11\n",
       "dtype: int64"
      ]
     },
     "execution_count": 155,
     "metadata": {},
     "output_type": "execute_result"
    }
   ],
   "source": [
    "school_df.groupby('accident_year').size()"
   ]
  },
  {
   "cell_type": "code",
   "execution_count": 156,
   "metadata": {
    "ExecuteTime": {
     "end_time": "2020-08-13T22:40:17.845711Z",
     "start_time": "2020-08-13T22:40:17.835676Z"
    }
   },
   "outputs": [
    {
     "data": {
      "text/plain": [
       "189"
      ]
     },
     "execution_count": 156,
     "metadata": {},
     "output_type": "execute_result"
    }
   ],
   "source": [
    "total_injured = school_df.loc[school_df.accident_year >= 2015].groupby('accident_year').size().sum()\n",
    "total_injured"
   ]
  },
  {
   "cell_type": "markdown",
   "metadata": {},
   "source": [
    "### plot over years"
   ]
  },
  {
   "cell_type": "code",
   "execution_count": 157,
   "metadata": {
    "ExecuteTime": {
     "end_time": "2020-08-13T22:40:18.694528Z",
     "start_time": "2020-08-13T22:40:18.684408Z"
    }
   },
   "outputs": [
    {
     "data": {
      "text/plain": [
       "Timestamp('2020-05-27 13:00:00')"
      ]
     },
     "execution_count": 157,
     "metadata": {},
     "output_type": "execute_result"
    }
   ],
   "source": [
    "school_df.accident_timestamp.max()"
   ]
  },
  {
   "cell_type": "code",
   "execution_count": 158,
   "metadata": {
    "ExecuteTime": {
     "end_time": "2020-08-13T22:40:19.332320Z",
     "start_time": "2020-08-13T22:40:19.115580Z"
    }
   },
   "outputs": [
    {
     "data": {
      "text/plain": [
       "<matplotlib.axes._subplots.AxesSubplot at 0x12e0068d0>"
      ]
     },
     "execution_count": 158,
     "metadata": {},
     "output_type": "execute_result"
    },
    {
     "data": {
      "image/png": "[encoded data removed]",
      "text/plain": [
       "<Figure size 432x288 with 1 Axes>"
      ]
     },
     "metadata": {},
     "output_type": "display_data"
    }
   ],
   "source": [
    "school_df.set_index('accident_timestamp').groupby(pd.Grouper(freq=\"Y\")).size().plot()"
   ]
  },
  {
   "cell_type": "code",
   "execution_count": 159,
   "metadata": {
    "ExecuteTime": {
     "end_time": "2020-08-13T22:40:19.579729Z",
     "start_time": "2020-08-13T22:40:19.573667Z"
    }
   },
   "outputs": [
    {
     "data": {
      "text/plain": [
       "array([3, 2], dtype=object)"
      ]
     },
     "execution_count": 159,
     "metadata": {},
     "output_type": "execute_result"
    }
   ],
   "source": [
    "school_df.accident_severity.unique()"
   ]
  },
  {
   "cell_type": "code",
   "execution_count": 160,
   "metadata": {
    "ExecuteTime": {
     "end_time": "2020-08-13T22:40:20.140342Z",
     "start_time": "2020-08-13T22:40:20.129175Z"
    }
   },
   "outputs": [],
   "source": [
    "yearly = school_df.groupby(['accident_year', 'accident_severity_hebrew']).size().unstack().fillna(0).stack().rename('count').to_frame().reset_index()"
   ]
  },
  {
   "cell_type": "code",
   "execution_count": 161,
   "metadata": {
    "ExecuteTime": {
     "end_time": "2020-08-13T22:40:20.610673Z",
     "start_time": "2020-08-13T22:40:20.599331Z"
    }
   },
   "outputs": [
    {
     "data": {
      "text/html": [
       "<div>\n",
       "<style scoped>\n",
       "    .dataframe tbody tr th:only-of-type {\n",
       "        vertical-align: middle;\n",
       "    }\n",
       "\n",
       "    .dataframe tbody tr th {\n",
       "        vertical-align: top;\n",
       "    }\n",
       "\n",
       "    .dataframe thead th {\n",
       "        text-align: right;\n",
       "    }\n",
       "</style>\n",
       "<table border=\"1\" class=\"dataframe\">\n",
       "  <thead>\n",
       "    <tr style=\"text-align: right;\">\n",
       "      <th></th>\n",
       "      <th>accident_year</th>\n",
       "      <th>accident_severity_hebrew</th>\n",
       "      <th>count</th>\n",
       "    </tr>\n",
       "  </thead>\n",
       "  <tbody>\n",
       "    <tr>\n",
       "      <th>0</th>\n",
       "      <td>2015</td>\n",
       "      <td>קלה</td>\n",
       "      <td>41.0</td>\n",
       "    </tr>\n",
       "    <tr>\n",
       "      <th>1</th>\n",
       "      <td>2015</td>\n",
       "      <td>קשה</td>\n",
       "      <td>4.0</td>\n",
       "    </tr>\n",
       "    <tr>\n",
       "      <th>2</th>\n",
       "      <td>2016</td>\n",
       "      <td>קלה</td>\n",
       "      <td>23.0</td>\n",
       "    </tr>\n",
       "    <tr>\n",
       "      <th>3</th>\n",
       "      <td>2016</td>\n",
       "      <td>קשה</td>\n",
       "      <td>2.0</td>\n",
       "    </tr>\n",
       "    <tr>\n",
       "      <th>4</th>\n",
       "      <td>2017</td>\n",
       "      <td>קלה</td>\n",
       "      <td>36.0</td>\n",
       "    </tr>\n",
       "    <tr>\n",
       "      <th>5</th>\n",
       "      <td>2017</td>\n",
       "      <td>קשה</td>\n",
       "      <td>3.0</td>\n",
       "    </tr>\n",
       "    <tr>\n",
       "      <th>6</th>\n",
       "      <td>2018</td>\n",
       "      <td>קלה</td>\n",
       "      <td>37.0</td>\n",
       "    </tr>\n",
       "    <tr>\n",
       "      <th>7</th>\n",
       "      <td>2018</td>\n",
       "      <td>קשה</td>\n",
       "      <td>2.0</td>\n",
       "    </tr>\n",
       "    <tr>\n",
       "      <th>8</th>\n",
       "      <td>2019</td>\n",
       "      <td>קלה</td>\n",
       "      <td>27.0</td>\n",
       "    </tr>\n",
       "    <tr>\n",
       "      <th>9</th>\n",
       "      <td>2019</td>\n",
       "      <td>קשה</td>\n",
       "      <td>3.0</td>\n",
       "    </tr>\n",
       "    <tr>\n",
       "      <th>10</th>\n",
       "      <td>2020</td>\n",
       "      <td>קלה</td>\n",
       "      <td>11.0</td>\n",
       "    </tr>\n",
       "    <tr>\n",
       "      <th>11</th>\n",
       "      <td>2020</td>\n",
       "      <td>קשה</td>\n",
       "      <td>0.0</td>\n",
       "    </tr>\n",
       "  </tbody>\n",
       "</table>\n",
       "</div>"
      ],
      "text/plain": [
       "    accident_year accident_severity_hebrew  count\n",
       "0            2015                      קלה   41.0\n",
       "1            2015                      קשה    4.0\n",
       "2            2016                      קלה   23.0\n",
       "3            2016                      קשה    2.0\n",
       "4            2017                      קלה   36.0\n",
       "5            2017                      קשה    3.0\n",
       "6            2018                      קלה   37.0\n",
       "7            2018                      קשה    2.0\n",
       "8            2019                      קלה   27.0\n",
       "9            2019                      קשה    3.0\n",
       "10           2020                      קלה   11.0\n",
       "11           2020                      קשה    0.0"
      ]
     },
     "execution_count": 161,
     "metadata": {},
     "output_type": "execute_result"
    }
   ],
   "source": [
    "yearly"
   ]
  },
  {
   "cell_type": "code",
   "execution_count": 162,
   "metadata": {
    "ExecuteTime": {
     "end_time": "2020-08-13T22:40:21.439337Z",
     "start_time": "2020-08-13T22:40:21.153879Z"
    }
   },
   "outputs": [
    {
     "data": {
      "text/plain": [
       "<matplotlib.axes._subplots.AxesSubplot at 0x1246b84d0>"
      ]
     },
     "execution_count": 162,
     "metadata": {},
     "output_type": "execute_result"
    },
    {
     "data": {
      "image/png": "[encoded data removed]",
      "text/plain": [
       "<Figure size 432x288 with 1 Axes>"
      ]
     },
     "metadata": {},
     "output_type": "display_data"
    }
   ],
   "source": [
    "sns.lineplot(x=\"accident_year\", y=\"count\", hue=\"accident_severity_hebrew\",\n",
    "            data=yearly)"
   ]
  },
  {
   "cell_type": "markdown",
   "metadata": {},
   "source": [
    "### split per injured type"
   ]
  },
  {
   "cell_type": "code",
   "execution_count": 163,
   "metadata": {
    "ExecuteTime": {
     "end_time": "2020-08-13T22:40:23.793649Z",
     "start_time": "2020-08-13T22:40:23.783641Z"
    }
   },
   "outputs": [
    {
     "data": {
      "text/plain": [
       "injured_type_hebrew            injured_type\n",
       "הולך רגל                       1               122\n",
       "נהג - אופנוע                   4                 3\n",
       "נהג - אופניים                  6                10\n",
       "נהג - רכב בעל 4 גלגלים ויותר   2                 4\n",
       "נהג - רכב לא ידוע              8                 7\n",
       "נוסע - רכב בעל 4 גלגלים ויותר  3                43\n",
       "dtype: int64"
      ]
     },
     "execution_count": 163,
     "metadata": {},
     "output_type": "execute_result"
    }
   ],
   "source": [
    "school_df.groupby(['injured_type_hebrew', 'injured_type']).size()"
   ]
  },
  {
   "cell_type": "code",
   "execution_count": 164,
   "metadata": {
    "ExecuteTime": {
     "end_time": "2020-08-13T22:40:24.448778Z",
     "start_time": "2020-08-13T22:40:24.412082Z"
    }
   },
   "outputs": [
    {
     "data": {
      "text/html": [
       "<div>\n",
       "<style scoped>\n",
       "    .dataframe tbody tr th:only-of-type {\n",
       "        vertical-align: middle;\n",
       "    }\n",
       "\n",
       "    .dataframe tbody tr th {\n",
       "        vertical-align: top;\n",
       "    }\n",
       "\n",
       "    .dataframe thead th {\n",
       "        text-align: right;\n",
       "    }\n",
       "</style>\n",
       "<table border=\"1\" class=\"dataframe\">\n",
       "  <thead>\n",
       "    <tr style=\"text-align: right;\">\n",
       "      <th></th>\n",
       "      <th>Unnamed: 0</th>\n",
       "      <th>accident_id</th>\n",
       "      <th>provider_and_id</th>\n",
       "      <th>provider_code</th>\n",
       "      <th>file_type_police</th>\n",
       "      <th>involved_type</th>\n",
       "      <th>involved_type_hebrew</th>\n",
       "      <th>license_acquiring_date</th>\n",
       "      <th>age_group</th>\n",
       "      <th>age_group_hebrew</th>\n",
       "      <th>...</th>\n",
       "      <th>vehicle_vehicle_type_hebrew</th>\n",
       "      <th>vehicle_damage</th>\n",
       "      <th>vehicle_damage_hebrew</th>\n",
       "      <th>road_segment_number</th>\n",
       "      <th>school_id</th>\n",
       "      <th>school_type</th>\n",
       "      <th>school_name</th>\n",
       "      <th>school_yishuv_name</th>\n",
       "      <th>school_longitude</th>\n",
       "      <th>school_latitude</th>\n",
       "    </tr>\n",
       "  </thead>\n",
       "  <tbody>\n",
       "    <tr>\n",
       "      <th>122452</th>\n",
       "      <td>29</td>\n",
       "      <td>2017074199</td>\n",
       "      <td>12017074199</td>\n",
       "      <td>1</td>\n",
       "      <td>NaN</td>\n",
       "      <td>2</td>\n",
       "      <td>נהג נפגע</td>\n",
       "      <td>0</td>\n",
       "      <td>4</td>\n",
       "      <td>15-19</td>\n",
       "      <td>...</td>\n",
       "      <td>אופניים חשמליים</td>\n",
       "      <td>1.0</td>\n",
       "      <td>קל</td>\n",
       "      <td>NaN</td>\n",
       "      <td>541896</td>\n",
       "      <td>בית ספר</td>\n",
       "      <td>ישיבת פוניבז'</td>\n",
       "      <td>בני ברק</td>\n",
       "      <td>34.837081</td>\n",
       "      <td>32.08253</td>\n",
       "    </tr>\n",
       "    <tr>\n",
       "      <th>122455</th>\n",
       "      <td>32</td>\n",
       "      <td>2019011250</td>\n",
       "      <td>12019011250</td>\n",
       "      <td>1</td>\n",
       "      <td>NaN</td>\n",
       "      <td>2</td>\n",
       "      <td>נהג נפגע</td>\n",
       "      <td>0</td>\n",
       "      <td>3</td>\n",
       "      <td>10-14</td>\n",
       "      <td>...</td>\n",
       "      <td>אחר ולא ידוע</td>\n",
       "      <td>4.0</td>\n",
       "      <td>אין נזק</td>\n",
       "      <td>NaN</td>\n",
       "      <td>541896</td>\n",
       "      <td>בית ספר</td>\n",
       "      <td>ישיבת פוניבז'</td>\n",
       "      <td>בני ברק</td>\n",
       "      <td>34.837081</td>\n",
       "      <td>32.08253</td>\n",
       "    </tr>\n",
       "    <tr>\n",
       "      <th>122475</th>\n",
       "      <td>52</td>\n",
       "      <td>2018084060</td>\n",
       "      <td>32018084060</td>\n",
       "      <td>3</td>\n",
       "      <td>NaN</td>\n",
       "      <td>2</td>\n",
       "      <td>נהג נפגע</td>\n",
       "      <td>0</td>\n",
       "      <td>4</td>\n",
       "      <td>15-19</td>\n",
       "      <td>...</td>\n",
       "      <td>אופניים חשמליים</td>\n",
       "      <td>0.0</td>\n",
       "      <td>לא ידוע</td>\n",
       "      <td>NaN</td>\n",
       "      <td>541896</td>\n",
       "      <td>בית ספר</td>\n",
       "      <td>ישיבת פוניבז'</td>\n",
       "      <td>בני ברק</td>\n",
       "      <td>34.837081</td>\n",
       "      <td>32.08253</td>\n",
       "    </tr>\n",
       "    <tr>\n",
       "      <th>122490</th>\n",
       "      <td>67</td>\n",
       "      <td>2015055808</td>\n",
       "      <td>32015055808</td>\n",
       "      <td>3</td>\n",
       "      <td>NaN</td>\n",
       "      <td>2</td>\n",
       "      <td>נהג נפגע</td>\n",
       "      <td>0</td>\n",
       "      <td>4</td>\n",
       "      <td>15-19</td>\n",
       "      <td>...</td>\n",
       "      <td>אופניים חשמליים</td>\n",
       "      <td>0.0</td>\n",
       "      <td>לא ידוע</td>\n",
       "      <td>NaN</td>\n",
       "      <td>541896</td>\n",
       "      <td>בית ספר</td>\n",
       "      <td>ישיבת פוניבז'</td>\n",
       "      <td>בני ברק</td>\n",
       "      <td>34.837081</td>\n",
       "      <td>32.08253</td>\n",
       "    </tr>\n",
       "    <tr>\n",
       "      <th>122547</th>\n",
       "      <td>124</td>\n",
       "      <td>2019069676</td>\n",
       "      <td>12019069676</td>\n",
       "      <td>1</td>\n",
       "      <td>NaN</td>\n",
       "      <td>2</td>\n",
       "      <td>נהג נפגע</td>\n",
       "      <td>0</td>\n",
       "      <td>3</td>\n",
       "      <td>10-14</td>\n",
       "      <td>...</td>\n",
       "      <td>אופניים חשמליים</td>\n",
       "      <td>1.0</td>\n",
       "      <td>קל</td>\n",
       "      <td>NaN</td>\n",
       "      <td>541896</td>\n",
       "      <td>בית ספר</td>\n",
       "      <td>ישיבת פוניבז'</td>\n",
       "      <td>בני ברק</td>\n",
       "      <td>34.837081</td>\n",
       "      <td>32.08253</td>\n",
       "    </tr>\n",
       "    <tr>\n",
       "      <th>122586</th>\n",
       "      <td>163</td>\n",
       "      <td>2017096151</td>\n",
       "      <td>32017096151</td>\n",
       "      <td>3</td>\n",
       "      <td>NaN</td>\n",
       "      <td>2</td>\n",
       "      <td>נהג נפגע</td>\n",
       "      <td>0</td>\n",
       "      <td>4</td>\n",
       "      <td>15-19</td>\n",
       "      <td>...</td>\n",
       "      <td>אופניים חשמליים</td>\n",
       "      <td>4.0</td>\n",
       "      <td>אין נזק</td>\n",
       "      <td>NaN</td>\n",
       "      <td>541896</td>\n",
       "      <td>בית ספר</td>\n",
       "      <td>ישיבת פוניבז'</td>\n",
       "      <td>בני ברק</td>\n",
       "      <td>34.837081</td>\n",
       "      <td>32.08253</td>\n",
       "    </tr>\n",
       "    <tr>\n",
       "      <th>122626</th>\n",
       "      <td>203</td>\n",
       "      <td>2019040784</td>\n",
       "      <td>32019040784</td>\n",
       "      <td>3</td>\n",
       "      <td>NaN</td>\n",
       "      <td>2</td>\n",
       "      <td>נהג נפגע</td>\n",
       "      <td>0</td>\n",
       "      <td>4</td>\n",
       "      <td>15-19</td>\n",
       "      <td>...</td>\n",
       "      <td>קורקינט חשמלי</td>\n",
       "      <td>4.0</td>\n",
       "      <td>אין נזק</td>\n",
       "      <td>NaN</td>\n",
       "      <td>541896</td>\n",
       "      <td>בית ספר</td>\n",
       "      <td>ישיבת פוניבז'</td>\n",
       "      <td>בני ברק</td>\n",
       "      <td>34.837081</td>\n",
       "      <td>32.08253</td>\n",
       "    </tr>\n",
       "  </tbody>\n",
       "</table>\n",
       "<p>7 rows × 163 columns</p>\n",
       "</div>"
      ],
      "text/plain": [
       "       Unnamed: 0 accident_id provider_and_id provider_code  file_type_police  \\\n",
       "122452         29  2017074199     12017074199             1               NaN   \n",
       "122455         32  2019011250     12019011250             1               NaN   \n",
       "122475         52  2018084060     32018084060             3               NaN   \n",
       "122490         67  2015055808     32015055808             3               NaN   \n",
       "122547        124  2019069676     12019069676             1               NaN   \n",
       "122586        163  2017096151     32017096151             3               NaN   \n",
       "122626        203  2019040784     32019040784             3               NaN   \n",
       "\n",
       "       involved_type involved_type_hebrew license_acquiring_date age_group  \\\n",
       "122452             2             נהג נפגע                      0         4   \n",
       "122455             2             נהג נפגע                      0         3   \n",
       "122475             2             נהג נפגע                      0         4   \n",
       "122490             2             נהג נפגע                      0         4   \n",
       "122547             2             נהג נפגע                      0         3   \n",
       "122586             2             נהג נפגע                      0         4   \n",
       "122626             2             נהג נפגע                      0         4   \n",
       "\n",
       "       age_group_hebrew  ... vehicle_vehicle_type_hebrew vehicle_damage  \\\n",
       "122452            15-19  ...             אופניים חשמליים            1.0   \n",
       "122455            10-14  ...                אחר ולא ידוע            4.0   \n",
       "122475            15-19  ...             אופניים חשמליים            0.0   \n",
       "122490            15-19  ...             אופניים חשמליים            0.0   \n",
       "122547            10-14  ...             אופניים חשמליים            1.0   \n",
       "122586            15-19  ...             אופניים חשמליים            4.0   \n",
       "122626            15-19  ...               קורקינט חשמלי            4.0   \n",
       "\n",
       "        vehicle_damage_hebrew road_segment_number school_id school_type  \\\n",
       "122452                     קל                 NaN    541896     בית ספר   \n",
       "122455                אין נזק                 NaN    541896     בית ספר   \n",
       "122475                לא ידוע                 NaN    541896     בית ספר   \n",
       "122490                לא ידוע                 NaN    541896     בית ספר   \n",
       "122547                     קל                 NaN    541896     בית ספר   \n",
       "122586                אין נזק                 NaN    541896     בית ספר   \n",
       "122626                אין נזק                 NaN    541896     בית ספר   \n",
       "\n",
       "          school_name school_yishuv_name school_longitude school_latitude  \n",
       "122452  ישיבת פוניבז'            בני ברק        34.837081        32.08253  \n",
       "122455  ישיבת פוניבז'            בני ברק        34.837081        32.08253  \n",
       "122475  ישיבת פוניבז'            בני ברק        34.837081        32.08253  \n",
       "122490  ישיבת פוניבז'            בני ברק        34.837081        32.08253  \n",
       "122547  ישיבת פוניבז'            בני ברק        34.837081        32.08253  \n",
       "122586  ישיבת פוניבז'            בני ברק        34.837081        32.08253  \n",
       "122626  ישיבת פוניבז'            בני ברק        34.837081        32.08253  \n",
       "\n",
       "[7 rows x 163 columns]"
      ]
     },
     "execution_count": 164,
     "metadata": {},
     "output_type": "execute_result"
    }
   ],
   "source": [
    "school_df[school_df.injured_type == 8]"
   ]
  },
  {
   "cell_type": "markdown",
   "metadata": {},
   "source": [
    "### split per vehicle type"
   ]
  },
  {
   "cell_type": "code",
   "execution_count": 165,
   "metadata": {
    "ExecuteTime": {
     "end_time": "2020-08-13T22:40:26.270751Z",
     "start_time": "2020-08-13T22:40:26.256518Z"
    }
   },
   "outputs": [
    {
     "data": {
      "text/html": [
       "<div>\n",
       "<style scoped>\n",
       "    .dataframe tbody tr th:only-of-type {\n",
       "        vertical-align: middle;\n",
       "    }\n",
       "\n",
       "    .dataframe tbody tr th {\n",
       "        vertical-align: top;\n",
       "    }\n",
       "\n",
       "    .dataframe thead th {\n",
       "        text-align: right;\n",
       "    }\n",
       "</style>\n",
       "<table border=\"1\" class=\"dataframe\">\n",
       "  <thead>\n",
       "    <tr style=\"text-align: right;\">\n",
       "      <th></th>\n",
       "      <th></th>\n",
       "      <th>0</th>\n",
       "    </tr>\n",
       "    <tr>\n",
       "      <th>involve_vehicle_type_hebrew</th>\n",
       "      <th>injured_type_hebrew</th>\n",
       "      <th></th>\n",
       "    </tr>\n",
       "  </thead>\n",
       "  <tbody>\n",
       "    <tr>\n",
       "      <th>אוטובוס</th>\n",
       "      <th>נוסע - רכב בעל 4 גלגלים ויותר</th>\n",
       "      <td>21</td>\n",
       "    </tr>\n",
       "    <tr>\n",
       "      <th>אופנוע 51 עד 125 סמ\"ק</th>\n",
       "      <th>נהג - אופנוע</th>\n",
       "      <td>3</td>\n",
       "    </tr>\n",
       "    <tr>\n",
       "      <th>אופניים</th>\n",
       "      <th>נהג - אופניים</th>\n",
       "      <td>10</td>\n",
       "    </tr>\n",
       "    <tr>\n",
       "      <th>אופניים חשמליים</th>\n",
       "      <th>נהג - רכב לא ידוע</th>\n",
       "      <td>5</td>\n",
       "    </tr>\n",
       "    <tr>\n",
       "      <th>אחר ולא ידוע</th>\n",
       "      <th>נהג - רכב לא ידוע</th>\n",
       "      <td>1</td>\n",
       "    </tr>\n",
       "    <tr>\n",
       "      <th>מונית</th>\n",
       "      <th>נוסע - רכב בעל 4 גלגלים ויותר</th>\n",
       "      <td>1</td>\n",
       "    </tr>\n",
       "    <tr>\n",
       "      <th>משא עד 3.5  טון - לא אחוד (טנדר)</th>\n",
       "      <th>נהג - רכב בעל 4 גלגלים ויותר</th>\n",
       "      <td>1</td>\n",
       "    </tr>\n",
       "    <tr>\n",
       "      <th rowspan=\"2\" valign=\"top\">משא עד 3.5 טון - אחוד (טרנזיט)</th>\n",
       "      <th>נהג - רכב בעל 4 גלגלים ויותר</th>\n",
       "      <td>1</td>\n",
       "    </tr>\n",
       "    <tr>\n",
       "      <th>נוסע - רכב בעל 4 גלגלים ויותר</th>\n",
       "      <td>4</td>\n",
       "    </tr>\n",
       "    <tr>\n",
       "      <th>קורקינט חשמלי</th>\n",
       "      <th>נהג - רכב לא ידוע</th>\n",
       "      <td>1</td>\n",
       "    </tr>\n",
       "    <tr>\n",
       "      <th rowspan=\"2\" valign=\"top\">רכב נוסעים פרטי</th>\n",
       "      <th>נהג - רכב בעל 4 גלגלים ויותר</th>\n",
       "      <td>2</td>\n",
       "    </tr>\n",
       "    <tr>\n",
       "      <th>נוסע - רכב בעל 4 גלגלים ויותר</th>\n",
       "      <td>17</td>\n",
       "    </tr>\n",
       "  </tbody>\n",
       "</table>\n",
       "</div>"
      ],
      "text/plain": [
       "                                                                 0\n",
       "involve_vehicle_type_hebrew      injured_type_hebrew              \n",
       "אוטובוס                          נוסע - רכב בעל 4 גלגלים ויותר  21\n",
       "אופנוע 51 עד 125 סמ\"ק            נהג - אופנוע                    3\n",
       "אופניים                          נהג - אופניים                  10\n",
       "אופניים חשמליים                  נהג - רכב לא ידוע               5\n",
       "אחר ולא ידוע                     נהג - רכב לא ידוע               1\n",
       "מונית                            נוסע - רכב בעל 4 גלגלים ויותר   1\n",
       "משא עד 3.5  טון - לא אחוד (טנדר) נהג - רכב בעל 4 גלגלים ויותר    1\n",
       "משא עד 3.5 טון - אחוד (טרנזיט)   נהג - רכב בעל 4 גלגלים ויותר    1\n",
       "                                 נוסע - רכב בעל 4 גלגלים ויותר   4\n",
       "קורקינט חשמלי                    נהג - רכב לא ידוע               1\n",
       "רכב נוסעים פרטי                  נהג - רכב בעל 4 גלגלים ויותר    2\n",
       "                                 נוסע - רכב בעל 4 גלגלים ויותר  17"
      ]
     },
     "execution_count": 165,
     "metadata": {},
     "output_type": "execute_result"
    }
   ],
   "source": [
    "school_df.groupby(['involve_vehicle_type_hebrew', 'injured_type_hebrew']).size().to_frame()"
   ]
  },
  {
   "cell_type": "markdown",
   "metadata": {},
   "source": [
    "### count per injury severity"
   ]
  },
  {
   "cell_type": "code",
   "execution_count": 166,
   "metadata": {
    "ExecuteTime": {
     "end_time": "2020-08-13T22:40:27.911192Z",
     "start_time": "2020-08-13T22:40:27.903328Z"
    }
   },
   "outputs": [
    {
     "data": {
      "text/plain": [
       "injury_severity\n",
       "2     13\n",
       "3    176\n",
       "dtype: int64"
      ]
     },
     "execution_count": 166,
     "metadata": {},
     "output_type": "execute_result"
    }
   ],
   "source": [
    "school_df.groupby('injury_severity').size()"
   ]
  },
  {
   "cell_type": "markdown",
   "metadata": {},
   "source": [
    "### compare to yishuv"
   ]
  },
  {
   "cell_type": "code",
   "execution_count": 170,
   "metadata": {
    "ExecuteTime": {
     "end_time": "2020-08-13T22:43:04.939965Z",
     "start_time": "2020-08-13T22:43:04.934008Z"
    }
   },
   "outputs": [
    {
     "data": {
      "text/plain": [
       "Index(['Unnamed: 0', 'accident_id', 'provider_and_id', 'provider_code',\n",
       "       'file_type_police', 'involved_type', 'involved_type_hebrew',\n",
       "       'license_acquiring_date', 'age_group', 'age_group_hebrew',\n",
       "       ...\n",
       "       'vehicle_vehicle_type_hebrew', 'vehicle_damage',\n",
       "       'vehicle_damage_hebrew', 'road_segment_number', 'school_id',\n",
       "       'school_type', 'school_name', 'school_yishuv_name', 'school_longitude',\n",
       "       'school_latitude'],\n",
       "      dtype='object', length=163)"
      ]
     },
     "execution_count": 170,
     "metadata": {},
     "output_type": "execute_result"
    }
   ],
   "source": [
    "school_df.columns"
   ]
  },
  {
   "cell_type": "code",
   "execution_count": 174,
   "metadata": {
    "ExecuteTime": {
     "end_time": "2020-08-13T22:44:05.256988Z",
     "start_time": "2020-08-13T22:44:05.199411Z"
    }
   },
   "outputs": [],
   "source": [
    "yishuv_df = total_df.loc[total_df.school_yishuv_name == school_df.school_yishuv_name.values[0]]"
   ]
  },
  {
   "cell_type": "code",
   "execution_count": 183,
   "metadata": {
    "ExecuteTime": {
     "end_time": "2020-08-13T22:45:56.301233Z",
     "start_time": "2020-08-13T22:45:56.288419Z"
    }
   },
   "outputs": [],
   "source": [
    "yishuv_rank = yishuv_df.groupby(['school_name', 'injury_severity_hebrew']).size().rename('injured_count').to_frame().unstack().fillna(0)"
   ]
  },
  {
   "cell_type": "code",
   "execution_count": 186,
   "metadata": {
    "ExecuteTime": {
     "end_time": "2020-08-13T22:48:59.245942Z",
     "start_time": "2020-08-13T22:48:59.229547Z"
    }
   },
   "outputs": [],
   "source": [
    "yishuv_rank['rank'] = yishuv_rank[('injured_count', 'הרוג')] + yishuv_rank[('injured_count', 'פצוע קשה')] + yishuv_rank[('injured_count', 'פצוע קל')]"
   ]
  },
  {
   "cell_type": "code",
   "execution_count": 189,
   "metadata": {
    "ExecuteTime": {
     "end_time": "2020-08-13T22:54:03.897729Z",
     "start_time": "2020-08-13T22:54:03.875110Z"
    }
   },
   "outputs": [
    {
     "data": {
      "text/html": [
       "<div>\n",
       "<style scoped>\n",
       "    .dataframe tbody tr th:only-of-type {\n",
       "        vertical-align: middle;\n",
       "    }\n",
       "\n",
       "    .dataframe tbody tr th {\n",
       "        vertical-align: top;\n",
       "    }\n",
       "\n",
       "    .dataframe thead tr th {\n",
       "        text-align: left;\n",
       "    }\n",
       "\n",
       "    .dataframe thead tr:last-of-type th {\n",
       "        text-align: right;\n",
       "    }\n",
       "</style>\n",
       "<table border=\"1\" class=\"dataframe\">\n",
       "  <thead>\n",
       "    <tr>\n",
       "      <th></th>\n",
       "      <th colspan=\"3\" halign=\"left\">injured_count</th>\n",
       "      <th>rank</th>\n",
       "    </tr>\n",
       "    <tr>\n",
       "      <th>injury_severity_hebrew</th>\n",
       "      <th>הרוג</th>\n",
       "      <th>פצוע קל</th>\n",
       "      <th>פצוע קשה</th>\n",
       "      <th></th>\n",
       "    </tr>\n",
       "    <tr>\n",
       "      <th>school_name</th>\n",
       "      <th></th>\n",
       "      <th></th>\n",
       "      <th></th>\n",
       "      <th></th>\n",
       "    </tr>\n",
       "  </thead>\n",
       "  <tbody>\n",
       "    <tr>\n",
       "      <th>ישיבה תיכונית</th>\n",
       "      <td>0.0</td>\n",
       "      <td>34.0</td>\n",
       "      <td>4.0</td>\n",
       "      <td>38.0</td>\n",
       "    </tr>\n",
       "    <tr>\n",
       "      <th>ת\"\"ת איש מצליח</th>\n",
       "      <td>0.0</td>\n",
       "      <td>39.0</td>\n",
       "      <td>0.0</td>\n",
       "      <td>39.0</td>\n",
       "    </tr>\n",
       "    <tr>\n",
       "      <th>ת\"\"ת אהלי אברהם</th>\n",
       "      <td>0.0</td>\n",
       "      <td>36.0</td>\n",
       "      <td>3.0</td>\n",
       "      <td>39.0</td>\n",
       "    </tr>\n",
       "    <tr>\n",
       "      <th>אולפנת נווה שרה הרצוג</th>\n",
       "      <td>0.0</td>\n",
       "      <td>36.0</td>\n",
       "      <td>4.0</td>\n",
       "      <td>40.0</td>\n",
       "    </tr>\n",
       "    <tr>\n",
       "      <th>שתילים</th>\n",
       "      <td>0.0</td>\n",
       "      <td>37.0</td>\n",
       "      <td>4.0</td>\n",
       "      <td>41.0</td>\n",
       "    </tr>\n",
       "    <tr>\n",
       "      <th>...</th>\n",
       "      <td>...</td>\n",
       "      <td>...</td>\n",
       "      <td>...</td>\n",
       "      <td>...</td>\n",
       "    </tr>\n",
       "    <tr>\n",
       "      <th>תלמוד תורה בני-מנחם</th>\n",
       "      <td>0.0</td>\n",
       "      <td>178.0</td>\n",
       "      <td>8.0</td>\n",
       "      <td>186.0</td>\n",
       "    </tr>\n",
       "    <tr>\n",
       "      <th>ישיבת פוניבז'</th>\n",
       "      <td>0.0</td>\n",
       "      <td>176.0</td>\n",
       "      <td>13.0</td>\n",
       "      <td>189.0</td>\n",
       "    </tr>\n",
       "    <tr>\n",
       "      <th>כתב סופר</th>\n",
       "      <td>0.0</td>\n",
       "      <td>185.0</td>\n",
       "      <td>12.0</td>\n",
       "      <td>197.0</td>\n",
       "    </tr>\n",
       "    <tr>\n",
       "      <th>מוסדות חסידי בעלזא</th>\n",
       "      <td>0.0</td>\n",
       "      <td>318.0</td>\n",
       "      <td>12.0</td>\n",
       "      <td>330.0</td>\n",
       "    </tr>\n",
       "    <tr>\n",
       "      <th>ישיבת חזון נחום</th>\n",
       "      <td>0.0</td>\n",
       "      <td>417.0</td>\n",
       "      <td>26.0</td>\n",
       "      <td>443.0</td>\n",
       "    </tr>\n",
       "  </tbody>\n",
       "</table>\n",
       "<p>182 rows × 4 columns</p>\n",
       "</div>"
      ],
      "text/plain": [
       "                       injured_count                    rank\n",
       "injury_severity_hebrew          הרוג פצוע קל פצוע קשה       \n",
       "school_name                                                 \n",
       "ישיבה תיכונית                    0.0    34.0      4.0   38.0\n",
       "ת\"\"ת איש מצליח                   0.0    39.0      0.0   39.0\n",
       "ת\"\"ת אהלי אברהם                  0.0    36.0      3.0   39.0\n",
       "אולפנת נווה שרה הרצוג            0.0    36.0      4.0   40.0\n",
       "שתילים                           0.0    37.0      4.0   41.0\n",
       "...                              ...     ...      ...    ...\n",
       "תלמוד תורה בני-מנחם              0.0   178.0      8.0  186.0\n",
       "ישיבת פוניבז'                    0.0   176.0     13.0  189.0\n",
       "כתב סופר                         0.0   185.0     12.0  197.0\n",
       "מוסדות חסידי בעלזא               0.0   318.0     12.0  330.0\n",
       "ישיבת חזון נחום                  0.0   417.0     26.0  443.0\n",
       "\n",
       "[182 rows x 4 columns]"
      ]
     },
     "execution_count": 189,
     "metadata": {},
     "output_type": "execute_result"
    }
   ],
   "source": [
    "yishuv_rank.sort_values('rank')"
   ]
  },
  {
   "cell_type": "markdown",
   "metadata": {},
   "source": [
    "### speed around school"
   ]
  },
  {
   "cell_type": "code",
   "execution_count": 204,
   "metadata": {
    "ExecuteTime": {
     "end_time": "2020-08-13T23:31:10.976776Z",
     "start_time": "2020-08-13T23:31:10.961531Z"
    }
   },
   "outputs": [
    {
     "data": {
      "text/plain": [
       "speed_limit_hebrew\n",
       "לא ידוע        84\n",
       "עד 50 קמ\"ש    105\n",
       "dtype: int64"
      ]
     },
     "execution_count": 204,
     "metadata": {},
     "output_type": "execute_result"
    }
   ],
   "source": [
    "school_df.groupby('speed_limit_hebrew').size()"
   ]
  },
  {
   "cell_type": "code",
   "execution_count": 212,
   "metadata": {
    "ExecuteTime": {
     "end_time": "2020-08-13T23:34:45.433739Z",
     "start_time": "2020-08-13T23:34:45.409002Z"
    }
   },
   "outputs": [
    {
     "data": {
      "text/html": [
       "<div>\n",
       "<style scoped>\n",
       "    .dataframe tbody tr th:only-of-type {\n",
       "        vertical-align: middle;\n",
       "    }\n",
       "\n",
       "    .dataframe tbody tr th {\n",
       "        vertical-align: top;\n",
       "    }\n",
       "\n",
       "    .dataframe thead th {\n",
       "        text-align: right;\n",
       "    }\n",
       "</style>\n",
       "<table border=\"1\" class=\"dataframe\">\n",
       "  <thead>\n",
       "    <tr style=\"text-align: right;\">\n",
       "      <th></th>\n",
       "      <th></th>\n",
       "      <th>count</th>\n",
       "    </tr>\n",
       "    <tr>\n",
       "      <th>street1_hebrew</th>\n",
       "      <th>speed_limit_hebrew</th>\n",
       "      <th></th>\n",
       "    </tr>\n",
       "  </thead>\n",
       "  <tbody>\n",
       "    <tr>\n",
       "      <th>אהרונוביץ ראובן</th>\n",
       "      <th>עד 50 קמ\"ש</th>\n",
       "      <td>1</td>\n",
       "    </tr>\n",
       "    <tr>\n",
       "      <th rowspan=\"2\" valign=\"top\">אלישע</th>\n",
       "      <th>לא ידוע</th>\n",
       "      <td>2</td>\n",
       "    </tr>\n",
       "    <tr>\n",
       "      <th>עד 50 קמ\"ש</th>\n",
       "      <td>2</td>\n",
       "    </tr>\n",
       "    <tr>\n",
       "      <th rowspan=\"2\" valign=\"top\">אשל אברהם</th>\n",
       "      <th>לא ידוע</th>\n",
       "      <td>3</td>\n",
       "    </tr>\n",
       "    <tr>\n",
       "      <th>עד 50 קמ\"ש</th>\n",
       "      <td>3</td>\n",
       "    </tr>\n",
       "    <tr>\n",
       "      <th>בעל שם טוב</th>\n",
       "      <th>עד 50 קמ\"ש</th>\n",
       "      <td>1</td>\n",
       "    </tr>\n",
       "    <tr>\n",
       "      <th>גבורי ישראל</th>\n",
       "      <th>עד 50 קמ\"ש</th>\n",
       "      <td>1</td>\n",
       "    </tr>\n",
       "    <tr>\n",
       "      <th rowspan=\"2\" valign=\"top\">דבורה הנביאה</th>\n",
       "      <th>לא ידוע</th>\n",
       "      <td>2</td>\n",
       "    </tr>\n",
       "    <tr>\n",
       "      <th>עד 50 קמ\"ש</th>\n",
       "      <td>1</td>\n",
       "    </tr>\n",
       "    <tr>\n",
       "      <th>האדמו\"ר מגור</th>\n",
       "      <th>לא ידוע</th>\n",
       "      <td>2</td>\n",
       "    </tr>\n",
       "    <tr>\n",
       "      <th>האדמו\"ר מראדזמין</th>\n",
       "      <th>לא ידוע</th>\n",
       "      <td>1</td>\n",
       "    </tr>\n",
       "    <tr>\n",
       "      <th rowspan=\"2\" valign=\"top\">הרב בן יעקב</th>\n",
       "      <th>לא ידוע</th>\n",
       "      <td>1</td>\n",
       "    </tr>\n",
       "    <tr>\n",
       "      <th>עד 50 קמ\"ש</th>\n",
       "      <td>4</td>\n",
       "    </tr>\n",
       "    <tr>\n",
       "      <th>הרב דסלר</th>\n",
       "      <th>עד 50 קמ\"ש</th>\n",
       "      <td>2</td>\n",
       "    </tr>\n",
       "    <tr>\n",
       "      <th>הרב הירש</th>\n",
       "      <th>עד 50 קמ\"ש</th>\n",
       "      <td>1</td>\n",
       "    </tr>\n",
       "    <tr>\n",
       "      <th>הרב וסרמן אלחנן</th>\n",
       "      <th>עד 50 קמ\"ש</th>\n",
       "      <td>1</td>\n",
       "    </tr>\n",
       "    <tr>\n",
       "      <th>הרב ורנר</th>\n",
       "      <th>עד 50 קמ\"ש</th>\n",
       "      <td>1</td>\n",
       "    </tr>\n",
       "    <tr>\n",
       "      <th>הרב כהן שלמה</th>\n",
       "      <th>עד 50 קמ\"ש</th>\n",
       "      <td>1</td>\n",
       "    </tr>\n",
       "    <tr>\n",
       "      <th rowspan=\"2\" valign=\"top\">הרב כהנמן</th>\n",
       "      <th>לא ידוע</th>\n",
       "      <td>12</td>\n",
       "    </tr>\n",
       "    <tr>\n",
       "      <th>עד 50 קמ\"ש</th>\n",
       "      <td>6</td>\n",
       "    </tr>\n",
       "    <tr>\n",
       "      <th>הרב סורוצקין</th>\n",
       "      <th>עד 50 קמ\"ש</th>\n",
       "      <td>1</td>\n",
       "    </tr>\n",
       "    <tr>\n",
       "      <th rowspan=\"2\" valign=\"top\">הרב פוברסקי</th>\n",
       "      <th>לא ידוע</th>\n",
       "      <td>1</td>\n",
       "    </tr>\n",
       "    <tr>\n",
       "      <th>עד 50 קמ\"ש</th>\n",
       "      <td>1</td>\n",
       "    </tr>\n",
       "    <tr>\n",
       "      <th>הרב קוטלר</th>\n",
       "      <th>עד 50 קמ\"ש</th>\n",
       "      <td>2</td>\n",
       "    </tr>\n",
       "    <tr>\n",
       "      <th>הרב רוזובסקי</th>\n",
       "      <th>לא ידוע</th>\n",
       "      <td>1</td>\n",
       "    </tr>\n",
       "    <tr>\n",
       "      <th rowspan=\"2\" valign=\"top\">הרב שך</th>\n",
       "      <th>לא ידוע</th>\n",
       "      <td>3</td>\n",
       "    </tr>\n",
       "    <tr>\n",
       "      <th>עד 50 קמ\"ש</th>\n",
       "      <td>2</td>\n",
       "    </tr>\n",
       "    <tr>\n",
       "      <th rowspan=\"2\" valign=\"top\">חזון איש</th>\n",
       "      <th>לא ידוע</th>\n",
       "      <td>22</td>\n",
       "    </tr>\n",
       "    <tr>\n",
       "      <th>עד 50 קמ\"ש</th>\n",
       "      <td>16</td>\n",
       "    </tr>\n",
       "    <tr>\n",
       "      <th>יהודה הלוי</th>\n",
       "      <th>לא ידוע</th>\n",
       "      <td>2</td>\n",
       "    </tr>\n",
       "    <tr>\n",
       "      <th rowspan=\"2\" valign=\"top\">יונה הנביא</th>\n",
       "      <th>לא ידוע</th>\n",
       "      <td>1</td>\n",
       "    </tr>\n",
       "    <tr>\n",
       "      <th>עד 50 קמ\"ש</th>\n",
       "      <td>1</td>\n",
       "    </tr>\n",
       "    <tr>\n",
       "      <th rowspan=\"2\" valign=\"top\">ישמח משה</th>\n",
       "      <th>לא ידוע</th>\n",
       "      <td>1</td>\n",
       "    </tr>\n",
       "    <tr>\n",
       "      <th>עד 50 קמ\"ש</th>\n",
       "      <td>1</td>\n",
       "    </tr>\n",
       "    <tr>\n",
       "      <th>ככר התעשיה</th>\n",
       "      <th>עד 50 קמ\"ש</th>\n",
       "      <td>1</td>\n",
       "    </tr>\n",
       "    <tr>\n",
       "      <th rowspan=\"2\" valign=\"top\">לנדא יעקב</th>\n",
       "      <th>לא ידוע</th>\n",
       "      <td>1</td>\n",
       "    </tr>\n",
       "    <tr>\n",
       "      <th>עד 50 קמ\"ש</th>\n",
       "      <td>3</td>\n",
       "    </tr>\n",
       "    <tr>\n",
       "      <th rowspan=\"2\" valign=\"top\">מהרש\"ל</th>\n",
       "      <th>לא ידוע</th>\n",
       "      <td>1</td>\n",
       "    </tr>\n",
       "    <tr>\n",
       "      <th>עד 50 קמ\"ש</th>\n",
       "      <td>3</td>\n",
       "    </tr>\n",
       "    <tr>\n",
       "      <th>מחזיקי הדת</th>\n",
       "      <th>לא ידוע</th>\n",
       "      <td>1</td>\n",
       "    </tr>\n",
       "    <tr>\n",
       "      <th>נחום</th>\n",
       "      <th>עד 50 קמ\"ש</th>\n",
       "      <td>1</td>\n",
       "    </tr>\n",
       "    <tr>\n",
       "      <th rowspan=\"2\" valign=\"top\">נחמיה</th>\n",
       "      <th>לא ידוע</th>\n",
       "      <td>2</td>\n",
       "    </tr>\n",
       "    <tr>\n",
       "      <th>עד 50 קמ\"ש</th>\n",
       "      <td>2</td>\n",
       "    </tr>\n",
       "    <tr>\n",
       "      <th>סוקולוב</th>\n",
       "      <th>עד 50 קמ\"ש</th>\n",
       "      <td>3</td>\n",
       "    </tr>\n",
       "    <tr>\n",
       "      <th>סעדיה גאון</th>\n",
       "      <th>עד 50 קמ\"ש</th>\n",
       "      <td>6</td>\n",
       "    </tr>\n",
       "    <tr>\n",
       "      <th rowspan=\"2\" valign=\"top\">עזרא</th>\n",
       "      <th>לא ידוע</th>\n",
       "      <td>3</td>\n",
       "    </tr>\n",
       "    <tr>\n",
       "      <th>עד 50 קמ\"ש</th>\n",
       "      <td>9</td>\n",
       "    </tr>\n",
       "    <tr>\n",
       "      <th rowspan=\"2\" valign=\"top\">קדושת יום טוב</th>\n",
       "      <th>לא ידוע</th>\n",
       "      <td>2</td>\n",
       "    </tr>\n",
       "    <tr>\n",
       "      <th>עד 50 קמ\"ש</th>\n",
       "      <td>1</td>\n",
       "    </tr>\n",
       "    <tr>\n",
       "      <th>רבי אבא</th>\n",
       "      <th>לא ידוע</th>\n",
       "      <td>1</td>\n",
       "    </tr>\n",
       "    <tr>\n",
       "      <th rowspan=\"2\" valign=\"top\">רבי עקיבא</th>\n",
       "      <th>לא ידוע</th>\n",
       "      <td>11</td>\n",
       "    </tr>\n",
       "    <tr>\n",
       "      <th>עד 50 קמ\"ש</th>\n",
       "      <td>21</td>\n",
       "    </tr>\n",
       "    <tr>\n",
       "      <th>רבנו תם</th>\n",
       "      <th>לא ידוע</th>\n",
       "      <td>1</td>\n",
       "    </tr>\n",
       "    <tr>\n",
       "      <th rowspan=\"2\" valign=\"top\">רוזנהיים</th>\n",
       "      <th>לא ידוע</th>\n",
       "      <td>1</td>\n",
       "    </tr>\n",
       "    <tr>\n",
       "      <th>עד 50 קמ\"ש</th>\n",
       "      <td>1</td>\n",
       "    </tr>\n",
       "    <tr>\n",
       "      <th rowspan=\"2\" valign=\"top\">רש\"י</th>\n",
       "      <th>לא ידוע</th>\n",
       "      <td>2</td>\n",
       "    </tr>\n",
       "    <tr>\n",
       "      <th>עד 50 קמ\"ש</th>\n",
       "      <td>1</td>\n",
       "    </tr>\n",
       "    <tr>\n",
       "      <th rowspan=\"2\" valign=\"top\">שלמה המלך</th>\n",
       "      <th>לא ידוע</th>\n",
       "      <td>3</td>\n",
       "    </tr>\n",
       "    <tr>\n",
       "      <th>עד 50 קמ\"ש</th>\n",
       "      <td>1</td>\n",
       "    </tr>\n",
       "    <tr>\n",
       "      <th>שמעון הצדיק</th>\n",
       "      <th>עד 50 קמ\"ש</th>\n",
       "      <td>2</td>\n",
       "    </tr>\n",
       "  </tbody>\n",
       "</table>\n",
       "</div>"
      ],
      "text/plain": [
       "                                     count\n",
       "street1_hebrew   speed_limit_hebrew       \n",
       "אהרונוביץ ראובן  עד 50 קמ\"ש              1\n",
       "אלישע            לא ידוע                 2\n",
       "                 עד 50 קמ\"ש              2\n",
       "אשל אברהם        לא ידוע                 3\n",
       "                 עד 50 קמ\"ש              3\n",
       "בעל שם טוב       עד 50 קמ\"ש              1\n",
       "גבורי ישראל      עד 50 קמ\"ש              1\n",
       "דבורה הנביאה     לא ידוע                 2\n",
       "                 עד 50 קמ\"ש              1\n",
       "האדמו\"ר מגור     לא ידוע                 2\n",
       "האדמו\"ר מראדזמין לא ידוע                 1\n",
       "הרב בן יעקב      לא ידוע                 1\n",
       "                 עד 50 קמ\"ש              4\n",
       "הרב דסלר         עד 50 קמ\"ש              2\n",
       "הרב הירש         עד 50 קמ\"ש              1\n",
       "הרב וסרמן אלחנן  עד 50 קמ\"ש              1\n",
       "הרב ורנר         עד 50 קמ\"ש              1\n",
       "הרב כהן שלמה     עד 50 קמ\"ש              1\n",
       "הרב כהנמן        לא ידוע                12\n",
       "                 עד 50 קמ\"ש              6\n",
       "הרב סורוצקין     עד 50 קמ\"ש              1\n",
       "הרב פוברסקי      לא ידוע                 1\n",
       "                 עד 50 קמ\"ש              1\n",
       "הרב קוטלר        עד 50 קמ\"ש              2\n",
       "הרב רוזובסקי     לא ידוע                 1\n",
       "הרב שך           לא ידוע                 3\n",
       "                 עד 50 קמ\"ש              2\n",
       "חזון איש         לא ידוע                22\n",
       "                 עד 50 קמ\"ש             16\n",
       "יהודה הלוי       לא ידוע                 2\n",
       "יונה הנביא       לא ידוע                 1\n",
       "                 עד 50 קמ\"ש              1\n",
       "ישמח משה         לא ידוע                 1\n",
       "                 עד 50 קמ\"ש              1\n",
       "ככר התעשיה       עד 50 קמ\"ש              1\n",
       "לנדא יעקב        לא ידוע                 1\n",
       "                 עד 50 קמ\"ש              3\n",
       "מהרש\"ל           לא ידוע                 1\n",
       "                 עד 50 קמ\"ש              3\n",
       "מחזיקי הדת       לא ידוע                 1\n",
       "נחום             עד 50 קמ\"ש              1\n",
       "נחמיה            לא ידוע                 2\n",
       "                 עד 50 קמ\"ש              2\n",
       "סוקולוב          עד 50 קמ\"ש              3\n",
       "סעדיה גאון       עד 50 קמ\"ש              6\n",
       "עזרא             לא ידוע                 3\n",
       "                 עד 50 קמ\"ש              9\n",
       "קדושת יום טוב    לא ידוע                 2\n",
       "                 עד 50 קמ\"ש              1\n",
       "רבי אבא          לא ידוע                 1\n",
       "רבי עקיבא        לא ידוע                11\n",
       "                 עד 50 קמ\"ש             21\n",
       "רבנו תם          לא ידוע                 1\n",
       "רוזנהיים         לא ידוע                 1\n",
       "                 עד 50 קמ\"ש              1\n",
       "רש\"י             לא ידוע                 2\n",
       "                 עד 50 קמ\"ש              1\n",
       "שלמה המלך        לא ידוע                 3\n",
       "                 עד 50 קמ\"ש              1\n",
       "שמעון הצדיק      עד 50 קמ\"ש              2"
      ]
     },
     "execution_count": 212,
     "metadata": {},
     "output_type": "execute_result"
    }
   ],
   "source": [
    "school_df.groupby(['street1_hebrew', 'speed_limit_hebrew']).size().rename('count').to_frame().iloc[0:60]"
   ]
  },
  {
   "cell_type": "markdown",
   "metadata": {},
   "source": [
    "### cross?"
   ]
  },
  {
   "cell_type": "code",
   "execution_count": 197,
   "metadata": {
    "ExecuteTime": {
     "end_time": "2020-08-13T23:04:03.136349Z",
     "start_time": "2020-08-13T23:04:03.125833Z"
    }
   },
   "outputs": [
    {
     "data": {
      "text/plain": [
       "['Unnamed: 0',\n",
       " 'accident_id',\n",
       " 'provider_and_id',\n",
       " 'provider_code',\n",
       " 'file_type_police',\n",
       " 'involved_type',\n",
       " 'involved_type_hebrew',\n",
       " 'license_acquiring_date',\n",
       " 'age_group',\n",
       " 'age_group_hebrew',\n",
       " 'sex',\n",
       " 'sex_hebrew',\n",
       " 'involve_vehicle_type',\n",
       " 'involve_vehicle_type_hebrew',\n",
       " 'safety_measures',\n",
       " 'safety_measures_hebrew',\n",
       " 'involve_yishuv_symbol',\n",
       " 'involve_yishuv_name',\n",
       " 'injury_severity',\n",
       " 'injury_severity_hebrew',\n",
       " 'injured_type',\n",
       " 'injured_type_hebrew',\n",
       " 'injured_position',\n",
       " 'injured_position_hebrew',\n",
       " 'population_type',\n",
       " 'population_type_hebrew',\n",
       " 'involve_home_region',\n",
       " 'involve_home_region_hebrew',\n",
       " 'involve_home_district',\n",
       " 'involve_home_district_hebrew',\n",
       " 'involve_home_natural_area',\n",
       " 'involve_home_natural_area_hebrew',\n",
       " 'involve_home_municipal_status',\n",
       " 'involve_home_municipal_status_hebrew',\n",
       " 'involve_home_yishuv_shape',\n",
       " 'involve_home_yishuv_shape_hebrew',\n",
       " 'hospital_time',\n",
       " 'hospital_time_hebrew',\n",
       " 'medical_type',\n",
       " 'medical_type_hebrew',\n",
       " 'release_dest',\n",
       " 'release_dest_hebrew',\n",
       " 'safety_measures_use',\n",
       " 'safety_measures_use_hebrew',\n",
       " 'late_deceased',\n",
       " 'late_deceased_hebrew',\n",
       " 'car_id',\n",
       " 'involve_id',\n",
       " 'accident_timestamp',\n",
       " 'provider_code_hebrew',\n",
       " 'accident_type',\n",
       " 'accident_type_hebrew',\n",
       " 'accident_severity',\n",
       " 'accident_severity_hebrew',\n",
       " 'location_accuracy',\n",
       " 'location_accuracy_hebrew',\n",
       " 'road_type',\n",
       " 'road_type_hebrew',\n",
       " 'road_shape',\n",
       " 'road_shape_hebrew',\n",
       " 'day_type',\n",
       " 'day_type_hebrew',\n",
       " 'police_unit',\n",
       " 'police_unit_hebrew',\n",
       " 'one_lane',\n",
       " 'one_lane_hebrew',\n",
       " 'multi_lane',\n",
       " 'multi_lane_hebrew',\n",
       " 'speed_limit',\n",
       " 'speed_limit_hebrew',\n",
       " 'road_intactness',\n",
       " 'road_intactness_hebrew',\n",
       " 'road_width',\n",
       " 'road_width_hebrew',\n",
       " 'road_sign',\n",
       " 'road_sign_hebrew',\n",
       " 'road_light',\n",
       " 'road_light_hebrew',\n",
       " 'road_control',\n",
       " 'road_control_hebrew',\n",
       " 'weather',\n",
       " 'weather_hebrew',\n",
       " 'road_surface',\n",
       " 'road_surface_hebrew',\n",
       " 'road_object',\n",
       " 'road_object_hebrew',\n",
       " 'object_distance',\n",
       " 'object_distance_hebrew',\n",
       " 'didnt_cross',\n",
       " 'didnt_cross_hebrew',\n",
       " 'cross_mode',\n",
       " 'cross_mode_hebrew',\n",
       " 'cross_location',\n",
       " 'cross_location_hebrew',\n",
       " 'cross_direction',\n",
       " 'cross_direction_hebrew',\n",
       " 'road1',\n",
       " 'road2',\n",
       " 'km',\n",
       " 'km_raw',\n",
       " 'km_accurate',\n",
       " 'accident_yishuv_symbol',\n",
       " 'accident_yishuv_name',\n",
       " 'geo_area',\n",
       " 'geo_area_hebrew',\n",
       " 'day_night',\n",
       " 'day_night_hebrew',\n",
       " 'day_in_week',\n",
       " 'day_in_week_hebrew',\n",
       " 'traffic_light',\n",
       " 'traffic_light_hebrew',\n",
       " 'accident_region',\n",
       " 'accident_region_hebrew',\n",
       " 'accident_district',\n",
       " 'accident_district_hebrew',\n",
       " 'accident_natural_area',\n",
       " 'accident_natural_area_hebrew',\n",
       " 'accident_municipal_status',\n",
       " 'accident_municipal_status_hebrew',\n",
       " 'accident_yishuv_shape',\n",
       " 'accident_yishuv_shape_hebrew',\n",
       " 'street1',\n",
       " 'street1_hebrew',\n",
       " 'street2',\n",
       " 'street2_hebrew',\n",
       " 'non_urban_intersection_hebrew',\n",
       " 'accident_year',\n",
       " 'accident_month',\n",
       " 'accident_day',\n",
       " 'accident_hour_raw',\n",
       " 'accident_hour_raw_hebrew',\n",
       " 'accident_hour',\n",
       " 'accident_minute',\n",
       " 'geom',\n",
       " 'latitude',\n",
       " 'longitude',\n",
       " 'x',\n",
       " 'y',\n",
       " 'road_segment_id',\n",
       " 'road_segment_name',\n",
       " 'engine_volume',\n",
       " 'engine_volume_hebrew',\n",
       " 'manufacturing_year',\n",
       " 'driving_directions',\n",
       " 'driving_directions_hebrew',\n",
       " 'vehicle_status',\n",
       " 'vehicle_status_hebrew',\n",
       " 'vehicle_attribution',\n",
       " 'vehicle_attribution_hebrew',\n",
       " 'seats',\n",
       " 'total_weight',\n",
       " 'total_weight_hebrew',\n",
       " 'vehicle_vehicle_type',\n",
       " 'vehicle_vehicle_type_hebrew',\n",
       " 'vehicle_damage',\n",
       " 'vehicle_damage_hebrew',\n",
       " 'road_segment_number',\n",
       " 'school_id',\n",
       " 'school_type',\n",
       " 'school_name',\n",
       " 'school_yishuv_name',\n",
       " 'school_longitude',\n",
       " 'school_latitude']"
      ]
     },
     "execution_count": 197,
     "metadata": {},
     "output_type": "execute_result"
    }
   ],
   "source": [
    "list(school_df.columns)"
   ]
  },
  {
   "cell_type": "code",
   "execution_count": 200,
   "metadata": {
    "ExecuteTime": {
     "end_time": "2020-08-13T23:04:29.637058Z",
     "start_time": "2020-08-13T23:04:29.627808Z"
    }
   },
   "outputs": [
    {
     "data": {
      "text/plain": [
       "cross_location_hebrew\n",
       "במעבר חצייה בלי רמזור         44\n",
       "במעבר חצייה עם רמזור          12\n",
       "לא במעבר חצייה לא ליד צומת    13\n",
       "לא במעבר חצייה ליד צומת        2\n",
       "לא ידוע מקום חצייה             3\n",
       "dtype: int64"
      ]
     },
     "execution_count": 200,
     "metadata": {},
     "output_type": "execute_result"
    }
   ],
   "source": [
    "school_df.groupby('cross_location_hebrew').size()"
   ]
  },
  {
   "cell_type": "code",
   "execution_count": 202,
   "metadata": {
    "ExecuteTime": {
     "end_time": "2020-08-13T23:14:45.936771Z",
     "start_time": "2020-08-13T23:14:45.927217Z"
    }
   },
   "outputs": [
    {
     "data": {
      "text/plain": [
       "cross_location\n",
       "0    48\n",
       "1     2\n",
       "2    13\n",
       "3    44\n",
       "4    12\n",
       "9     3\n",
       "dtype: int64"
      ]
     },
     "execution_count": 202,
     "metadata": {},
     "output_type": "execute_result"
    }
   ],
   "source": [
    "school_df[school_df.injured_type == 1].groupby('cross_location').size()"
   ]
  },
  {
   "cell_type": "markdown",
   "metadata": {},
   "source": [
    "###"
   ]
  },
  {
   "cell_type": "code",
   "execution_count": 126,
   "metadata": {
    "ExecuteTime": {
     "end_time": "2020-08-13T21:56:53.829348Z",
     "start_time": "2020-08-13T21:56:53.823889Z"
    }
   },
   "outputs": [],
   "source": [
    "pedastrians_df = school_df.loc[school_df.injured_type == 1]"
   ]
  },
  {
   "cell_type": "code",
   "execution_count": 130,
   "metadata": {
    "ExecuteTime": {
     "end_time": "2020-08-13T21:58:45.722635Z",
     "start_time": "2020-08-13T21:58:45.714175Z"
    }
   },
   "outputs": [
    {
     "data": {
      "text/plain": [
       "accident_year\n",
       "2015    35\n",
       "2016    20\n",
       "2017    28\n",
       "2018    11\n",
       "2019    22\n",
       "2020     6\n",
       "dtype: int64"
      ]
     },
     "execution_count": 130,
     "metadata": {},
     "output_type": "execute_result"
    }
   ],
   "source": [
    "pedastrians_df.groupby('accident_year').size()"
   ]
  },
  {
   "cell_type": "code",
   "execution_count": 127,
   "metadata": {
    "ExecuteTime": {
     "end_time": "2020-08-13T21:57:01.555535Z",
     "start_time": "2020-08-13T21:57:01.549081Z"
    }
   },
   "outputs": [
    {
     "data": {
      "text/plain": [
       "(122, 163)"
      ]
     },
     "execution_count": 127,
     "metadata": {},
     "output_type": "execute_result"
    }
   ],
   "source": [
    "pedastrians_df.shape"
   ]
  },
  {
   "cell_type": "code",
   "execution_count": 30,
   "metadata": {
    "ExecuteTime": {
     "end_time": "2020-08-13T21:35:06.972640Z",
     "start_time": "2020-08-13T21:35:06.967687Z"
    }
   },
   "outputs": [
    {
     "data": {
      "text/plain": [
       "Timestamp('2020-06-24 13:30:00')"
      ]
     },
     "execution_count": 30,
     "metadata": {},
     "output_type": "execute_result"
    }
   ],
   "source": [
    "pedastrians_df.accident_timestamp.max()"
   ]
  },
  {
   "cell_type": "code",
   "execution_count": 21,
   "metadata": {
    "ExecuteTime": {
     "end_time": "2020-08-13T21:28:32.909003Z",
     "start_time": "2020-08-13T21:28:32.897942Z"
    }
   },
   "outputs": [
    {
     "data": {
      "text/plain": [
       "123"
      ]
     },
     "execution_count": 21,
     "metadata": {},
     "output_type": "execute_result"
    }
   ],
   "source": []
  },
  {
   "cell_type": "markdown",
   "metadata": {},
   "source": [
    "## Draft"
   ]
  },
  {
   "cell_type": "markdown",
   "metadata": {},
   "source": [
    "### filter only pedastrians"
   ]
  },
  {
   "cell_type": "code",
   "execution_count": 212,
   "metadata": {
    "ExecuteTime": {
     "end_time": "2020-08-12T23:26:46.507908Z",
     "start_time": "2020-08-12T23:26:46.502348Z"
    }
   },
   "outputs": [],
   "source": [
    "filter_pedastrians = False\n",
    "if filter_pedastrians == True:\n",
    "    total_df = total_df.loc[total_df.injured_type == 1]"
   ]
  },
  {
   "cell_type": "code",
   "execution_count": 213,
   "metadata": {
    "ExecuteTime": {
     "end_time": "2020-08-12T23:26:47.282887Z",
     "start_time": "2020-08-12T23:26:47.274827Z"
    }
   },
   "outputs": [
    {
     "data": {
      "text/plain": [
       "(125690, 163)"
      ]
     },
     "execution_count": 213,
     "metadata": {},
     "output_type": "execute_result"
    }
   ],
   "source": [
    "total_df.shape"
   ]
  },
  {
   "cell_type": "code",
   "execution_count": 214,
   "metadata": {
    "ExecuteTime": {
     "end_time": "2020-08-12T23:26:50.141559Z",
     "start_time": "2020-08-12T23:26:49.907796Z"
    }
   },
   "outputs": [],
   "source": [
    "schools_df = total_df.loc[total_df.school_type == 'בית ספר']"
   ]
  },
  {
   "cell_type": "code",
   "execution_count": 215,
   "metadata": {
    "ExecuteTime": {
     "end_time": "2020-08-12T23:26:50.414186Z",
     "start_time": "2020-08-12T23:26:50.405903Z"
    }
   },
   "outputs": [
    {
     "data": {
      "text/plain": [
       "0   2016-02-15 17:00:00\n",
       "1   2017-11-28 16:45:00\n",
       "2   2018-03-19 07:45:00\n",
       "3   2018-12-30 00:30:00\n",
       "4   2019-09-22 11:30:00\n",
       "Name: accident_timestamp, dtype: datetime64[ns]"
      ]
     },
     "execution_count": 215,
     "metadata": {},
     "output_type": "execute_result"
    }
   ],
   "source": [
    "schools_df.accident_timestamp.head()"
   ]
  },
  {
   "cell_type": "code",
   "execution_count": 216,
   "metadata": {
    "ExecuteTime": {
     "end_time": "2020-08-12T23:27:28.180260Z",
     "start_time": "2020-08-12T23:26:51.336110Z"
    }
   },
   "outputs": [],
   "source": [
    "analysis = defaultdict(dict)\n",
    "\n",
    "for school_id in schools_df.school_id.unique():\n",
    "    school_df = schools_df.loc[schools_df.school_id == school_id]\n",
    "    df_2019_2020 = school_df.loc[(school_df.accident_timestamp >= pd.Timestamp('2019-06-01')) & (school_df.accident_timestamp <= pd.Timestamp('2020-05-31'))]\n",
    "    df_2018_2019 = school_df.loc[(school_df.accident_timestamp >= pd.Timestamp('2018-06-01')) & (school_df.accident_timestamp <= pd.Timestamp('2019-05-31'))]\n",
    "    analysis[school_id]['total_19_20'] = df_2019_2020.shape[0]\n",
    "    analysis[school_id]['total_18_19'] = df_2018_2019.shape[0]\n",
    "    analysis[school_id]['total_diff'] = df_2019_2020.shape[0] - df_2018_2019.shape[0]\n",
    "analysis = pd.DataFrame(analysis).T"
   ]
  },
  {
   "cell_type": "code",
   "execution_count": 217,
   "metadata": {
    "ExecuteTime": {
     "end_time": "2020-08-12T23:27:28.191022Z",
     "start_time": "2020-08-12T23:27:28.184353Z"
    }
   },
   "outputs": [],
   "source": [
    "analysis.sort_values('total_diff', inplace=True)"
   ]
  },
  {
   "cell_type": "code",
   "execution_count": 218,
   "metadata": {
    "ExecuteTime": {
     "end_time": "2020-08-12T23:27:28.448179Z",
     "start_time": "2020-08-12T23:27:28.197287Z"
    }
   },
   "outputs": [
    {
     "data": {
      "text/plain": [
       "<matplotlib.axes._subplots.AxesSubplot at 0x13b4d75d0>"
      ]
     },
     "execution_count": 218,
     "metadata": {},
     "output_type": "execute_result"
    },
    {
     "data": {
      "image/png": "[encoded data removed]",
      "text/plain": [
       "<Figure size 432x288 with 1 Axes>"
      ]
     },
     "metadata": {
      "needs_background": "light"
     },
     "output_type": "display_data"
    }
   ],
   "source": [
    "analysis.total_diff.plot.hist()"
   ]
  },
  {
   "cell_type": "code",
   "execution_count": 219,
   "metadata": {
    "ExecuteTime": {
     "end_time": "2020-08-12T23:27:28.459045Z",
     "start_time": "2020-08-12T23:27:28.451024Z"
    }
   },
   "outputs": [
    {
     "data": {
      "text/plain": [
       "-0.42845786963434024"
      ]
     },
     "execution_count": 219,
     "metadata": {},
     "output_type": "execute_result"
    }
   ],
   "source": [
    "analysis.total_diff.mean()"
   ]
  },
  {
   "cell_type": "code",
   "execution_count": 221,
   "metadata": {
    "ExecuteTime": {
     "end_time": "2020-08-12T23:29:23.589362Z",
     "start_time": "2020-08-12T23:29:23.582351Z"
    }
   },
   "outputs": [
    {
     "data": {
      "text/plain": [
       "3.6100025815726746"
      ]
     },
     "execution_count": 221,
     "metadata": {},
     "output_type": "execute_result"
    }
   ],
   "source": [
    "analysis.total_diff.std()"
   ]
  },
  {
   "cell_type": "code",
   "execution_count": 222,
   "metadata": {
    "ExecuteTime": {
     "end_time": "2020-08-12T23:29:25.020853Z",
     "start_time": "2020-08-12T23:29:25.007741Z"
    }
   },
   "outputs": [],
   "source": [
    "largest_diff_schools = analysis.iloc[-10:].index.values[::-1]"
   ]
  },
  {
   "cell_type": "code",
   "execution_count": 223,
   "metadata": {
    "ExecuteTime": {
     "end_time": "2020-08-12T23:29:25.412345Z",
     "start_time": "2020-08-12T23:29:25.407881Z"
    }
   },
   "outputs": [],
   "source": [
    "smallest_diff_schools = analysis.iloc[:10].index.values"
   ]
  },
  {
   "cell_type": "code",
   "execution_count": 224,
   "metadata": {
    "ExecuteTime": {
     "end_time": "2020-08-12T23:29:26.202020Z",
     "start_time": "2020-08-12T23:29:25.894028Z"
    }
   },
   "outputs": [
    {
     "name": "stdout",
     "output_type": "stream",
     "text": [
      "512103\n",
      "['ב\"\"י אוהלי אליעזר']\n",
      "['בני ברק']\n",
      "total_19_20    27\n",
      "total_18_19    11\n",
      "total_diff     16\n",
      "Name: 512103, dtype: int64\n",
      "610162\n",
      "['ארלוזורוב']\n",
      "['אשקלון']\n",
      "total_19_20    20\n",
      "total_18_19     5\n",
      "total_diff     15\n",
      "Name: 610162, dtype: int64\n",
      "510156\n",
      "['מקור חיים מד']\n",
      "['בני ברק']\n",
      "total_19_20    25\n",
      "total_18_19    11\n",
      "total_diff     14\n",
      "Name: 510156, dtype: int64\n",
      "641183\n",
      "['ישיבת צביה אשקלון']\n",
      "['אשקלון']\n",
      "total_19_20    17\n",
      "total_18_19     3\n",
      "total_diff     14\n",
      "Name: 641183, dtype: int64\n",
      "514109\n",
      "['ת\"\"ת אור דוד']\n",
      "['בני ברק']\n",
      "total_19_20    26\n",
      "total_18_19    12\n",
      "total_diff     14\n",
      "Name: 514109, dtype: int64\n",
      "610196\n",
      "['עוזיאל']\n",
      "['אשקלון']\n",
      "total_19_20    16\n",
      "total_18_19     2\n",
      "total_diff     14\n",
      "Name: 610196, dtype: int64\n",
      "614693\n",
      "['שובו ניצנים-מעורב']\n",
      "['אשקלון']\n",
      "total_19_20    17\n",
      "total_18_19     4\n",
      "total_diff     13\n",
      "Name: 614693, dtype: int64\n",
      "544692\n",
      "['מקיף דתי כרם שלמה']\n",
      "['חולון']\n",
      "total_19_20    14\n",
      "total_18_19     2\n",
      "total_diff     12\n",
      "Name: 544692, dtype: int64\n",
      "640128\n",
      "['מקיף א כללי']\n",
      "['אשדוד']\n",
      "total_19_20    16\n",
      "total_18_19     4\n",
      "total_diff     12\n",
      "Name: 640128, dtype: int64\n",
      "660332\n",
      "['שערי רחמים']\n",
      "['ירושלים']\n",
      "total_19_20    22\n",
      "total_18_19    10\n",
      "total_diff     12\n",
      "Name: 660332, dtype: int64\n"
     ]
    }
   ],
   "source": [
    "for school_id in largest_diff_schools:\n",
    "    print(school_id)\n",
    "    school_df = schools_df.loc[schools_df.school_id == school_id]\n",
    "    print(school_df.school_name.unique())\n",
    "    print(school_df.school_yishuv_name.unique())\n",
    "    print(analysis.loc[school_id])\n",
    "    "
   ]
  },
  {
   "cell_type": "code",
   "execution_count": 226,
   "metadata": {
    "ExecuteTime": {
     "end_time": "2020-08-12T23:32:52.659572Z",
     "start_time": "2020-08-12T23:32:52.327924Z"
    }
   },
   "outputs": [
    {
     "name": "stdout",
     "output_type": "stream",
     "text": [
      "614404\n",
      "['כוכב הצפון']\n",
      "['אשקלון']\n",
      "total_19_20     6\n",
      "total_18_19    26\n",
      "total_diff    -20\n",
      "Name: 614404, dtype: int64\n",
      "610097\n",
      "['גאולים']\n",
      "['אשדוד']\n",
      "total_19_20     1\n",
      "total_18_19    20\n",
      "total_diff    -19\n",
      "Name: 610097, dtype: int64\n",
      "513499\n",
      "['ת\"\"ת זיו התורה']\n",
      "['בני ברק']\n",
      "total_19_20    13\n",
      "total_18_19    31\n",
      "total_diff    -18\n",
      "Name: 513499, dtype: int64\n",
      "615112\n",
      "['בי\"\"ס לבנות ב\"\"י אידי']\n",
      "['אשדוד']\n",
      "total_19_20     3\n",
      "total_18_19    21\n",
      "total_diff    -18\n",
      "Name: 615112, dtype: int64\n",
      "670323\n",
      "['מרכז חנוך משיבי חיים']\n",
      "['אשדוד']\n",
      "total_19_20     1\n",
      "total_18_19    18\n",
      "total_diff    -17\n",
      "Name: 670323, dtype: int64\n",
      "571224\n",
      "['תיכון חדש דרכא']\n",
      "['בת ים']\n",
      "total_19_20     6\n",
      "total_18_19    23\n",
      "total_diff    -17\n",
      "Name: 571224, dtype: int64\n",
      "514281\n",
      "['ת\"\"ת פרי חדש']\n",
      "['בני ברק']\n",
      "total_19_20    15\n",
      "total_18_19    32\n",
      "total_diff    -17\n",
      "Name: 514281, dtype: int64\n",
      "513101\n",
      "['בן גוריון']\n",
      "['בת ים']\n",
      "total_19_20     8\n",
      "total_18_19    24\n",
      "total_diff    -16\n",
      "Name: 513101, dtype: int64\n",
      "540674\n",
      "['ישיבת ב\"\"ע אדרת']\n",
      "['בת ים']\n",
      "total_19_20     6\n",
      "total_18_19    22\n",
      "total_diff    -16\n",
      "Name: 540674, dtype: int64\n",
      "541458\n",
      "['ישיבת כנסת יששכר']\n",
      "['בני ברק']\n",
      "total_19_20    21\n",
      "total_18_19    36\n",
      "total_diff    -15\n",
      "Name: 541458, dtype: int64\n"
     ]
    }
   ],
   "source": [
    "for school_id in smallest_diff_schools:\n",
    "    print(school_id)\n",
    "    school_df = schools_df.loc[schools_df.school_id == school_id]\n",
    "    print(school_df.school_name.unique())\n",
    "    print(school_df.school_yishuv_name.unique())\n",
    "    print(analysis.loc[school_id])\n",
    "    "
   ]
  },
  {
   "cell_type": "code",
   "execution_count": 179,
   "metadata": {
    "ExecuteTime": {
     "end_time": "2020-08-12T23:02:47.310727Z",
     "start_time": "2020-08-12T23:02:47.097016Z"
    }
   },
   "outputs": [
    {
     "data": {
      "text/plain": [
       "<matplotlib.axes._subplots.AxesSubplot at 0x1349543d0>"
      ]
     },
     "execution_count": 179,
     "metadata": {},
     "output_type": "execute_result"
    },
    {
     "data": {
      "image/png": "[encoded data removed]",
      "text/plain": [
       "<Figure size 432x288 with 1 Axes>"
      ]
     },
     "metadata": {
      "needs_background": "light"
     },
     "output_type": "display_data"
    }
   ],
   "source": [
    "schools_df.loc[schools_df.school_id == 520023].groupby(['accident_year', 'accident_type_hebrew']).size().rename('count').unstack().fillna(0).plot.bar()"
   ]
  },
  {
   "cell_type": "code",
   "execution_count": 228,
   "metadata": {
    "ExecuteTime": {
     "end_time": "2020-08-12T23:35:24.099569Z",
     "start_time": "2020-08-12T23:35:23.877721Z"
    }
   },
   "outputs": [
    {
     "data": {
      "text/plain": [
       "<matplotlib.axes._subplots.AxesSubplot at 0x1203f5890>"
      ]
     },
     "execution_count": 228,
     "metadata": {},
     "output_type": "execute_result"
    },
    {
     "data": {
      "image/png": "[encoded data removed]",
      "text/plain": [
       "<Figure size 432x288 with 1 Axes>"
      ]
     },
     "metadata": {
      "needs_background": "light"
     },
     "output_type": "display_data"
    }
   ],
   "source": [
    "sdf = schools_df.loc[schools_df.school_id == 614404, ['accident_timestamp', 'accident_severity']]\n",
    "sdf.set_index('accident_timestamp').groupby(pd.Grouper(freq=\"Q\")).size().plot()"
   ]
  },
  {
   "cell_type": "code",
   "execution_count": 238,
   "metadata": {
    "ExecuteTime": {
     "end_time": "2020-08-12T23:41:12.092129Z",
     "start_time": "2020-08-12T23:41:12.058126Z"
    }
   },
   "outputs": [
    {
     "data": {
      "text/html": [
       "<div>\n",
       "<style scoped>\n",
       "    .dataframe tbody tr th:only-of-type {\n",
       "        vertical-align: middle;\n",
       "    }\n",
       "\n",
       "    .dataframe tbody tr th {\n",
       "        vertical-align: top;\n",
       "    }\n",
       "\n",
       "    .dataframe thead th {\n",
       "        text-align: right;\n",
       "    }\n",
       "</style>\n",
       "<table border=\"1\" class=\"dataframe\">\n",
       "  <thead>\n",
       "    <tr style=\"text-align: right;\">\n",
       "      <th></th>\n",
       "      <th></th>\n",
       "      <th></th>\n",
       "      <th>0</th>\n",
       "    </tr>\n",
       "    <tr>\n",
       "      <th>street1_hebrew</th>\n",
       "      <th>accident_year</th>\n",
       "      <th>accident_month</th>\n",
       "      <th></th>\n",
       "    </tr>\n",
       "  </thead>\n",
       "  <tbody>\n",
       "    <tr>\n",
       "      <th rowspan=\"18\" valign=\"top\">ביאליק</th>\n",
       "      <th rowspan=\"4\" valign=\"top\">2014</th>\n",
       "      <th>9</th>\n",
       "      <td>1</td>\n",
       "    </tr>\n",
       "    <tr>\n",
       "      <th>10</th>\n",
       "      <td>1</td>\n",
       "    </tr>\n",
       "    <tr>\n",
       "      <th>11</th>\n",
       "      <td>1</td>\n",
       "    </tr>\n",
       "    <tr>\n",
       "      <th>12</th>\n",
       "      <td>1</td>\n",
       "    </tr>\n",
       "    <tr>\n",
       "      <th rowspan=\"2\" valign=\"top\">2015</th>\n",
       "      <th>6</th>\n",
       "      <td>1</td>\n",
       "    </tr>\n",
       "    <tr>\n",
       "      <th>11</th>\n",
       "      <td>1</td>\n",
       "    </tr>\n",
       "    <tr>\n",
       "      <th rowspan=\"3\" valign=\"top\">2016</th>\n",
       "      <th>3</th>\n",
       "      <td>1</td>\n",
       "    </tr>\n",
       "    <tr>\n",
       "      <th>11</th>\n",
       "      <td>1</td>\n",
       "    </tr>\n",
       "    <tr>\n",
       "      <th>12</th>\n",
       "      <td>1</td>\n",
       "    </tr>\n",
       "    <tr>\n",
       "      <th>2017</th>\n",
       "      <th>2</th>\n",
       "      <td>1</td>\n",
       "    </tr>\n",
       "    <tr>\n",
       "      <th rowspan=\"3\" valign=\"top\">2018</th>\n",
       "      <th>1</th>\n",
       "      <td>1</td>\n",
       "    </tr>\n",
       "    <tr>\n",
       "      <th>2</th>\n",
       "      <td>1</td>\n",
       "    </tr>\n",
       "    <tr>\n",
       "      <th>3</th>\n",
       "      <td>1</td>\n",
       "    </tr>\n",
       "    <tr>\n",
       "      <th rowspan=\"4\" valign=\"top\">2019</th>\n",
       "      <th>7</th>\n",
       "      <td>1</td>\n",
       "    </tr>\n",
       "    <tr>\n",
       "      <th>9</th>\n",
       "      <td>1</td>\n",
       "    </tr>\n",
       "    <tr>\n",
       "      <th>10</th>\n",
       "      <td>1</td>\n",
       "    </tr>\n",
       "    <tr>\n",
       "      <th>11</th>\n",
       "      <td>4</td>\n",
       "    </tr>\n",
       "    <tr>\n",
       "      <th>2020</th>\n",
       "      <th>6</th>\n",
       "      <td>1</td>\n",
       "    </tr>\n",
       "    <tr>\n",
       "      <th>ברגסון</th>\n",
       "      <th>2014</th>\n",
       "      <th>1</th>\n",
       "      <td>1</td>\n",
       "    </tr>\n",
       "    <tr>\n",
       "      <th rowspan=\"2\" valign=\"top\">הארי</th>\n",
       "      <th>2014</th>\n",
       "      <th>3</th>\n",
       "      <td>1</td>\n",
       "    </tr>\n",
       "    <tr>\n",
       "      <th>2018</th>\n",
       "      <th>5</th>\n",
       "      <td>1</td>\n",
       "    </tr>\n",
       "    <tr>\n",
       "      <th rowspan=\"10\" valign=\"top\">ההסתדרות</th>\n",
       "      <th rowspan=\"2\" valign=\"top\">2014</th>\n",
       "      <th>9</th>\n",
       "      <td>1</td>\n",
       "    </tr>\n",
       "    <tr>\n",
       "      <th>11</th>\n",
       "      <td>1</td>\n",
       "    </tr>\n",
       "    <tr>\n",
       "      <th rowspan=\"2\" valign=\"top\">2015</th>\n",
       "      <th>8</th>\n",
       "      <td>2</td>\n",
       "    </tr>\n",
       "    <tr>\n",
       "      <th>12</th>\n",
       "      <td>1</td>\n",
       "    </tr>\n",
       "    <tr>\n",
       "      <th>2016</th>\n",
       "      <th>8</th>\n",
       "      <td>1</td>\n",
       "    </tr>\n",
       "    <tr>\n",
       "      <th rowspan=\"2\" valign=\"top\">2018</th>\n",
       "      <th>2</th>\n",
       "      <td>1</td>\n",
       "    </tr>\n",
       "    <tr>\n",
       "      <th>7</th>\n",
       "      <td>2</td>\n",
       "    </tr>\n",
       "    <tr>\n",
       "      <th rowspan=\"3\" valign=\"top\">2019</th>\n",
       "      <th>7</th>\n",
       "      <td>1</td>\n",
       "    </tr>\n",
       "    <tr>\n",
       "      <th>8</th>\n",
       "      <td>1</td>\n",
       "    </tr>\n",
       "    <tr>\n",
       "      <th>10</th>\n",
       "      <td>1</td>\n",
       "    </tr>\n",
       "    <tr>\n",
       "      <th>ז'בוטינסקי</th>\n",
       "      <th>2017</th>\n",
       "      <th>8</th>\n",
       "      <td>1</td>\n",
       "    </tr>\n",
       "    <tr>\n",
       "      <th>חתם סופר</th>\n",
       "      <th>2018</th>\n",
       "      <th>9</th>\n",
       "      <td>1</td>\n",
       "    </tr>\n",
       "    <tr>\n",
       "      <th rowspan=\"4\" valign=\"top\">יהודה הלוי</th>\n",
       "      <th>2014</th>\n",
       "      <th>9</th>\n",
       "      <td>1</td>\n",
       "    </tr>\n",
       "    <tr>\n",
       "      <th>2016</th>\n",
       "      <th>3</th>\n",
       "      <td>1</td>\n",
       "    </tr>\n",
       "    <tr>\n",
       "      <th>2017</th>\n",
       "      <th>4</th>\n",
       "      <td>1</td>\n",
       "    </tr>\n",
       "    <tr>\n",
       "      <th>2018</th>\n",
       "      <th>1</th>\n",
       "      <td>1</td>\n",
       "    </tr>\n",
       "    <tr>\n",
       "      <th>יוספטל</th>\n",
       "      <th>2017</th>\n",
       "      <th>5</th>\n",
       "      <td>1</td>\n",
       "    </tr>\n",
       "    <tr>\n",
       "      <th>סמולנסקין</th>\n",
       "      <th>2018</th>\n",
       "      <th>4</th>\n",
       "      <td>1</td>\n",
       "    </tr>\n",
       "    <tr>\n",
       "      <th rowspan=\"3\" valign=\"top\">עגנון</th>\n",
       "      <th>2014</th>\n",
       "      <th>1</th>\n",
       "      <td>1</td>\n",
       "    </tr>\n",
       "    <tr>\n",
       "      <th>2015</th>\n",
       "      <th>9</th>\n",
       "      <td>1</td>\n",
       "    </tr>\n",
       "    <tr>\n",
       "      <th>2018</th>\n",
       "      <th>1</th>\n",
       "      <td>1</td>\n",
       "    </tr>\n",
       "    <tr>\n",
       "      <th>פרץ י ל</th>\n",
       "      <th>2016</th>\n",
       "      <th>3</th>\n",
       "      <td>1</td>\n",
       "    </tr>\n",
       "    <tr>\n",
       "      <th>צור אפרים</th>\n",
       "      <th>2020</th>\n",
       "      <th>3</th>\n",
       "      <td>1</td>\n",
       "    </tr>\n",
       "    <tr>\n",
       "      <th rowspan=\"7\" valign=\"top\">שד בן גוריון</th>\n",
       "      <th>2014</th>\n",
       "      <th>8</th>\n",
       "      <td>1</td>\n",
       "    </tr>\n",
       "    <tr>\n",
       "      <th rowspan=\"2\" valign=\"top\">2016</th>\n",
       "      <th>2</th>\n",
       "      <td>5</td>\n",
       "    </tr>\n",
       "    <tr>\n",
       "      <th>6</th>\n",
       "      <td>1</td>\n",
       "    </tr>\n",
       "    <tr>\n",
       "      <th>2018</th>\n",
       "      <th>2</th>\n",
       "      <td>1</td>\n",
       "    </tr>\n",
       "    <tr>\n",
       "      <th rowspan=\"3\" valign=\"top\">2019</th>\n",
       "      <th>3</th>\n",
       "      <td>1</td>\n",
       "    </tr>\n",
       "    <tr>\n",
       "      <th>4</th>\n",
       "      <td>1</td>\n",
       "    </tr>\n",
       "    <tr>\n",
       "      <th>6</th>\n",
       "      <td>2</td>\n",
       "    </tr>\n",
       "    <tr>\n",
       "      <th>שפינוזה</th>\n",
       "      <th>2019</th>\n",
       "      <th>7</th>\n",
       "      <td>7</td>\n",
       "    </tr>\n",
       "  </tbody>\n",
       "</table>\n",
       "</div>"
      ],
      "text/plain": [
       "                                             0\n",
       "street1_hebrew accident_year accident_month   \n",
       "ביאליק         2014          9               1\n",
       "                             10              1\n",
       "                             11              1\n",
       "                             12              1\n",
       "               2015          6               1\n",
       "                             11              1\n",
       "               2016          3               1\n",
       "                             11              1\n",
       "                             12              1\n",
       "               2017          2               1\n",
       "               2018          1               1\n",
       "                             2               1\n",
       "                             3               1\n",
       "               2019          7               1\n",
       "                             9               1\n",
       "                             10              1\n",
       "                             11              4\n",
       "               2020          6               1\n",
       "ברגסון         2014          1               1\n",
       "הארי           2014          3               1\n",
       "               2018          5               1\n",
       "ההסתדרות       2014          9               1\n",
       "                             11              1\n",
       "               2015          8               2\n",
       "                             12              1\n",
       "               2016          8               1\n",
       "               2018          2               1\n",
       "                             7               2\n",
       "               2019          7               1\n",
       "                             8               1\n",
       "                             10              1\n",
       "ז'בוטינסקי     2017          8               1\n",
       "חתם סופר       2018          9               1\n",
       "יהודה הלוי     2014          9               1\n",
       "               2016          3               1\n",
       "               2017          4               1\n",
       "               2018          1               1\n",
       "יוספטל         2017          5               1\n",
       "סמולנסקין      2018          4               1\n",
       "עגנון          2014          1               1\n",
       "               2015          9               1\n",
       "               2018          1               1\n",
       "פרץ י ל        2016          3               1\n",
       "צור אפרים      2020          3               1\n",
       "שד בן גוריון   2014          8               1\n",
       "               2016          2               5\n",
       "                             6               1\n",
       "               2018          2               1\n",
       "               2019          3               1\n",
       "                             4               1\n",
       "                             6               2\n",
       "שפינוזה        2019          7               7"
      ]
     },
     "execution_count": 238,
     "metadata": {},
     "output_type": "execute_result"
    }
   ],
   "source": [
    "schools_df.loc[schools_df.school_id == 610162].groupby(['street1_hebrew', 'accident_year', 'accident_month']).size().to_frame()"
   ]
  },
  {
   "cell_type": "code",
   "execution_count": null,
   "metadata": {},
   "outputs": [],
   "source": []
  }
 ],
 "metadata": {
  "hide_input": false,
  "kernelspec": {
   "display_name": "Python 3",
   "language": "python",
   "name": "python3"
  },
  "language_info": {
   "codemirror_mode": {
    "name": "ipython",
    "version": 3
   },
   "file_extension": ".py",
   "mimetype": "text/x-python",
   "name": "python",
   "nbconvert_exporter": "python",
   "pygments_lexer": "ipython3",
   "version": "3.7.6"
  },
  "toc": {
   "base_numbering": 1,
   "nav_menu": {},
   "number_sections": true,
   "sideBar": true,
   "skip_h1_title": false,
   "title_cell": "Table of Contents",
   "title_sidebar": "Contents",
   "toc_cell": true,
   "toc_position": {},
   "toc_section_display": true,
   "toc_window_display": true
  }
 },
 "nbformat": 4,
 "nbformat_minor": 4
}
