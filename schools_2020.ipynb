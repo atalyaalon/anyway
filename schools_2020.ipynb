{
 "cells": [
  {
   "cell_type": "markdown",
   "metadata": {
    "toc": true
   },
   "source": [
    "<h1>Table of Contents<span class=\"tocSkip\"></span></h1>\n",
    "<div class=\"toc\"><ul class=\"toc-item\"><li><span><a href=\"#constants---weights\" data-toc-modified-id=\"constants---weights-1\"><span class=\"toc-item-num\">1&nbsp;&nbsp;</span>constants - weights</a></span></li><li><span><a href=\"#filter-only-injured-(injury_severity-!=-0)\" data-toc-modified-id=\"filter-only-injured-(injury_severity-!=-0)-2\"><span class=\"toc-item-num\">2&nbsp;&nbsp;</span>filter only injured (injury_severity != 0)</a></span><ul class=\"toc-item\"><li><span><a href=\"#validate-severities\" data-toc-modified-id=\"validate-severities-2.1\"><span class=\"toc-item-num\">2.1&nbsp;&nbsp;</span>validate severities</a></span></li></ul></li><li><span><a href=\"#filter-ages-5-19-only\" data-toc-modified-id=\"filter-ages-5-19-only-3\"><span class=\"toc-item-num\">3&nbsp;&nbsp;</span>filter ages 5-19 only</a></span><ul class=\"toc-item\"><li><span><a href=\"#validate-ages\" data-toc-modified-id=\"validate-ages-3.1\"><span class=\"toc-item-num\">3.1&nbsp;&nbsp;</span>validate ages</a></span></li></ul></li><li><span><a href=\"#unique-id-per-involved\" data-toc-modified-id=\"unique-id-per-involved-4\"><span class=\"toc-item-num\">4&nbsp;&nbsp;</span>unique id per involved</a></span></li><li><span><a href=\"#filter-pedastrians,-cyclists-or-electrical-vehicles\" data-toc-modified-id=\"filter-pedastrians,-cyclists-or-electrical-vehicles-5\"><span class=\"toc-item-num\">5&nbsp;&nbsp;</span>filter pedastrians, cyclists or electrical vehicles</a></span></li><li><span><a href=\"#check-vehicle_or_pedastrian\" data-toc-modified-id=\"check-vehicle_or_pedastrian-6\"><span class=\"toc-item-num\">6&nbsp;&nbsp;</span>check vehicle_or_pedastrian</a></span></li><li><span><a href=\"#see-schools-types-(no-kindergardens)\" data-toc-modified-id=\"see-schools-types-(no-kindergardens)-7\"><span class=\"toc-item-num\">7&nbsp;&nbsp;</span>see schools types (no kindergardens)</a></span></li><li><span><a href=\"#count-schools\" data-toc-modified-id=\"count-schools-8\"><span class=\"toc-item-num\">8&nbsp;&nbsp;</span>count schools</a></span></li><li><span><a href=\"#check-main-roads\" data-toc-modified-id=\"check-main-roads-9\"><span class=\"toc-item-num\">9&nbsp;&nbsp;</span>check main roads</a></span></li><li><span><a href=\"#cluster-crowded-cities\" data-toc-modified-id=\"cluster-crowded-cities-10\"><span class=\"toc-item-num\">10&nbsp;&nbsp;</span>cluster crowded cities</a></span><ul class=\"toc-item\"><li><span><a href=\"#Create-squares\" data-toc-modified-id=\"Create-squares-10.1\"><span class=\"toc-item-num\">10.1&nbsp;&nbsp;</span>Create squares</a></span></li><li><span><a href=\"#Get-injured-in-1.2-km-box-in-past-1-year\" data-toc-modified-id=\"Get-injured-in-1.2-km-box-in-past-1-year-10.2\"><span class=\"toc-item-num\">10.2&nbsp;&nbsp;</span>Get injured in 1.2 km box in past 1 year</a></span></li><li><span><a href=\"#Get-injured-in-1.2-km-box-and-past-2-years\" data-toc-modified-id=\"Get-injured-in-1.2-km-box-and-past-2-years-10.3\"><span class=\"toc-item-num\">10.3&nbsp;&nbsp;</span>Get injured in 1.2 km box and past 2 years</a></span></li><li><span><a href=\"#get-injured-in-1.4-km-box-in-5-past-years\" data-toc-modified-id=\"get-injured-in-1.4-km-box-in-5-past-years-10.4\"><span class=\"toc-item-num\">10.4&nbsp;&nbsp;</span>get injured in 1.4 km box in 5 past years</a></span></li></ul></li><li><span><a href=\"#Get-values-of-past-5-years---June-2015---May-2020-and-calculate-formula-using-נוהל-פר״ת\" data-toc-modified-id=\"Get-values-of-past-5-years---June-2015---May-2020-and-calculate-formula-using-נוהל-פר״ת-11\"><span class=\"toc-item-num\">11&nbsp;&nbsp;</span>Get values of past 5 years - June 2015 - May 2020 and calculate formula using נוהל פר״ת</a></span><ul class=\"toc-item\"><li><ul class=\"toc-item\"><li><span><a href=\"#Past-year-data\" data-toc-modified-id=\"Past-year-data-11.0.1\"><span class=\"toc-item-num\">11.0.1&nbsp;&nbsp;</span>Past year data</a></span></li></ul></li><li><span><a href=\"#schools-data\" data-toc-modified-id=\"schools-data-11.1\"><span class=\"toc-item-num\">11.1&nbsp;&nbsp;</span>schools data</a></span></li></ul></li><li><span><a href=\"#Get-values-of-past-year---June-2018---May-2020-and-calculate-formula-using-נוהל-פר״ת\" data-toc-modified-id=\"Get-values-of-past-year---June-2018---May-2020-and-calculate-formula-using-נוהל-פר״ת-12\"><span class=\"toc-item-num\">12&nbsp;&nbsp;</span>Get values of past year - June 2018 - May 2020 and calculate formula using נוהל פר״ת</a></span></li><li><span><a href=\"#Compare-cities\" data-toc-modified-id=\"Compare-cities-13\"><span class=\"toc-item-num\">13&nbsp;&nbsp;</span>Compare cities</a></span></li><li><span><a href=\"#load-yishuv-data\" data-toc-modified-id=\"load-yishuv-data-14\"><span class=\"toc-item-num\">14&nbsp;&nbsp;</span>load yishuv data</a></span></li></ul></div>"
   ]
  },
  {
   "cell_type": "code",
   "execution_count": 1,
   "metadata": {
    "ExecuteTime": {
     "end_time": "2020-08-18T21:51:38.145744Z",
     "start_time": "2020-08-18T21:51:36.270030Z"
    }
   },
   "outputs": [],
   "source": [
    "import pandas as pd\n",
    "from collections import defaultdict\n",
    "from sklearn.cluster import KMeans\n",
    "import matplotlib.pyplot as plt\n",
    "from shapely.geometry import Point, Polygon\n",
    "import os\n",
    "import math"
   ]
  },
  {
   "cell_type": "markdown",
   "metadata": {},
   "source": [
    "### constants - weights"
   ]
  },
  {
   "cell_type": "code",
   "execution_count": 2,
   "metadata": {
    "ExecuteTime": {
     "end_time": "2020-08-18T21:51:38.163658Z",
     "start_time": "2020-08-18T21:51:38.152463Z"
    }
   },
   "outputs": [],
   "source": [
    "killed_weight = 6600/7581\n",
    "severe_weight = 956/7581\n",
    "light_weight = 25/7581"
   ]
  },
  {
   "cell_type": "code",
   "execution_count": 3,
   "metadata": {
    "ExecuteTime": {
     "end_time": "2020-08-18T21:51:38.209568Z",
     "start_time": "2020-08-18T21:51:38.171424Z"
    }
   },
   "outputs": [],
   "source": [
    "schools = defaultdict(int)\n",
    "for i, filename in enumerate(os.listdir('schools_data')):\n",
    "    schools[i] += 1"
   ]
  },
  {
   "cell_type": "code",
   "execution_count": 4,
   "metadata": {
    "ExecuteTime": {
     "end_time": "2020-08-18T21:54:38.985737Z",
     "start_time": "2020-08-18T21:51:38.213307Z"
    }
   },
   "outputs": [
    {
     "name": "stdout",
     "output_type": "stream",
     "text": [
      "0\n",
      "100\n",
      "200\n",
      "300\n",
      "400\n",
      "500\n",
      "600\n",
      "700\n",
      "800\n",
      "900\n",
      "1000\n",
      "1100\n",
      "1200\n",
      "1300\n",
      "1400\n",
      "1500\n",
      "1600\n",
      "1700\n",
      "1800\n",
      "1900\n",
      "2000\n",
      "2100\n",
      "2200\n",
      "2300\n",
      "2400\n",
      "2500\n",
      "2600\n",
      "2700\n",
      "2800\n",
      "2900\n",
      "3000\n",
      "3100\n",
      "3200\n",
      "3300\n",
      "3400\n",
      "3500\n",
      "3600\n",
      "3700\n",
      "3800\n",
      "3900\n",
      "4000\n",
      "4100\n",
      "4200\n",
      "4300\n",
      "4400\n",
      "4500\n",
      "4600\n",
      "4700\n",
      "4800\n"
     ]
    }
   ],
   "source": [
    "li = []\n",
    "\n",
    "for i, filename in enumerate(os.listdir('schools_data')):\n",
    "    if i % 100 == 0:\n",
    "        print(i)\n",
    "    df = pd.read_csv(os.path.join('schools_data', filename), index_col=None, header=0)\n",
    "    li.append(df)\n",
    "\n",
    "total_df = pd.concat(li, axis=0, ignore_index=True)\n",
    "total_df['accident_timestamp'] = pd.to_datetime(total_df.accident_timestamp.values)"
   ]
  },
  {
   "cell_type": "markdown",
   "metadata": {},
   "source": [
    "### filter only injured (injury_severity != 0)"
   ]
  },
  {
   "cell_type": "code",
   "execution_count": 5,
   "metadata": {
    "ExecuteTime": {
     "end_time": "2020-08-18T21:54:39.650463Z",
     "start_time": "2020-08-18T21:54:38.987931Z"
    }
   },
   "outputs": [],
   "source": [
    "total_df = total_df.loc[total_df.injury_severity != 0]"
   ]
  },
  {
   "cell_type": "markdown",
   "metadata": {},
   "source": [
    "#### validate severities"
   ]
  },
  {
   "cell_type": "code",
   "execution_count": 6,
   "metadata": {
    "ExecuteTime": {
     "end_time": "2020-08-18T21:54:39.664509Z",
     "start_time": "2020-08-18T21:54:39.653316Z"
    }
   },
   "outputs": [
    {
     "name": "stdout",
     "output_type": "stream",
     "text": [
      "['פצוע קל' 'פצוע קשה' 'הרוג']\n"
     ]
    }
   ],
   "source": [
    "print(total_df.injury_severity_hebrew.unique())"
   ]
  },
  {
   "cell_type": "code",
   "execution_count": 7,
   "metadata": {
    "ExecuteTime": {
     "end_time": "2020-08-18T21:54:39.677898Z",
     "start_time": "2020-08-18T21:54:39.669784Z"
    }
   },
   "outputs": [
    {
     "name": "stdout",
     "output_type": "stream",
     "text": [
      "[3 2 1]\n"
     ]
    }
   ],
   "source": [
    "print(total_df.injury_severity.unique())"
   ]
  },
  {
   "cell_type": "markdown",
   "metadata": {},
   "source": [
    "### filter ages 5-19 only"
   ]
  },
  {
   "cell_type": "code",
   "execution_count": 8,
   "metadata": {
    "ExecuteTime": {
     "end_time": "2020-08-18T21:54:39.961955Z",
     "start_time": "2020-08-18T21:54:39.681841Z"
    }
   },
   "outputs": [],
   "source": [
    "total_df = total_df.loc[total_df.age_group >= 2]"
   ]
  },
  {
   "cell_type": "markdown",
   "metadata": {},
   "source": [
    "#### validate ages"
   ]
  },
  {
   "cell_type": "code",
   "execution_count": 9,
   "metadata": {
    "ExecuteTime": {
     "end_time": "2020-08-18T21:54:39.977456Z",
     "start_time": "2020-08-18T21:54:39.964217Z"
    }
   },
   "outputs": [
    {
     "name": "stdout",
     "output_type": "stream",
     "text": [
      "['15-19' '05-09' '10-14']\n"
     ]
    }
   ],
   "source": [
    "print(total_df.age_group_hebrew.unique())"
   ]
  },
  {
   "cell_type": "code",
   "execution_count": 10,
   "metadata": {
    "ExecuteTime": {
     "end_time": "2020-08-18T21:54:39.994530Z",
     "start_time": "2020-08-18T21:54:39.981338Z"
    }
   },
   "outputs": [
    {
     "name": "stdout",
     "output_type": "stream",
     "text": [
      "[4 2 3]\n"
     ]
    }
   ],
   "source": [
    "print(total_df.age_group.unique())"
   ]
  },
  {
   "cell_type": "markdown",
   "metadata": {},
   "source": [
    "### unique id per involved"
   ]
  },
  {
   "cell_type": "code",
   "execution_count": 11,
   "metadata": {
    "ExecuteTime": {
     "end_time": "2020-08-18T21:54:40.006524Z",
     "start_time": "2020-08-18T21:54:39.996863Z"
    }
   },
   "outputs": [
    {
     "data": {
      "text/plain": [
       "int"
      ]
     },
     "execution_count": 11,
     "metadata": {},
     "output_type": "execute_result"
    }
   ],
   "source": [
    "type(total_df['provider_and_id'].iloc[0])"
   ]
  },
  {
   "cell_type": "code",
   "execution_count": 12,
   "metadata": {
    "ExecuteTime": {
     "end_time": "2020-08-18T21:54:40.069570Z",
     "start_time": "2020-08-18T21:54:40.009628Z"
    }
   },
   "outputs": [],
   "source": [
    "total_df['inv_unique_id'] = total_df['provider_and_id'].astype(str) + '_' +  total_df['involve_id'].astype(str)\n"
   ]
  },
  {
   "cell_type": "markdown",
   "metadata": {},
   "source": [
    "### filter pedastrians, cyclists or electrical vehicles"
   ]
  },
  {
   "cell_type": "code",
   "execution_count": 13,
   "metadata": {
    "ExecuteTime": {
     "end_time": "2020-08-18T21:54:40.487707Z",
     "start_time": "2020-08-18T21:54:40.071582Z"
    }
   },
   "outputs": [],
   "source": [
    "total_df = total_df.loc[(total_df.injured_type == 1) | (total_df.involve_vehicle_type == 21) | (total_df.involve_vehicle_type == 23) | (total_df.involve_vehicle_type == 15)]\n",
    "                                                                                                 "
   ]
  },
  {
   "cell_type": "code",
   "execution_count": 14,
   "metadata": {
    "ExecuteTime": {
     "end_time": "2020-08-18T21:54:42.665772Z",
     "start_time": "2020-08-18T21:54:40.490231Z"
    }
   },
   "outputs": [],
   "source": [
    "total_df['vehicle_or_pedastrian'] = total_df.apply(lambda x: x['involve_vehicle_type_hebrew'] if x['injured_type_hebrew'] != 'הולך רגל' else  x['injured_type_hebrew'],\n",
    "                                                  axis=1)\n"
   ]
  },
  {
   "cell_type": "markdown",
   "metadata": {},
   "source": [
    "### check vehicle_or_pedastrian"
   ]
  },
  {
   "cell_type": "code",
   "execution_count": 15,
   "metadata": {
    "ExecuteTime": {
     "end_time": "2020-08-18T21:54:42.678843Z",
     "start_time": "2020-08-18T21:54:42.668035Z"
    }
   },
   "outputs": [
    {
     "data": {
      "text/plain": [
       "array(['אופניים', 'הולך רגל', 'אופניים חשמליים', 'קורקינט חשמלי'],\n",
       "      dtype=object)"
      ]
     },
     "execution_count": 15,
     "metadata": {},
     "output_type": "execute_result"
    }
   ],
   "source": [
    "total_df['vehicle_or_pedastrian'].unique()"
   ]
  },
  {
   "cell_type": "code",
   "execution_count": 16,
   "metadata": {
    "ExecuteTime": {
     "end_time": "2020-08-18T21:54:42.687930Z",
     "start_time": "2020-08-18T21:54:42.681164Z"
    }
   },
   "outputs": [
    {
     "data": {
      "text/plain": [
       "(58133, 168)"
      ]
     },
     "execution_count": 16,
     "metadata": {},
     "output_type": "execute_result"
    }
   ],
   "source": [
    "total_df.shape"
   ]
  },
  {
   "cell_type": "markdown",
   "metadata": {},
   "source": [
    "### see schools types (no kindergardens)"
   ]
  },
  {
   "cell_type": "code",
   "execution_count": 17,
   "metadata": {
    "ExecuteTime": {
     "end_time": "2020-08-18T21:54:42.700189Z",
     "start_time": "2020-08-18T21:54:42.690363Z"
    }
   },
   "outputs": [
    {
     "data": {
      "text/plain": [
       "array(['בית ספר', 'תלמוד תורה', 'ישיבה קטנה', 'בי\"ס תורני',\n",
       "       'ישיבה תיכונית', 'בי\"ס חקלאי', 'בי\"ס רפואי', 'בי\"ס כנסייתי',\n",
       "       'אולפנה', 'בי\"ס אקסטרני', 'בי\"ס קיבוצי',\n",
       "       'תלמוד תורה ליד מעיין חינוך התורני', 'בי\"ס מושבי'], dtype=object)"
      ]
     },
     "execution_count": 17,
     "metadata": {},
     "output_type": "execute_result"
    }
   ],
   "source": [
    "total_df.institution_type.unique()"
   ]
  },
  {
   "cell_type": "markdown",
   "metadata": {},
   "source": [
    "### count schools"
   ]
  },
  {
   "cell_type": "code",
   "execution_count": 18,
   "metadata": {
    "ExecuteTime": {
     "end_time": "2020-08-18T21:54:42.711783Z",
     "start_time": "2020-08-18T21:54:42.702230Z"
    }
   },
   "outputs": [
    {
     "data": {
      "text/plain": [
       "3409"
      ]
     },
     "execution_count": 18,
     "metadata": {},
     "output_type": "execute_result"
    }
   ],
   "source": [
    "total_df.school_id.nunique()"
   ]
  },
  {
   "cell_type": "markdown",
   "metadata": {},
   "source": [
    "### check main roads"
   ]
  },
  {
   "cell_type": "code",
   "execution_count": 19,
   "metadata": {
    "ExecuteTime": {
     "end_time": "2020-08-18T21:54:42.928248Z",
     "start_time": "2020-08-18T21:54:42.714368Z"
    }
   },
   "outputs": [
    {
     "data": {
      "text/html": [
       "<div>\n",
       "<style scoped>\n",
       "    .dataframe tbody tr th:only-of-type {\n",
       "        vertical-align: middle;\n",
       "    }\n",
       "\n",
       "    .dataframe tbody tr th {\n",
       "        vertical-align: top;\n",
       "    }\n",
       "\n",
       "    .dataframe thead th {\n",
       "        text-align: right;\n",
       "    }\n",
       "</style>\n",
       "<table border=\"1\" class=\"dataframe\">\n",
       "  <thead>\n",
       "    <tr style=\"text-align: right;\">\n",
       "      <th></th>\n",
       "      <th>count_in_roads</th>\n",
       "    </tr>\n",
       "    <tr>\n",
       "      <th>road1</th>\n",
       "      <th></th>\n",
       "    </tr>\n",
       "  </thead>\n",
       "  <tbody>\n",
       "    <tr>\n",
       "      <th>4.0</th>\n",
       "      <td>27</td>\n",
       "    </tr>\n",
       "    <tr>\n",
       "      <th>40.0</th>\n",
       "      <td>11</td>\n",
       "    </tr>\n",
       "    <tr>\n",
       "      <th>805.0</th>\n",
       "      <td>10</td>\n",
       "    </tr>\n",
       "    <tr>\n",
       "      <th>1.0</th>\n",
       "      <td>9</td>\n",
       "    </tr>\n",
       "    <tr>\n",
       "      <th>65.0</th>\n",
       "      <td>9</td>\n",
       "    </tr>\n",
       "    <tr>\n",
       "      <th>20.0</th>\n",
       "      <td>8</td>\n",
       "    </tr>\n",
       "    <tr>\n",
       "      <th>85.0</th>\n",
       "      <td>4</td>\n",
       "    </tr>\n",
       "    <tr>\n",
       "      <th>75.0</th>\n",
       "      <td>4</td>\n",
       "    </tr>\n",
       "    <tr>\n",
       "      <th>44.0</th>\n",
       "      <td>4</td>\n",
       "    </tr>\n",
       "    <tr>\n",
       "      <th>444.0</th>\n",
       "      <td>4</td>\n",
       "    </tr>\n",
       "    <tr>\n",
       "      <th>443.0</th>\n",
       "      <td>3</td>\n",
       "    </tr>\n",
       "    <tr>\n",
       "      <th>98.0</th>\n",
       "      <td>3</td>\n",
       "    </tr>\n",
       "    <tr>\n",
       "      <th>574.0</th>\n",
       "      <td>2</td>\n",
       "    </tr>\n",
       "    <tr>\n",
       "      <th>505.0</th>\n",
       "      <td>2</td>\n",
       "    </tr>\n",
       "    <tr>\n",
       "      <th>471.0</th>\n",
       "      <td>2</td>\n",
       "    </tr>\n",
       "    <tr>\n",
       "      <th>581.0</th>\n",
       "      <td>2</td>\n",
       "    </tr>\n",
       "    <tr>\n",
       "      <th>3855.0</th>\n",
       "      <td>2</td>\n",
       "    </tr>\n",
       "    <tr>\n",
       "      <th>2.0</th>\n",
       "      <td>2</td>\n",
       "    </tr>\n",
       "    <tr>\n",
       "      <th>446.0</th>\n",
       "      <td>2</td>\n",
       "    </tr>\n",
       "    <tr>\n",
       "      <th>8900.0</th>\n",
       "      <td>2</td>\n",
       "    </tr>\n",
       "    <tr>\n",
       "      <th>89.0</th>\n",
       "      <td>2</td>\n",
       "    </tr>\n",
       "    <tr>\n",
       "      <th>70.0</th>\n",
       "      <td>2</td>\n",
       "    </tr>\n",
       "    <tr>\n",
       "      <th>3.0</th>\n",
       "      <td>2</td>\n",
       "    </tr>\n",
       "    <tr>\n",
       "      <th>232.0</th>\n",
       "      <td>2</td>\n",
       "    </tr>\n",
       "    <tr>\n",
       "      <th>899.0</th>\n",
       "      <td>1</td>\n",
       "    </tr>\n",
       "    <tr>\n",
       "      <th>8544.0</th>\n",
       "      <td>1</td>\n",
       "    </tr>\n",
       "    <tr>\n",
       "      <th>7268.0</th>\n",
       "      <td>1</td>\n",
       "    </tr>\n",
       "    <tr>\n",
       "      <th>6511.0</th>\n",
       "      <td>1</td>\n",
       "    </tr>\n",
       "    <tr>\n",
       "      <th>4402.0</th>\n",
       "      <td>1</td>\n",
       "    </tr>\n",
       "    <tr>\n",
       "      <th>3975.0</th>\n",
       "      <td>1</td>\n",
       "    </tr>\n",
       "  </tbody>\n",
       "</table>\n",
       "</div>"
      ],
      "text/plain": [
       "        count_in_roads\n",
       "road1                 \n",
       "4.0                 27\n",
       "40.0                11\n",
       "805.0               10\n",
       "1.0                  9\n",
       "65.0                 9\n",
       "20.0                 8\n",
       "85.0                 4\n",
       "75.0                 4\n",
       "44.0                 4\n",
       "444.0                4\n",
       "443.0                3\n",
       "98.0                 3\n",
       "574.0                2\n",
       "505.0                2\n",
       "471.0                2\n",
       "581.0                2\n",
       "3855.0               2\n",
       "2.0                  2\n",
       "446.0                2\n",
       "8900.0               2\n",
       "89.0                 2\n",
       "70.0                 2\n",
       "3.0                  2\n",
       "232.0                2\n",
       "899.0                1\n",
       "8544.0               1\n",
       "7268.0               1\n",
       "6511.0               1\n",
       "4402.0               1\n",
       "3975.0               1"
      ]
     },
     "execution_count": 19,
     "metadata": {},
     "output_type": "execute_result"
    }
   ],
   "source": [
    "main_roads = total_df.groupby('road1').inv_unique_id.nunique().rename('count_in_roads').to_frame()\n",
    "main_roads.sort_values('count_in_roads', ascending=False).iloc[0:30]"
   ]
  },
  {
   "cell_type": "code",
   "execution_count": 20,
   "metadata": {
    "ExecuteTime": {
     "end_time": "2020-08-18T21:54:42.938995Z",
     "start_time": "2020-08-18T21:54:42.931617Z"
    }
   },
   "outputs": [
    {
     "data": {
      "text/plain": [
       "(43, 1)"
      ]
     },
     "execution_count": 20,
     "metadata": {},
     "output_type": "execute_result"
    }
   ],
   "source": [
    "main_roads.shape"
   ]
  },
  {
   "cell_type": "code",
   "execution_count": 21,
   "metadata": {
    "ExecuteTime": {
     "end_time": "2020-08-18T21:54:42.953655Z",
     "start_time": "2020-08-18T21:54:42.943129Z"
    }
   },
   "outputs": [
    {
     "data": {
      "text/plain": [
       "['Unnamed: 0',\n",
       " 'accident_id',\n",
       " 'provider_and_id',\n",
       " 'provider_code',\n",
       " 'file_type_police',\n",
       " 'involved_type',\n",
       " 'involved_type_hebrew',\n",
       " 'license_acquiring_date',\n",
       " 'age_group',\n",
       " 'age_group_hebrew',\n",
       " 'sex',\n",
       " 'sex_hebrew',\n",
       " 'involve_vehicle_type',\n",
       " 'involve_vehicle_type_hebrew',\n",
       " 'safety_measures',\n",
       " 'safety_measures_hebrew',\n",
       " 'involve_yishuv_symbol',\n",
       " 'involve_yishuv_name',\n",
       " 'injury_severity',\n",
       " 'injury_severity_hebrew',\n",
       " 'injured_type',\n",
       " 'injured_type_hebrew',\n",
       " 'injured_position',\n",
       " 'injured_position_hebrew',\n",
       " 'population_type',\n",
       " 'population_type_hebrew',\n",
       " 'involve_home_region',\n",
       " 'involve_home_region_hebrew',\n",
       " 'involve_home_district',\n",
       " 'involve_home_district_hebrew',\n",
       " 'involve_home_natural_area',\n",
       " 'involve_home_natural_area_hebrew',\n",
       " 'involve_home_municipal_status',\n",
       " 'involve_home_municipal_status_hebrew',\n",
       " 'involve_home_yishuv_shape',\n",
       " 'involve_home_yishuv_shape_hebrew',\n",
       " 'hospital_time',\n",
       " 'hospital_time_hebrew',\n",
       " 'medical_type',\n",
       " 'medical_type_hebrew',\n",
       " 'release_dest',\n",
       " 'release_dest_hebrew',\n",
       " 'safety_measures_use',\n",
       " 'safety_measures_use_hebrew',\n",
       " 'late_deceased',\n",
       " 'late_deceased_hebrew',\n",
       " 'car_id',\n",
       " 'involve_id',\n",
       " 'accident_timestamp',\n",
       " 'provider_code_hebrew',\n",
       " 'accident_type',\n",
       " 'accident_type_hebrew',\n",
       " 'accident_severity',\n",
       " 'accident_severity_hebrew',\n",
       " 'location_accuracy',\n",
       " 'location_accuracy_hebrew',\n",
       " 'road_type',\n",
       " 'road_type_hebrew',\n",
       " 'road_shape',\n",
       " 'road_shape_hebrew',\n",
       " 'day_type',\n",
       " 'day_type_hebrew',\n",
       " 'police_unit',\n",
       " 'police_unit_hebrew',\n",
       " 'one_lane',\n",
       " 'one_lane_hebrew',\n",
       " 'multi_lane',\n",
       " 'multi_lane_hebrew',\n",
       " 'speed_limit',\n",
       " 'speed_limit_hebrew',\n",
       " 'road_intactness',\n",
       " 'road_intactness_hebrew',\n",
       " 'road_width',\n",
       " 'road_width_hebrew',\n",
       " 'road_sign',\n",
       " 'road_sign_hebrew',\n",
       " 'road_light',\n",
       " 'road_light_hebrew',\n",
       " 'road_control',\n",
       " 'road_control_hebrew',\n",
       " 'weather',\n",
       " 'weather_hebrew',\n",
       " 'road_surface',\n",
       " 'road_surface_hebrew',\n",
       " 'road_object',\n",
       " 'road_object_hebrew',\n",
       " 'object_distance',\n",
       " 'object_distance_hebrew',\n",
       " 'didnt_cross',\n",
       " 'didnt_cross_hebrew',\n",
       " 'cross_mode',\n",
       " 'cross_mode_hebrew',\n",
       " 'cross_location',\n",
       " 'cross_location_hebrew',\n",
       " 'cross_direction',\n",
       " 'cross_direction_hebrew',\n",
       " 'road1',\n",
       " 'road2',\n",
       " 'km',\n",
       " 'km_raw',\n",
       " 'km_accurate',\n",
       " 'accident_yishuv_symbol',\n",
       " 'accident_yishuv_name',\n",
       " 'geo_area',\n",
       " 'geo_area_hebrew',\n",
       " 'day_night',\n",
       " 'day_night_hebrew',\n",
       " 'day_in_week',\n",
       " 'day_in_week_hebrew',\n",
       " 'traffic_light',\n",
       " 'traffic_light_hebrew',\n",
       " 'accident_region',\n",
       " 'accident_region_hebrew',\n",
       " 'accident_district',\n",
       " 'accident_district_hebrew',\n",
       " 'accident_natural_area',\n",
       " 'accident_natural_area_hebrew',\n",
       " 'accident_municipal_status',\n",
       " 'accident_municipal_status_hebrew',\n",
       " 'accident_yishuv_shape',\n",
       " 'accident_yishuv_shape_hebrew',\n",
       " 'street1',\n",
       " 'street1_hebrew',\n",
       " 'street2',\n",
       " 'street2_hebrew',\n",
       " 'non_urban_intersection_hebrew',\n",
       " 'accident_year',\n",
       " 'accident_month',\n",
       " 'accident_day',\n",
       " 'accident_hour_raw',\n",
       " 'accident_hour_raw_hebrew',\n",
       " 'accident_hour',\n",
       " 'accident_minute',\n",
       " 'geom',\n",
       " 'latitude',\n",
       " 'longitude',\n",
       " 'x',\n",
       " 'y',\n",
       " 'road_segment_id',\n",
       " 'road_segment_name',\n",
       " 'engine_volume',\n",
       " 'engine_volume_hebrew',\n",
       " 'manufacturing_year',\n",
       " 'driving_directions',\n",
       " 'driving_directions_hebrew',\n",
       " 'vehicle_status',\n",
       " 'vehicle_status_hebrew',\n",
       " 'vehicle_attribution',\n",
       " 'vehicle_attribution_hebrew',\n",
       " 'seats',\n",
       " 'total_weight',\n",
       " 'total_weight_hebrew',\n",
       " 'vehicle_vehicle_type',\n",
       " 'vehicle_vehicle_type_hebrew',\n",
       " 'vehicle_damage',\n",
       " 'vehicle_damage_hebrew',\n",
       " 'road_segment_number',\n",
       " 'school_id',\n",
       " 'institution_type',\n",
       " 'school_name',\n",
       " 'school_yishuv_name',\n",
       " 'school_longitude',\n",
       " 'school_latitude',\n",
       " 'school_municipality_name',\n",
       " 'school_lowest_grade',\n",
       " 'school_highest_grade',\n",
       " 'inv_unique_id',\n",
       " 'vehicle_or_pedastrian']"
      ]
     },
     "execution_count": 21,
     "metadata": {},
     "output_type": "execute_result"
    }
   ],
   "source": [
    "list(total_df.columns)"
   ]
  },
  {
   "cell_type": "markdown",
   "metadata": {},
   "source": [
    "### cluster crowded cities"
   ]
  },
  {
   "cell_type": "code",
   "execution_count": 22,
   "metadata": {
    "ExecuteTime": {
     "end_time": "2020-08-18T21:54:43.088531Z",
     "start_time": "2020-08-18T21:54:42.966940Z"
    }
   },
   "outputs": [],
   "source": [
    "yishuv_df = total_df.loc[total_df.school_yishuv_name == 'בני ברק'].drop_duplicates(subset=['school_id'])\n",
    "kmeans = KMeans(n_clusters = 2, init ='k-means++')\n",
    "kmeans.fit(yishuv_df.loc[:,['school_longitude', 'school_latitude']])\n",
    "yishuv_df['cluster_label'] = kmeans.fit_predict(yishuv_df.loc[:,['school_longitude', 'school_latitude']])\n",
    "centers = kmeans.cluster_centers_ # Coordinates of cluster centers.\n",
    "labels = kmeans.predict(yishuv_df.loc[:,['school_longitude', 'school_latitude']]) # Labels of each point\n"
   ]
  },
  {
   "cell_type": "code",
   "execution_count": 23,
   "metadata": {
    "ExecuteTime": {
     "end_time": "2020-08-18T21:54:43.498939Z",
     "start_time": "2020-08-18T21:54:43.094687Z"
    }
   },
   "outputs": [
    {
     "data": {
      "text/plain": [
       "<matplotlib.axes._subplots.AxesSubplot at 0x14fec7250>"
      ]
     },
     "execution_count": 23,
     "metadata": {},
     "output_type": "execute_result"
    },
    {
     "data": {
      "image/png": "[encoded data removed]",
      "text/plain": [
       "<Figure size 432x288 with 2 Axes>"
      ]
     },
     "metadata": {
      "needs_background": "light"
     },
     "output_type": "display_data"
    }
   ],
   "source": [
    "yishuv_df.plot.scatter(x = 'school_longitude', y = 'school_latitude', c=labels, s=50, cmap='viridis')"
   ]
  },
  {
   "cell_type": "code",
   "execution_count": 24,
   "metadata": {
    "ExecuteTime": {
     "end_time": "2020-08-18T21:54:43.653640Z",
     "start_time": "2020-08-18T21:54:43.501896Z"
    }
   },
   "outputs": [
    {
     "data": {
      "text/plain": [
       "<matplotlib.collections.PathCollection at 0x14fef2e10>"
      ]
     },
     "execution_count": 24,
     "metadata": {},
     "output_type": "execute_result"
    },
    {
     "data": {
      "image/png": "[encoded data removed]",
      "text/plain": [
       "<Figure size 432x288 with 1 Axes>"
      ]
     },
     "metadata": {
      "needs_background": "light"
     },
     "output_type": "display_data"
    }
   ],
   "source": [
    "plt.scatter(centers[:, 0], centers[:, 1], c='black', s=200, alpha=0.5)"
   ]
  },
  {
   "cell_type": "code",
   "execution_count": 25,
   "metadata": {
    "ExecuteTime": {
     "end_time": "2020-08-18T21:54:43.668538Z",
     "start_time": "2020-08-18T21:54:43.662922Z"
    }
   },
   "outputs": [
    {
     "data": {
      "text/plain": [
       "array([[34.83535511, 32.09193937],\n",
       "       [34.83726611, 32.07921373]])"
      ]
     },
     "execution_count": 25,
     "metadata": {},
     "output_type": "execute_result"
    }
   ],
   "source": [
    "centers"
   ]
  },
  {
   "cell_type": "markdown",
   "metadata": {},
   "source": [
    "#### Create squares"
   ]
  },
  {
   "cell_type": "code",
   "execution_count": 26,
   "metadata": {
    "ExecuteTime": {
     "end_time": "2020-08-18T21:54:43.681429Z",
     "start_time": "2020-08-18T21:54:43.670622Z"
    }
   },
   "outputs": [],
   "source": [
    "def get_bounding_box(latitude, longitude, distance_in_km):\n",
    "    latitude = math.radians(latitude)\n",
    "    longitude = math.radians(longitude)\n",
    "\n",
    "    radius = 6371\n",
    "    # Radius of the parallel at given latitude\n",
    "    parallel_radius = radius * math.cos(latitude)\n",
    "\n",
    "    lat_min = latitude - distance_in_km / radius\n",
    "    lat_max = latitude + distance_in_km / radius\n",
    "    lon_min = longitude - distance_in_km / parallel_radius\n",
    "    lon_max = longitude + distance_in_km / parallel_radius\n",
    "    rad2deg = math.degrees\n",
    "\n",
    "    return rad2deg(lat_min), rad2deg(lon_min), rad2deg(lat_max), rad2deg(lon_max)"
   ]
  },
  {
   "cell_type": "code",
   "execution_count": 29,
   "metadata": {
    "ExecuteTime": {
     "end_time": "2020-08-18T21:57:13.023445Z",
     "start_time": "2020-08-18T21:57:13.019131Z"
    }
   },
   "outputs": [],
   "source": [
    "# bb_center_longitude = 34.837221\n",
    "# bb_center_latitude = 32.087962"
   ]
  },
  {
   "cell_type": "markdown",
   "metadata": {},
   "source": [
    "#### Get injured in 1.2 km box in past 1 year"
   ]
  },
  {
   "cell_type": "code",
   "execution_count": 38,
   "metadata": {
    "ExecuteTime": {
     "end_time": "2020-08-18T21:57:34.716275Z",
     "start_time": "2020-08-18T21:57:34.711993Z"
    }
   },
   "outputs": [],
   "source": [
    "# lat_min, lon_min, lat_max, lon_max = get_bounding_box(bb_center_latitude, bb_center_longitude, 0.6)\n",
    "# baseX = lon_min\n",
    "# baseY = lat_min\n",
    "# distanceX = lon_max\n",
    "# distanceY = lat_max"
   ]
  },
  {
   "cell_type": "code",
   "execution_count": 39,
   "metadata": {
    "ExecuteTime": {
     "end_time": "2020-08-18T21:57:35.266584Z",
     "start_time": "2020-08-18T21:57:35.261527Z"
    }
   },
   "outputs": [],
   "source": [
    "# injured_coor = total_df.loc[((total_df.accident_timestamp >= pd.Timestamp('2019-06-01')) & (total_df.accident_timestamp <= pd.Timestamp('2020-05-31')))]\n"
   ]
  },
  {
   "cell_type": "code",
   "execution_count": 40,
   "metadata": {
    "ExecuteTime": {
     "end_time": "2020-08-18T21:57:35.967862Z",
     "start_time": "2020-08-18T21:57:35.965663Z"
    }
   },
   "outputs": [],
   "source": [
    "# injured_coor = injured_coor.loc[:,['inv_unique_id', 'longitude', 'latitude', 'injury_severity', 'provider_and_id']].to_dict(orient='records')\n",
    "\n",
    "# coords = []\n",
    "# poly = Polygon([(baseX, baseY), \n",
    "#                 (baseX, distanceY),\n",
    "#                 (distanceX, distanceY),\n",
    "#                 (distanceX, baseY)])\n",
    "# injured_in_2km_box = [(r['inv_unique_id'], r['injury_severity'], r['provider_and_id']) for r in injured_coor if poly.contains(Point(r['longitude'], r['latitude']))]\n"
   ]
  },
  {
   "cell_type": "code",
   "execution_count": 41,
   "metadata": {
    "ExecuteTime": {
     "end_time": "2020-08-18T21:57:36.369637Z",
     "start_time": "2020-08-18T21:57:36.362279Z"
    }
   },
   "outputs": [],
   "source": [
    "# len(set(injured_in_2km_box))"
   ]
  },
  {
   "cell_type": "code",
   "execution_count": 42,
   "metadata": {
    "ExecuteTime": {
     "end_time": "2020-08-18T21:57:36.828402Z",
     "start_time": "2020-08-18T21:57:36.825000Z"
    }
   },
   "outputs": [],
   "source": [
    "# tmp_df = pd.DataFrame(injured_in_2km_box)\n",
    "# tmp_df.columns = ['inv_unique_id', 'injury_severity', 'provider_and_id']"
   ]
  },
  {
   "cell_type": "code",
   "execution_count": 43,
   "metadata": {
    "ExecuteTime": {
     "end_time": "2020-08-18T21:57:37.323281Z",
     "start_time": "2020-08-18T21:57:37.313631Z"
    }
   },
   "outputs": [],
   "source": [
    "# killed = tmp_df.loc[tmp_df.loc[:,'injury_severity'] == 1].inv_unique_id.nunique()\n",
    "# severe_injured = tmp_df.loc[tmp_df.loc[:,'injury_severity'] == 2].inv_unique_id.nunique()\n",
    "# light_injured = tmp_df.loc[tmp_df.loc[:,'injury_severity'] == 3].inv_unique_id.nunique()\n",
    "# total_accidents = tmp_df.provider_and_id.nunique()\n",
    "# score = (killed * killed_weight + severe_injured * severe_weight  + light_injured * light_weight) * (total_accidents)\n"
   ]
  },
  {
   "cell_type": "code",
   "execution_count": 44,
   "metadata": {
    "ExecuteTime": {
     "end_time": "2020-08-18T21:57:38.001081Z",
     "start_time": "2020-08-18T21:57:37.997340Z"
    }
   },
   "outputs": [],
   "source": [
    "# killed_1_years_bb_center = killed\n",
    "# severe_injured_1_years_bb_center = severe_injured\n",
    "# light_injured_1_years_bb_center = light_injured\n",
    "# score_1_years_bb_center = score"
   ]
  },
  {
   "cell_type": "markdown",
   "metadata": {},
   "source": [
    "#### Get injured in 1.2 km box and past 2 years"
   ]
  },
  {
   "cell_type": "code",
   "execution_count": 45,
   "metadata": {
    "ExecuteTime": {
     "end_time": "2020-08-18T21:57:38.727369Z",
     "start_time": "2020-08-18T21:57:38.724213Z"
    }
   },
   "outputs": [],
   "source": [
    "# lat_min, lon_min, lat_max, lon_max = get_bounding_box(bb_center_latitude, bb_center_longitude, 0.6)\n",
    "# baseX = lon_min\n",
    "# baseY = lat_min\n",
    "# distanceX = lon_max\n",
    "# distanceY = lat_max"
   ]
  },
  {
   "cell_type": "code",
   "execution_count": 46,
   "metadata": {
    "ExecuteTime": {
     "end_time": "2020-08-18T21:57:39.190158Z",
     "start_time": "2020-08-18T21:57:39.186660Z"
    }
   },
   "outputs": [],
   "source": [
    "# injured_coor = total_df.loc[((total_df.accident_timestamp >= pd.Timestamp('2018-06-01')) & (total_df.accident_timestamp <= pd.Timestamp('2020-05-31')))]\n"
   ]
  },
  {
   "cell_type": "code",
   "execution_count": 47,
   "metadata": {
    "ExecuteTime": {
     "end_time": "2020-08-18T21:57:39.632811Z",
     "start_time": "2020-08-18T21:57:39.628288Z"
    }
   },
   "outputs": [],
   "source": [
    "# injured_coor = injured_coor.loc[:,['inv_unique_id', 'longitude', 'latitude', 'injury_severity', 'provider_and_id']].to_dict(orient='records')\n",
    "\n",
    "# coords = []\n",
    "# poly = Polygon([(baseX, baseY), \n",
    "#                 (baseX, distanceY),\n",
    "#                 (distanceX, distanceY),\n",
    "#                 (distanceX, baseY)])\n",
    "# injured_in_2km_box = [(r['inv_unique_id'], r['injury_severity'], r['provider_and_id']) for r in injured_coor if poly.contains(Point(r['longitude'], r['latitude']))]\n"
   ]
  },
  {
   "cell_type": "code",
   "execution_count": 48,
   "metadata": {
    "ExecuteTime": {
     "end_time": "2020-08-18T21:57:40.061873Z",
     "start_time": "2020-08-18T21:57:40.059081Z"
    }
   },
   "outputs": [],
   "source": [
    "# len(set(injured_in_2km_box))"
   ]
  },
  {
   "cell_type": "code",
   "execution_count": 49,
   "metadata": {
    "ExecuteTime": {
     "end_time": "2020-08-18T21:57:40.673028Z",
     "start_time": "2020-08-18T21:57:40.669719Z"
    }
   },
   "outputs": [],
   "source": [
    "# tmp_df = pd.DataFrame(injured_in_2km_box)\n",
    "# tmp_df.columns = ['inv_unique_id', 'injury_severity', 'provider_and_id']"
   ]
  },
  {
   "cell_type": "code",
   "execution_count": 50,
   "metadata": {
    "ExecuteTime": {
     "end_time": "2020-08-18T21:57:41.095341Z",
     "start_time": "2020-08-18T21:57:41.092308Z"
    }
   },
   "outputs": [],
   "source": [
    "# killed = tmp_df.loc[tmp_df.loc[:,'injury_severity'] == 1].inv_unique_id.nunique()\n",
    "# severe_injured = tmp_df.loc[tmp_df.loc[:,'injury_severity'] == 2].inv_unique_id.nunique()\n",
    "# light_injured = tmp_df.loc[tmp_df.loc[:,'injury_severity'] == 3].inv_unique_id.nunique()\n",
    "# total_accidents = tmp_df.provider_and_id.nunique()\n",
    "# score = (killed * killed_weight + severe_injured * severe_weight  + light_injured * light_weight) * (total_accidents)\n"
   ]
  },
  {
   "cell_type": "code",
   "execution_count": 51,
   "metadata": {
    "ExecuteTime": {
     "end_time": "2020-08-18T21:57:41.492757Z",
     "start_time": "2020-08-18T21:57:41.490169Z"
    }
   },
   "outputs": [],
   "source": [
    "# killed_2_years_bb_center = killed\n",
    "# severe_injured_2_years_bb_center = severe_injured\n",
    "# light_injured_2_years_bb_center = light_injured\n",
    "# score_2_years_bb_center = score"
   ]
  },
  {
   "cell_type": "markdown",
   "metadata": {},
   "source": [
    "#### get injured in 1.4 km box in 5 past years"
   ]
  },
  {
   "cell_type": "code",
   "execution_count": 52,
   "metadata": {
    "ExecuteTime": {
     "end_time": "2020-08-18T21:57:42.613036Z",
     "start_time": "2020-08-18T21:57:42.610065Z"
    }
   },
   "outputs": [],
   "source": [
    "# bne_brak_centers = [(32.0796081158354, 34.8389644813985), \n",
    "#                     (32.07985, 34.82885), \n",
    "#                     (32.087962, 34.837221), \n",
    "#                     (32.08851, 34.83872), \n",
    "#                     (32.088652004717396, 34.8276336323172)]\n",
    "# #jerusalem_centers = [(31.7884109666217 , 35.2184809779075)]\n",
    "# #jerusalem_centers = [(31.7884109666217 , 35.2184809779075)]\n"
   ]
  },
  {
   "cell_type": "code",
   "execution_count": 53,
   "metadata": {
    "ExecuteTime": {
     "end_time": "2020-08-18T21:57:43.072911Z",
     "start_time": "2020-08-18T21:57:43.069162Z"
    }
   },
   "outputs": [],
   "source": [
    "all_centers = [(32.0419758, 34.7551301), (31.7933933, 35.2206836)]\n",
    "# yaffa, jerusalem\n",
    "# (32.087962, 34.837221), (32.0776251193842, 34.8358981236088), \n",
    "# bne brak1, bne brak2 ישיבת דרכי דוד\n"
   ]
  },
  {
   "cell_type": "code",
   "execution_count": 67,
   "metadata": {
    "ExecuteTime": {
     "end_time": "2020-08-18T22:00:12.979403Z",
     "start_time": "2020-08-18T22:00:08.422583Z"
    }
   },
   "outputs": [
    {
     "name": "stdout",
     "output_type": "stream",
     "text": [
      "[(34.83191359919606, 32.0834653919704), (34.83191359919606, 32.09245860802959), (34.84252840080394, 32.09245860802959), (34.84252840080394, 32.0834653919704)]\n",
      "[(34.830591323022695, 32.073128511354604), (34.830591323022695, 32.08212172741379), (34.841204924194905, 32.08212172741379), (34.841204924194905, 32.073128511354604)]\n",
      "[(34.749825367050114, 32.03747919197041), (34.749825367050114, 32.0464724080296), (34.76043483294989, 32.0464724080296), (34.76043483294989, 32.03747919197041)]\n",
      "[(35.21539318317766, 31.788896691970407), (35.21539318317766, 31.797889908029596), (35.22597401682234, 31.797889908029596), (35.22597401682234, 31.788896691970407)]\n"
     ]
    }
   ],
   "source": [
    "fake_id = -1\n",
    "analysis = defaultdict(dict)\n",
    "all_schools_to_exclude = []\n",
    "schools_to_exclude_lists = []\n",
    "for center_lat, center_lon in all_centers:\n",
    "    lat_min, lon_min, lat_max, lon_max = get_bounding_box(center_lat, center_lon, 0.5)\n",
    "    baseX = lon_min\n",
    "    baseY = lat_min\n",
    "    distanceX = lon_max\n",
    "    distanceY = lat_max\n",
    "\n",
    "    poly = Polygon([(baseX, baseY), \n",
    "                    (baseX, distanceY),\n",
    "                    (distanceX, distanceY),\n",
    "                    (distanceX, baseY)])\n",
    "    print([(baseX, baseY), \n",
    "                    (baseX, distanceY),\n",
    "                    (distanceX, distanceY),\n",
    "                    (distanceX, baseY)])\n",
    "    bnbr_schools = total_df.drop_duplicates(['school_id','school_longitude', 'school_latitude']).loc[:,['school_id','school_longitude', 'school_latitude']].to_dict(orient='records')\n",
    "    schools_in_1km_box = [r['school_id'] for r in bnbr_schools if poly.contains(Point(r['school_longitude'], r['school_latitude']))]\n",
    "    all_schools_to_exclude += schools_in_1km_box\n",
    "    schools_to_exclude_lists.append(schools_in_1km_box)\n",
    "    \n",
    "    \n",
    "    injured_coor = total_df.loc[((total_df.accident_timestamp >= pd.Timestamp('2015-06-01')) & (total_df.accident_timestamp <= pd.Timestamp('2020-05-31')))]\n",
    "    injured_coor = injured_coor.loc[:,['inv_unique_id', 'longitude', 'latitude', 'injury_severity', 'provider_and_id', 'school_yishuv_name']].to_dict(orient='records')\n",
    "\n",
    "    injured_in_1km_box = [(r['inv_unique_id'], r['injury_severity'], r['provider_and_id'], r['school_yishuv_name']) for r in injured_coor if poly.contains(Point(r['longitude'], r['latitude']))]\n",
    "    tmp_df = pd.DataFrame(injured_in_1km_box)\n",
    "    tmp_df.columns = ['inv_unique_id', 'injury_severity', 'provider_and_id', 'school_yishuv_name']\n",
    "    \n",
    "    killed = tmp_df.loc[tmp_df.loc[:,'injury_severity'] == 1].inv_unique_id.nunique()\n",
    "    severe_injured = tmp_df.loc[tmp_df.loc[:,'injury_severity'] == 2].inv_unique_id.nunique()\n",
    "    light_injured = tmp_df.loc[tmp_df.loc[:,'injury_severity'] == 3].inv_unique_id.nunique()\n",
    "    total_accidents = tmp_df.provider_and_id.nunique()\n",
    "    score = (killed * killed_weight + severe_injured * severe_weight  + light_injured * light_weight) * (total_accidents)\n",
    "    \n",
    "    \n",
    "    school_yishuv_name = tmp_df.school_yishuv_name.iloc[0] \n",
    "    analysis[fake_id]['score'] = score\n",
    "    analysis[fake_id]['school_name'] = school_yishuv_name + 'מקבץ בתי״ס ' + str(-fake_id)\n",
    "    analysis[fake_id]['school_yishuv_name'] = tmp_df.school_yishuv_name.iloc[0]\n",
    "    analysis[fake_id]['killed'] = killed\n",
    "    analysis[fake_id]['severe_injured'] = severe_injured\n",
    "    analysis[fake_id]['light_injured'] = light_injured\n",
    "    analysis[fake_id]['total_accidents'] = total_accidents\n",
    "    analysis[fake_id]['school_longitude'] = center_lon\n",
    "    analysis[fake_id]['school_latitude'] = center_lat\n",
    "    fake_id -= 1"
   ]
  },
  {
   "cell_type": "markdown",
   "metadata": {},
   "source": [
    "### Get values of past 5 years - June 2015 - May 2020 and calculate formula using נוהל פר״ת"
   ]
  },
  {
   "cell_type": "code",
   "execution_count": 68,
   "metadata": {
    "ExecuteTime": {
     "end_time": "2020-08-18T22:00:12.989103Z",
     "start_time": "2020-08-18T22:00:12.982889Z"
    }
   },
   "outputs": [],
   "source": [
    "killed_weight = 6600/7581\n",
    "severe_weight = 956/7581\n",
    "light_weight = 25/7581"
   ]
  },
  {
   "cell_type": "code",
   "execution_count": 69,
   "metadata": {
    "ExecuteTime": {
     "end_time": "2020-08-18T22:00:12.995994Z",
     "start_time": "2020-08-18T22:00:12.993469Z"
    }
   },
   "outputs": [],
   "source": [
    "#analysis = defaultdict(dict)"
   ]
  },
  {
   "cell_type": "code",
   "execution_count": 70,
   "metadata": {
    "ExecuteTime": {
     "end_time": "2020-08-18T22:00:37.525007Z",
     "start_time": "2020-08-18T22:00:13.004937Z"
    }
   },
   "outputs": [],
   "source": [
    "schools_df = total_df.copy()\n",
    "for school_id in schools_df.school_id.unique():\n",
    "    if school_id in all_schools_to_exclude:\n",
    "        continue\n",
    "    school_df = schools_df.loc[schools_df.school_id == school_id]\n",
    "    df = school_df.loc[(school_df.accident_timestamp >= pd.Timestamp('2015-06-01')) & (school_df.accident_timestamp <= pd.Timestamp('2020-05-31'))]\n",
    "    killed = df.loc[df.injury_severity_hebrew == 'הרוג'].inv_unique_id.nunique()\n",
    "    severe_injured = df.loc[df.injury_severity_hebrew == 'פצוע קשה'].inv_unique_id.nunique()\n",
    "    light_injured = df.loc[df.injury_severity_hebrew == 'פצוע קל'].inv_unique_id.nunique()\n",
    "    total_accidents = df.provider_and_id.nunique()\n",
    "    score = (killed * killed_weight + severe_injured * severe_weight  + light_injured * light_weight) * (total_accidents)\n",
    "    analysis[school_id]['score'] = score\n",
    "    analysis[school_id]['school_name'] = school_df.school_name.iloc[0]\n",
    "    analysis[school_id]['school_yishuv_name'] = school_df.school_yishuv_name.iloc[0]\n",
    "    analysis[school_id]['killed'] = killed\n",
    "    analysis[school_id]['severe_injured'] = severe_injured\n",
    "    analysis[school_id]['light_injured'] = light_injured\n",
    "    analysis[school_id]['school_longitude'] = school_df.school_longitude.iloc[0]\n",
    "    analysis[school_id]['school_latitude'] = school_df.school_latitude.iloc[0]\n",
    "analysis = pd.DataFrame(analysis).T"
   ]
  },
  {
   "cell_type": "code",
   "execution_count": 71,
   "metadata": {
    "ExecuteTime": {
     "end_time": "2020-08-18T22:00:37.556180Z",
     "start_time": "2020-08-18T22:00:37.533174Z"
    }
   },
   "outputs": [],
   "source": [
    "analysis.sort_values('score', inplace=True, ascending=False)"
   ]
  },
  {
   "cell_type": "code",
   "execution_count": 72,
   "metadata": {
    "ExecuteTime": {
     "end_time": "2020-08-18T22:00:37.615232Z",
     "start_time": "2020-08-18T22:00:37.564589Z"
    }
   },
   "outputs": [],
   "source": [
    "analysis.to_csv('schools_01_06_15__31_05_20_mikbatz.csv')"
   ]
  },
  {
   "cell_type": "code",
   "execution_count": 61,
   "metadata": {
    "ExecuteTime": {
     "end_time": "2020-08-18T21:58:45.748174Z",
     "start_time": "2020-08-18T21:58:45.675510Z"
    }
   },
   "outputs": [
    {
     "data": {
      "text/plain": [
       "193"
      ]
     },
     "execution_count": 61,
     "metadata": {},
     "output_type": "execute_result"
    }
   ],
   "source": [
    "total_df.loc[total_df.school_yishuv_name == 'בני ברק'].school_id.nunique()"
   ]
  },
  {
   "cell_type": "code",
   "execution_count": 62,
   "metadata": {
    "ExecuteTime": {
     "end_time": "2020-08-18T21:58:45.762938Z",
     "start_time": "2020-08-18T21:58:45.754377Z"
    }
   },
   "outputs": [
    {
     "data": {
      "text/plain": [
       "False"
      ]
     },
     "execution_count": 62,
     "metadata": {},
     "output_type": "execute_result"
    }
   ],
   "source": [
    "512111 in all_schools_to_exclude"
   ]
  },
  {
   "cell_type": "code",
   "execution_count": 63,
   "metadata": {
    "ExecuteTime": {
     "end_time": "2020-08-18T21:58:45.772107Z",
     "start_time": "2020-08-18T21:58:45.766087Z"
    }
   },
   "outputs": [
    {
     "data": {
      "text/plain": [
       "151"
      ]
     },
     "execution_count": 63,
     "metadata": {},
     "output_type": "execute_result"
    }
   ],
   "source": [
    "len(all_schools_to_exclude)"
   ]
  },
  {
   "cell_type": "code",
   "execution_count": 64,
   "metadata": {
    "ExecuteTime": {
     "end_time": "2020-08-18T21:58:45.784283Z",
     "start_time": "2020-08-18T21:58:45.776735Z"
    }
   },
   "outputs": [
    {
     "data": {
      "text/plain": [
       "[28, 62, 5, 56]"
      ]
     },
     "execution_count": 64,
     "metadata": {},
     "output_type": "execute_result"
    }
   ],
   "source": [
    "[len(ls) for ls in schools_to_exclude_lists]"
   ]
  },
  {
   "cell_type": "code",
   "execution_count": 65,
   "metadata": {
    "ExecuteTime": {
     "end_time": "2020-08-18T21:58:45.793516Z",
     "start_time": "2020-08-18T21:58:45.787840Z"
    }
   },
   "outputs": [
    {
     "data": {
      "text/plain": [
       "151"
      ]
     },
     "execution_count": 65,
     "metadata": {},
     "output_type": "execute_result"
    }
   ],
   "source": [
    "len(set(all_schools_to_exclude))"
   ]
  },
  {
   "cell_type": "code",
   "execution_count": 66,
   "metadata": {
    "ExecuteTime": {
     "end_time": "2020-08-18T21:58:45.831722Z",
     "start_time": "2020-08-18T21:58:45.801933Z"
    }
   },
   "outputs": [
    {
     "ename": "NameError",
     "evalue": "name 'a' is not defined",
     "output_type": "error",
     "traceback": [
      "\u001b[0;31m---------------------------------------------------------------------------\u001b[0m",
      "\u001b[0;31mNameError\u001b[0m                                 Traceback (most recent call last)",
      "\u001b[0;32m<ipython-input-66-3f786850e387>\u001b[0m in \u001b[0;36m<module>\u001b[0;34m\u001b[0m\n\u001b[0;32m----> 1\u001b[0;31m \u001b[0ma\u001b[0m\u001b[0;34m\u001b[0m\u001b[0;34m\u001b[0m\u001b[0m\n\u001b[0m",
      "\u001b[0;31mNameError\u001b[0m: name 'a' is not defined"
     ]
    }
   ],
   "source": [
    "a"
   ]
  },
  {
   "cell_type": "markdown",
   "metadata": {},
   "source": [
    "### Compare cities"
   ]
  },
  {
   "cell_type": "code",
   "execution_count": 73,
   "metadata": {
    "ExecuteTime": {
     "end_time": "2020-08-18T22:05:07.567881Z",
     "start_time": "2020-08-18T22:05:05.968090Z"
    }
   },
   "outputs": [],
   "source": [
    "yishuv_analysis = defaultdict(dict)\n",
    "schools_df = total_df.copy()\n",
    "for school_yishuv_name in schools_df.school_yishuv_name.unique():\n",
    "    yishuv_df = schools_df.loc[schools_df.school_yishuv_name == school_yishuv_name]\n",
    "    df = yishuv_df.loc[(yishuv_df.accident_timestamp >= pd.Timestamp('2015-06-01')) & (yishuv_df.accident_timestamp <= pd.Timestamp('2020-05-31'))]\n",
    "    killed = df.loc[df.injury_severity_hebrew == 'הרוג'].inv_unique_id.nunique()\n",
    "    severe_injured = df.loc[df.injury_severity_hebrew == 'פצוע קשה'].inv_unique_id.nunique()\n",
    "    light_injured = df.loc[df.injury_severity_hebrew == 'פצוע קל'].inv_unique_id.nunique()\n",
    "    score = (killed * killed_weight + severe_injured * severe_weight  + light_injured * light_weight) * (killed + severe_injured + light_injured)\n",
    "    yishuv_analysis[school_yishuv_name]['score'] = score\n",
    "    yishuv_analysis[school_yishuv_name]['school_yishuv_name'] = school_yishuv_name\n",
    "    yishuv_analysis[school_yishuv_name]['killed'] = killed\n",
    "    yishuv_analysis[school_yishuv_name]['severe_injured'] = severe_injured\n",
    "    yishuv_analysis[school_yishuv_name]['light_injured'] = light_injured\n",
    "yishuv_analysis = pd.DataFrame(yishuv_analysis).T\n"
   ]
  },
  {
   "cell_type": "code",
   "execution_count": 77,
   "metadata": {
    "ExecuteTime": {
     "end_time": "2020-08-18T22:42:55.228622Z",
     "start_time": "2020-08-18T22:42:55.218434Z"
    }
   },
   "outputs": [
    {
     "data": {
      "text/html": [
       "<div>\n",
       "<style scoped>\n",
       "    .dataframe tbody tr th:only-of-type {\n",
       "        vertical-align: middle;\n",
       "    }\n",
       "\n",
       "    .dataframe tbody tr th {\n",
       "        vertical-align: top;\n",
       "    }\n",
       "\n",
       "    .dataframe thead th {\n",
       "        text-align: right;\n",
       "    }\n",
       "</style>\n",
       "<table border=\"1\" class=\"dataframe\">\n",
       "  <thead>\n",
       "    <tr style=\"text-align: right;\">\n",
       "      <th></th>\n",
       "      <th>score</th>\n",
       "      <th>school_yishuv_name</th>\n",
       "      <th>killed</th>\n",
       "      <th>severe_injured</th>\n",
       "      <th>light_injured</th>\n",
       "    </tr>\n",
       "  </thead>\n",
       "  <tbody>\n",
       "    <tr>\n",
       "      <th>מודיעין עילית</th>\n",
       "      <td>151.051</td>\n",
       "      <td>מודיעין עילית</td>\n",
       "      <td>2</td>\n",
       "      <td>12</td>\n",
       "      <td>31</td>\n",
       "    </tr>\n",
       "  </tbody>\n",
       "</table>\n",
       "</div>"
      ],
      "text/plain": [
       "                 score school_yishuv_name killed severe_injured light_injured\n",
       "מודיעין עילית  151.051      מודיעין עילית      2             12            31"
      ]
     },
     "execution_count": 77,
     "metadata": {},
     "output_type": "execute_result"
    }
   ],
   "source": [
    "yishuv_analysis[yishuv_analysis.school_yishuv_name == 'מודיעין עילית']"
   ]
  },
  {
   "cell_type": "code",
   "execution_count": null,
   "metadata": {
    "ExecuteTime": {
     "end_time": "2020-08-18T21:54:44.275349Z",
     "start_time": "2020-08-18T21:51:36.759Z"
    }
   },
   "outputs": [],
   "source": [
    "yishuv_analysis.sort_values('score', ascending=False).iloc[0:40]"
   ]
  },
  {
   "cell_type": "code",
   "execution_count": null,
   "metadata": {
    "ExecuteTime": {
     "end_time": "2020-08-18T21:54:44.277818Z",
     "start_time": "2020-08-18T21:51:36.762Z"
    }
   },
   "outputs": [],
   "source": [
    "yishuv_analysis.sort_values('score', ascending=False)"
   ]
  },
  {
   "cell_type": "code",
   "execution_count": null,
   "metadata": {
    "ExecuteTime": {
     "end_time": "2020-08-18T21:54:44.279902Z",
     "start_time": "2020-08-18T21:51:36.764Z"
    }
   },
   "outputs": [],
   "source": [
    "yishuv_analysis[yishuv_analysis.score > 0].sort_values('score', ascending=False)"
   ]
  },
  {
   "cell_type": "markdown",
   "metadata": {},
   "source": [
    "### load yishuv data"
   ]
  },
  {
   "cell_type": "code",
   "execution_count": null,
   "metadata": {
    "ExecuteTime": {
     "end_time": "2020-08-18T21:54:44.283185Z",
     "start_time": "2020-08-18T21:51:36.767Z"
    }
   },
   "outputs": [],
   "source": [
    "yishuv_data = pd.read_csv(os.path.join('static/data/schools/yishuv_data.csv'), index_col=None, header=0)"
   ]
  },
  {
   "cell_type": "code",
   "execution_count": null,
   "metadata": {
    "ExecuteTime": {
     "end_time": "2020-08-18T21:54:44.285439Z",
     "start_time": "2020-08-18T21:51:36.771Z"
    }
   },
   "outputs": [],
   "source": [
    "yishuv_data.columns"
   ]
  },
  {
   "cell_type": "code",
   "execution_count": null,
   "metadata": {
    "ExecuteTime": {
     "end_time": "2020-08-18T21:54:44.287797Z",
     "start_time": "2020-08-18T21:51:36.773Z"
    }
   },
   "outputs": [],
   "source": [
    "yishuv_data['5_19_population'] = ( \n",
    "                                 yishuv_data['בני 9-5'] + \\\n",
    "                                 yishuv_data['בני 14-10'] + \\\n",
    "                                 yishuv_data['בני 19-15'] ) * 1000 * yishuv_data['סה\"כ אוכלוסייה בסוף השנה (אלפים)'] / 100\n"
   ]
  },
  {
   "cell_type": "code",
   "execution_count": null,
   "metadata": {
    "ExecuteTime": {
     "end_time": "2020-08-18T21:54:44.292229Z",
     "start_time": "2020-08-18T21:51:36.776Z"
    }
   },
   "outputs": [],
   "source": [
    "yishuv_data.set_index('שם  הרשות', inplace=True)"
   ]
  },
  {
   "cell_type": "code",
   "execution_count": null,
   "metadata": {
    "ExecuteTime": {
     "end_time": "2020-08-18T21:54:44.294472Z",
     "start_time": "2020-08-18T21:51:36.778Z"
    }
   },
   "outputs": [],
   "source": [
    "yishuv_data.index = yishuv_data.index.str.strip().str.replace('-', ' ').str.replace('  ', ' ').str.replace('  ', ' ').str.replace('יי', 'י').str.replace('\"', '').str.replace(\"'\", '').str.replace('*','').str.replace('מכבים רעות','מכבים')\n",
    "\n"
   ]
  },
  {
   "cell_type": "code",
   "execution_count": null,
   "metadata": {
    "ExecuteTime": {
     "end_time": "2020-08-18T21:54:44.297384Z",
     "start_time": "2020-08-18T21:51:36.781Z"
    }
   },
   "outputs": [],
   "source": [
    "yishuv_analysis.index = yishuv_analysis.index.str.strip().str.replace('-', ' ').str.replace('  ', ' ').str.replace('  ', ' ').str.replace('יי', 'י').str.replace('\"', '').str.replace(\"'\", '').str.replace('*','').str.replace('מכבים רעות','מכבים')\n"
   ]
  },
  {
   "cell_type": "code",
   "execution_count": null,
   "metadata": {
    "ExecuteTime": {
     "end_time": "2020-08-18T21:54:44.299206Z",
     "start_time": "2020-08-18T21:51:36.783Z"
    }
   },
   "outputs": [],
   "source": [
    "merged = yishuv_analysis.join(yishuv_data)"
   ]
  },
  {
   "cell_type": "code",
   "execution_count": null,
   "metadata": {
    "ExecuteTime": {
     "end_time": "2020-08-18T21:54:44.302310Z",
     "start_time": "2020-08-18T21:51:36.786Z"
    }
   },
   "outputs": [],
   "source": [
    "merged['normalized_score'] = merged['score'] / merged['5_19_population']"
   ]
  },
  {
   "cell_type": "code",
   "execution_count": null,
   "metadata": {
    "ExecuteTime": {
     "end_time": "2020-08-18T21:54:44.303810Z",
     "start_time": "2020-08-18T21:51:36.789Z"
    }
   },
   "outputs": [],
   "source": [
    "merged.dropna(subset=['normalized_score'], inplace=True)"
   ]
  },
  {
   "cell_type": "code",
   "execution_count": null,
   "metadata": {
    "ExecuteTime": {
     "end_time": "2020-08-18T21:54:44.306518Z",
     "start_time": "2020-08-18T21:51:36.792Z"
    }
   },
   "outputs": [],
   "source": [
    "merged.sort_values('5_19_population', ascending=False).loc[:,['score', 'normalized_score', 'killed', 'severe_injured', 'light_injured', '5_19_population']].to_csv('results_2020_yishuv_table.csv')\n",
    "                                                       "
   ]
  }
 ],
 "metadata": {
  "hide_input": false,
  "kernelspec": {
   "display_name": "Python 3",
   "language": "python",
   "name": "python3"
  },
  "language_info": {
   "codemirror_mode": {
    "name": "ipython",
    "version": 3
   },
   "file_extension": ".py",
   "mimetype": "text/x-python",
   "name": "python",
   "nbconvert_exporter": "python",
   "pygments_lexer": "ipython3",
   "version": "3.7.6"
  },
  "toc": {
   "base_numbering": 1,
   "nav_menu": {},
   "number_sections": true,
   "sideBar": true,
   "skip_h1_title": false,
   "title_cell": "Table of Contents",
   "title_sidebar": "Contents",
   "toc_cell": true,
   "toc_position": {
    "height": "calc(100% - 180px)",
    "left": "10px",
    "top": "150px",
    "width": "194px"
   },
   "toc_section_display": true,
   "toc_window_display": true
  }
 },
 "nbformat": 4,
 "nbformat_minor": 4
}
